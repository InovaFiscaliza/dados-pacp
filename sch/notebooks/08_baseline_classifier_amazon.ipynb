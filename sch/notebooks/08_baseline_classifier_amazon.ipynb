{
 "cells": [
  {
   "cell_type": "markdown",
   "id": "b47312c8-4a73-4aa3-b614-7b43580fa498",
   "metadata": {},
   "source": [
    "# Preparação do ambiente"
   ]
  },
  {
   "cell_type": "markdown",
   "id": "25fa99ec-c912-4433-9ec0-0da4b4f6635f",
   "metadata": {},
   "source": [
    "## Bibliotecas"
   ]
  },
  {
   "cell_type": "code",
   "execution_count": 10,
   "id": "52989da2-a5e5-4fad-93a3-36f9d9462161",
   "metadata": {},
   "outputs": [],
   "source": [
    "import matplotlib.pyplot as plt\n",
    "import numpy as np\n",
    "import pandas as pd\n",
    "import re\n",
    "import unidecode\n",
    "import warnings \n",
    "\n",
    "from nltk.corpus import stopwords\n",
    "from nltk.tokenize import word_tokenize\n",
    "\n",
    "from sklearn.decomposition import TruncatedSVD\n",
    "from sklearn.dummy import DummyClassifier\n",
    "from sklearn.feature_extraction.text import TfidfVectorizer\n",
    "from sklearn.linear_model import SGDClassifier\n",
    "from sklearn.metrics import classification_report\n",
    "from sklearn.metrics import roc_auc_score\n",
    "from sklearn.model_selection import GridSearchCV\n",
    "from sklearn.model_selection import train_test_split\n",
    "from sklearn.pipeline import Pipeline\n",
    "\n",
    "from string import punctuation"
   ]
  },
  {
   "cell_type": "code",
   "execution_count": 2,
   "id": "a3ece6c2-7a57-4474-8d2b-f8874a205811",
   "metadata": {},
   "outputs": [],
   "source": [
    "# Settings the warnings to be ignored \n",
    "warnings.filterwarnings('ignore')"
   ]
  },
  {
   "cell_type": "markdown",
   "id": "eeab38bd-bfd7-4c13-9344-f2ff45111801",
   "metadata": {},
   "source": [
    "## Constantes e funções auxiliares"
   ]
  },
  {
   "cell_type": "code",
   "execution_count": 3,
   "id": "ea62814d-fde8-4327-84a3-34f80b5cc317",
   "metadata": {},
   "outputs": [],
   "source": [
    "def tokenizer(doc):\n",
    "    doc = doc.lower()\n",
    "    doc = unidecode.unidecode(doc)\n",
    "    \n",
    "    # uniformizar termos\n",
    "    patterns = [('wi\\s?.?fi', 'wifi'), \n",
    "                ('2,4', '2.4'), \n",
    "                ('5,8', '5.8')]\n",
    "    for pattern, repl in patterns:\n",
    "        doc = re.sub(pattern, repl, doc)\n",
    "    \n",
    "    stop_words = stopwords.words('portuguese')\n",
    "    stop_words.extend(stopwords.words('english'))\n",
    "    stop_words.extend(list(punctuation))\n",
    "    # stopwords específicas do domínio\n",
    "    stop_words.extend(['cm', 'feature', 'features', 'informações', 'itens', 'leve', 'list', 'nulo', 'package', 'pacote', 'pacotes', 'recurso', 'tamanho', 'ver', 'unidades', 'fio', 'universal'])\n",
    "    # cores mais comumns\n",
    "    stop_words.extend(['preto', 'cinza', 'branco', 'rosa', 'vermelho', 'laranja', 'amarelo', 'verde', 'azul', 'roxo', 'marrom'])\n",
    "    # remover da lista de stopwords a palavra sem para formar o bigrama \"sem fio\", que pode ser relevante para o domínio\n",
    "    # stop_words.remove('sem') \n",
    "    \n",
    "    tokens = [token for token in word_tokenize(doc) if token not in stop_words]\n",
    "    return tokens\n",
    "\n",
    "def doc_cleaner(doc):\n",
    "    tokens = tokenizer(doc)\n",
    "    return ' '.join(tokens) "
   ]
  },
  {
   "cell_type": "markdown",
   "id": "ce5bde4a-70f0-4d17-bb9e-3a07636d3e9d",
   "metadata": {},
   "source": [
    "# Carga e prepação dos dados"
   ]
  },
  {
   "cell_type": "code",
   "execution_count": 4,
   "id": "3c000094-be35-46ee-8686-91e5cf56fc0e",
   "metadata": {},
   "outputs": [
    {
     "data": {
      "text/html": [
       "<div>\n",
       "<style scoped>\n",
       "    .dataframe tbody tr th:only-of-type {\n",
       "        vertical-align: middle;\n",
       "    }\n",
       "\n",
       "    .dataframe tbody tr th {\n",
       "        vertical-align: top;\n",
       "    }\n",
       "\n",
       "    .dataframe thead th {\n",
       "        text-align: right;\n",
       "    }\n",
       "</style>\n",
       "<table border=\"1\" class=\"dataframe\">\n",
       "  <thead>\n",
       "    <tr style=\"text-align: right;\">\n",
       "      <th></th>\n",
       "      <th>doc</th>\n",
       "      <th>clean_doc</th>\n",
       "      <th>labeled_category</th>\n",
       "      <th>telecom_product</th>\n",
       "      <th>rf_transmitter</th>\n",
       "      <th>category</th>\n",
       "    </tr>\n",
       "  </thead>\n",
       "  <tbody>\n",
       "    <tr>\n",
       "      <th>0</th>\n",
       "      <td>Antena WiFi omnidirecional 2 peças, antena 4DB...</td>\n",
       "      <td>antena wifi omnidirecional 2 pecas antena 4dbi...</td>\n",
       "      <td>Antena</td>\n",
       "      <td>1</td>\n",
       "      <td>1</td>\n",
       "      <td>0</td>\n",
       "    </tr>\n",
       "    <tr>\n",
       "      <th>1</th>\n",
       "      <td>Kesoto 2 peças macho 2,4 GHz 5 Ghz 5,8 Ghz ant...</td>\n",
       "      <td>kesoto 2 pecas macho 2.4 ghz 5 ghz 5.8 ghz ant...</td>\n",
       "      <td>Antena</td>\n",
       "      <td>1</td>\n",
       "      <td>1</td>\n",
       "      <td>0</td>\n",
       "    </tr>\n",
       "    <tr>\n",
       "      <th>2</th>\n",
       "      <td>Hemobllo Antenas 5 Unidades módulo transceptor...</td>\n",
       "      <td>hemobllo antenas 5 modulo transceptor antena b...</td>\n",
       "      <td>Antena</td>\n",
       "      <td>1</td>\n",
       "      <td>1</td>\n",
       "      <td>0</td>\n",
       "    </tr>\n",
       "    <tr>\n",
       "      <th>3</th>\n",
       "      <td>3 peças placa de rede sem fio WiFi antena rote...</td>\n",
       "      <td>3 pecas placa rede wifi antena roteador 2.4g/5...</td>\n",
       "      <td>Antena</td>\n",
       "      <td>1</td>\n",
       "      <td>1</td>\n",
       "      <td>0</td>\n",
       "    </tr>\n",
       "    <tr>\n",
       "      <th>4</th>\n",
       "      <td>Angoily 2 Unidades Substituição Da Antena Bast...</td>\n",
       "      <td>angoily 2 substituicao antena bastoes cola rec...</td>\n",
       "      <td>Antena</td>\n",
       "      <td>1</td>\n",
       "      <td>1</td>\n",
       "      <td>0</td>\n",
       "    </tr>\n",
       "    <tr>\n",
       "      <th>...</th>\n",
       "      <td>...</td>\n",
       "      <td>...</td>\n",
       "      <td>...</td>\n",
       "      <td>...</td>\n",
       "      <td>...</td>\n",
       "      <td>...</td>\n",
       "    </tr>\n",
       "    <tr>\n",
       "      <th>2086</th>\n",
       "      <td>Gps para Bike Xoss G Bluetooth Mtb Speed</td>\n",
       "      <td>gps bike xoss g bluetooth mtb speed</td>\n",
       "      <td>Transceptor de Radiação Restrita</td>\n",
       "      <td>1</td>\n",
       "      <td>2</td>\n",
       "      <td>25</td>\n",
       "    </tr>\n",
       "    <tr>\n",
       "      <th>2087</th>\n",
       "      <td>Módulo AUX Bluetooth para carro, 11Pin Bluetoo...</td>\n",
       "      <td>modulo aux bluetooth carro 11pin bluetooth 5.0...</td>\n",
       "      <td>Transceptor de Radiação Restrita</td>\n",
       "      <td>1</td>\n",
       "      <td>2</td>\n",
       "      <td>25</td>\n",
       "    </tr>\n",
       "    <tr>\n",
       "      <th>2088</th>\n",
       "      <td>Operitacx Batente De Porta Protetor De Parada ...</td>\n",
       "      <td>operitacx batente porta protetor parada piso p...</td>\n",
       "      <td>Outros</td>\n",
       "      <td>0</td>\n",
       "      <td>0</td>\n",
       "      <td>18</td>\n",
       "    </tr>\n",
       "    <tr>\n",
       "      <th>2089</th>\n",
       "      <td>Tecido de Faraday de 43 x 39 polegadas, tecido...</td>\n",
       "      <td>tecido faraday 43 x 39 polegadas tecido farada...</td>\n",
       "      <td>Outros</td>\n",
       "      <td>0</td>\n",
       "      <td>0</td>\n",
       "      <td>18</td>\n",
       "    </tr>\n",
       "    <tr>\n",
       "      <th>2090</th>\n",
       "      <td>Wyze Campainha de vídeo sem fio Pro (campainha...</td>\n",
       "      <td>wyze campainha video pro campainha incluida vi...</td>\n",
       "      <td>Transceptor de Radiação Restrita</td>\n",
       "      <td>1</td>\n",
       "      <td>2</td>\n",
       "      <td>25</td>\n",
       "    </tr>\n",
       "  </tbody>\n",
       "</table>\n",
       "<p>2091 rows × 6 columns</p>\n",
       "</div>"
      ],
      "text/plain": [
       "                                                    doc  \\\n",
       "0     Antena WiFi omnidirecional 2 peças, antena 4DB...   \n",
       "1     Kesoto 2 peças macho 2,4 GHz 5 Ghz 5,8 Ghz ant...   \n",
       "2     Hemobllo Antenas 5 Unidades módulo transceptor...   \n",
       "3     3 peças placa de rede sem fio WiFi antena rote...   \n",
       "4     Angoily 2 Unidades Substituição Da Antena Bast...   \n",
       "...                                                 ...   \n",
       "2086           Gps para Bike Xoss G Bluetooth Mtb Speed   \n",
       "2087  Módulo AUX Bluetooth para carro, 11Pin Bluetoo...   \n",
       "2088  Operitacx Batente De Porta Protetor De Parada ...   \n",
       "2089  Tecido de Faraday de 43 x 39 polegadas, tecido...   \n",
       "2090  Wyze Campainha de vídeo sem fio Pro (campainha...   \n",
       "\n",
       "                                              clean_doc  \\\n",
       "0     antena wifi omnidirecional 2 pecas antena 4dbi...   \n",
       "1     kesoto 2 pecas macho 2.4 ghz 5 ghz 5.8 ghz ant...   \n",
       "2     hemobllo antenas 5 modulo transceptor antena b...   \n",
       "3     3 pecas placa rede wifi antena roteador 2.4g/5...   \n",
       "4     angoily 2 substituicao antena bastoes cola rec...   \n",
       "...                                                 ...   \n",
       "2086                gps bike xoss g bluetooth mtb speed   \n",
       "2087  modulo aux bluetooth carro 11pin bluetooth 5.0...   \n",
       "2088  operitacx batente porta protetor parada piso p...   \n",
       "2089  tecido faraday 43 x 39 polegadas tecido farada...   \n",
       "2090  wyze campainha video pro campainha incluida vi...   \n",
       "\n",
       "                      labeled_category  telecom_product  rf_transmitter  \\\n",
       "0                               Antena                1               1   \n",
       "1                               Antena                1               1   \n",
       "2                               Antena                1               1   \n",
       "3                               Antena                1               1   \n",
       "4                               Antena                1               1   \n",
       "...                                ...              ...             ...   \n",
       "2086  Transceptor de Radiação Restrita                1               2   \n",
       "2087  Transceptor de Radiação Restrita                1               2   \n",
       "2088                            Outros                0               0   \n",
       "2089                            Outros                0               0   \n",
       "2090  Transceptor de Radiação Restrita                1               2   \n",
       "\n",
       "      category  \n",
       "0            0  \n",
       "1            0  \n",
       "2            0  \n",
       "3            0  \n",
       "4            0  \n",
       "...        ...  \n",
       "2086        25  \n",
       "2087        25  \n",
       "2088        18  \n",
       "2089        18  \n",
       "2090        25  \n",
       "\n",
       "[2091 rows x 6 columns]"
      ]
     },
     "execution_count": 4,
     "metadata": {},
     "output_type": "execute_result"
    }
   ],
   "source": [
    "file_cat_sample = '../datasets/cat_to_label_sample.xlsx'\n",
    "df_cat_sample = pd.read_excel(file_cat_sample)\n",
    "\n",
    "df_cat_sample = df_cat_sample.iloc[:,-2:]\n",
    "df_cat_sample = df_cat_sample.dropna()\n",
    "df_cat_sample.columns = ['doc', 'labeled_category']\n",
    "\n",
    "map_telecom_product = {'Antena': 1,  \n",
    "                       'Baterias (eletrônicos em geral)': 0, \n",
    "                       'Cabo (em geral)': 0, \n",
    "                       'Cabo de rede': 1, \n",
    "                       'Câmera sem fio': 1, \n",
    "                       'Carregador de celular': 1,\n",
    "                       'Carregador portátil (powerbank)': 1,\n",
    "                       'Carregador sem fio': 1, \n",
    "                       'Carregadores e fontes (eletrônicos em geral)': 0, \n",
    "                       'Cartão de memória': 0,\n",
    "                       'Desktop/Notebook': 0, \n",
    "                       'Drone': 1, \n",
    "                       'Extensor de vídeo VGA/HDMI': 0, \n",
    "                       'Fone de ouvido sem fio': 1, \n",
    "                       'Hub Switch': 1, \n",
    "                       'Impressora e cartuchos': 0,\n",
    "                       'Microfone sem fio': 1, \n",
    "                       'Modem 3G/4G/WiFi': 1, \n",
    "                       'Outros': 0, \n",
    "                       'Reforçador de sinal de celular': 1, \n",
    "                       'Roteador/Reforçador WiFi': 1, \n",
    "                       'Smart TV': 1,\n",
    "                       'Smartwatch': 1, \n",
    "                       'Tablets': 1, \n",
    "                       'Telefone celular': 1, \n",
    "                       'Transceptor de Radiação Restrita': 1, \n",
    "                       'Transceptor de RF (HF/VHF/UHF)': 1, \n",
    "                       'Transceptor/Conversor SFP': 1, \n",
    "                       'TV Box': 1}\n",
    "\n",
    "map_rf_transmitter = {'Antena': 1,  \n",
    "                      'Baterias (eletrônicos em geral)': 0, \n",
    "                      'Cabo (em geral)': 0, \n",
    "                      'Cabo de rede': 1, \n",
    "                      'Câmera sem fio': 2, \n",
    "                      'Carregador de celular': 1,\n",
    "                      'Carregador portátil (powerbank)': 1,\n",
    "                      'Carregador sem fio': 1, \n",
    "                      'Carregadores e fontes (eletrônicos em geral)': 0, \n",
    "                      'Cartão de memória': 0,\n",
    "                      'Desktop/Notebook': 0, \n",
    "                      'Drone': 2, \n",
    "                      'Extensor de vídeo VGA/HDMI': 0, \n",
    "                      'Fone de ouvido sem fio': 2, \n",
    "                      'Hub Switch': 1, \n",
    "                      'Impressora e cartuchos': 0,\n",
    "                      'Microfone sem fio': 2, \n",
    "                      'Modem 3G/4G/WiFi': 2, \n",
    "                      'Outros': 0,                        \n",
    "                      'Reforçador de sinal de celular': 2, \n",
    "                      'Roteador/Reforçador WiFi': 2, \n",
    "                      'Smart TV': 2,\n",
    "                      'Smartwatch': 2, \n",
    "                      'Tablets': 2, \n",
    "                      'Telefone celular': 2, \n",
    "                      'Transceptor de Radiação Restrita': 2, \n",
    "                      'Transceptor de RF (HF/VHF/UHF)': 2, \n",
    "                      'Transceptor/Conversor SFP': 1, \n",
    "                      'TV Box': 2}\n",
    "\n",
    "df_cat_sample['telecom_product'] = df_cat_sample['labeled_category'].map(map_telecom_product)\n",
    "df_cat_sample['rf_transmitter'] = df_cat_sample['labeled_category'].map(map_rf_transmitter)\n",
    "\n",
    "map_category_to_int = {category:i for i,category in enumerate(df_cat_sample.labeled_category.unique())}\n",
    "map_category_to_name = {i:category for category,i in map_category_to_int.items()}\n",
    "df_cat_sample['category'] = df_cat_sample['labeled_category'].map(map_category_to_int)\n",
    "\n",
    "df_cat_sample['clean_doc'] = df_cat_sample.doc.map(doc_cleaner)\n",
    "columns_to_keep = ['doc', 'clean_doc', 'labeled_category', 'telecom_product', 'rf_transmitter', 'category']\n",
    "df_cat_sample = df_cat_sample[columns_to_keep]\n",
    "\n",
    "df_cat_sample"
   ]
  },
  {
   "cell_type": "markdown",
   "id": "ad603cb3-32e3-40b5-80a1-42acf5b581d8",
   "metadata": {},
   "source": [
    "# Análise"
   ]
  },
  {
   "cell_type": "markdown",
   "id": "f99e0576-71a7-4898-b242-0b1242d15326",
   "metadata": {},
   "source": [
    "## Classificação binária"
   ]
  },
  {
   "cell_type": "markdown",
   "id": "0cdac117-9d00-4e76-9e6a-ae0529ad7ae7",
   "metadata": {},
   "source": [
    "### Produtos de telecomunicações x Outros"
   ]
  },
  {
   "cell_type": "code",
   "execution_count": 89,
   "id": "4f1a4620-22b1-4f0d-b370-95d4bf1fb0a3",
   "metadata": {},
   "outputs": [],
   "source": [
    "X = df_cat_sample['doc']\n",
    "y = df_cat_sample['telecom_product']\n",
    "target_names = ['Produtos comuns', 'Produtos de telecomunicações']\n",
    "\n",
    "X_train, X_test, y_train, y_test = train_test_split(X, y, test_size=0.25, random_state=724)"
   ]
  },
  {
   "cell_type": "code",
   "execution_count": 90,
   "id": "8da12c65-0565-47e9-9a95-b890a9646d86",
   "metadata": {},
   "outputs": [],
   "source": [
    "tfidf_vectorizer = TfidfVectorizer(tokenizer=tokenizer)\n",
    "X_train_tfidf = tfidf_vectorizer.fit_transform(X_train)\n",
    "X_test_tfidf = tfidf_vectorizer.transform(X_test)"
   ]
  },
  {
   "cell_type": "code",
   "execution_count": 91,
   "id": "4ba656e3-3fc1-4825-b9c9-4af6f56697d3",
   "metadata": {},
   "outputs": [
    {
     "name": "stdout",
     "output_type": "stream",
     "text": [
      "Accuracy of Dummy classifier on training set: 0.55\n",
      "Accuracy of Dummy classifier on test set: 0.58\n",
      "                              precision    recall  f1-score   support\n",
      "\n",
      "             Produtos comuns       0.58      1.00      0.73       303\n",
      "Produtos de telecomunicações       0.00      0.00      0.00       220\n",
      "\n",
      "                    accuracy                           0.58       523\n",
      "                   macro avg       0.29      0.50      0.37       523\n",
      "                weighted avg       0.34      0.58      0.43       523\n",
      "\n"
     ]
    }
   ],
   "source": [
    "clf_dummy = DummyClassifier()\n",
    "clf_dummy.fit(X_train_tfidf,y_train)\n",
    "predicted = clf_dummy.predict(X_test_tfidf)\n",
    "\n",
    "print('Accuracy of Dummy classifier on training set: {:.2f}'\n",
    "     .format(clf_dummy.score(X_train, y_train)))\n",
    "print('Accuracy of Dummy classifier on test set: {:.2f}'\n",
    "     .format(clf_dummy.score(X_test, y_test)))\n",
    "\n",
    "print(classification_report(y_test, predicted, target_names=target_names))"
   ]
  },
  {
   "cell_type": "code",
   "execution_count": 92,
   "id": "2204687d-9825-4188-92ae-6c84acdbb84a",
   "metadata": {},
   "outputs": [
    {
     "name": "stdout",
     "output_type": "stream",
     "text": [
      "Accuracy of SGD classifier on training set: 0.936\n",
      "Accuracy of SGD classifier on test set: 0.860\n",
      "AUC of SGD classifier on test set: 0.931\n",
      "\n",
      "                              precision    recall  f1-score   support\n",
      "\n",
      "             Produtos comuns       0.85      0.91      0.88       303\n",
      "Produtos de telecomunicações       0.87      0.79      0.83       220\n",
      "\n",
      "                    accuracy                           0.86       523\n",
      "                   macro avg       0.86      0.85      0.85       523\n",
      "                weighted avg       0.86      0.86      0.86       523\n",
      "\n"
     ]
    }
   ],
   "source": [
    "clf_sgd = SGDClassifier(loss='log_loss', penalty='l2',\n",
    "                        alpha=1e-3, random_state=42,\n",
    "                        max_iter=5, tol=None)\n",
    "\n",
    "clf_sgd.fit(X_train_tfidf, y_train)\n",
    "predicted = clf_sgd.predict(X_test_tfidf)\n",
    "\n",
    "print('Accuracy of SGD classifier on training set: {:.3f}'\n",
    "     .format(clf_sgd.score(X_train_tfidf, y_train)))\n",
    "print('Accuracy of SGD classifier on test set: {:.3f}'\n",
    "     .format(clf_sgd.score(X_test_tfidf, y_test)))\n",
    "print('AUC of SGD classifier on test set: {:.3f}'\n",
    "     .format(roc_auc_score(y_test,clf_sgd.predict_proba(X_test_tfidf)[:,1])))\n",
    "print()\n",
    "print(classification_report(y_test, predicted, target_names=target_names))"
   ]
  },
  {
   "cell_type": "markdown",
   "id": "e0a2e6b9-cfce-46fa-8a8f-bbe7e3ca6d2c",
   "metadata": {},
   "source": [
    "$Precision = \\frac{TP}{TP+FP}$ quanto maior, menor a quantidade de falsos positivos\n",
    "\n",
    "$Recall = \\frac{TP}{TP+FN}$ quanto maior, menor a quantidade de falsos negativos"
   ]
  },
  {
   "cell_type": "code",
   "execution_count": 93,
   "id": "1a232f21-0781-4142-8abc-7be8d32fd421",
   "metadata": {},
   "outputs": [
    {
     "name": "stdout",
     "output_type": "stream",
     "text": [
      "Accuracy of SGD classifier on training set: 0.948\n",
      "Accuracy of SGD classifier on test set: 0.866\n",
      "AUC of SGD classifier on test set: 0.936\n",
      "\n",
      "                              precision    recall  f1-score   support\n",
      "\n",
      "             Produtos comuns       0.87      0.91      0.89       303\n",
      "Produtos de telecomunicações       0.87      0.80      0.83       220\n",
      "\n",
      "                    accuracy                           0.87       523\n",
      "                   macro avg       0.87      0.86      0.86       523\n",
      "                weighted avg       0.87      0.87      0.87       523\n",
      "\n"
     ]
    }
   ],
   "source": [
    "from sklearn.linear_model import LogisticRegression\n",
    "\n",
    "clf_lgr = LogisticRegression()\n",
    "\n",
    "clf_lgr.fit(X_train_tfidf, y_train)\n",
    "predicted = clf_lgr.predict(X_test_tfidf)\n",
    "\n",
    "print('Accuracy of SGD classifier on training set: {:.3f}'\n",
    "     .format(clf_lgr.score(X_train_tfidf, y_train)))\n",
    "print('Accuracy of SGD classifier on test set: {:.3f}'\n",
    "     .format(clf_lgr.score(X_test_tfidf, y_test)))\n",
    "print('AUC of SGD classifier on test set: {:.3f}'\n",
    "     .format(roc_auc_score(y_test,clf_lgr.predict_proba(X_test_tfidf)[:,1])))\n",
    "print()\n",
    "print(classification_report(y_test, predicted, target_names=target_names))"
   ]
  },
  {
   "cell_type": "code",
   "execution_count": 53,
   "id": "17b9b7bd-5f98-4925-a3c1-6d5c5453efda",
   "metadata": {},
   "outputs": [
    {
     "data": {
      "text/plain": [
       "{'clf__alpha': 1e-05,\n",
       " 'clf__loss': 'hinge',\n",
       " 'clf__max_iter': 100,\n",
       " 'clf__penalty': 'l2',\n",
       " 'clf__random_state': 42,\n",
       " 'clf__tol': None,\n",
       " 'tfidf__ngram_range': (1, 2)}"
      ]
     },
     "execution_count": 53,
     "metadata": {},
     "output_type": "execute_result"
    }
   ],
   "source": [
    "# from sklearn.metrics import accuracy_score, make_scorer\n",
    "\n",
    "# # The scorers can be either one of the predefined metric strings or a scorer\n",
    "# # callable, like the one returned by make_scorer\n",
    "# scoring = {\"AUC\": \"roc_auc\"}\n",
    "\n",
    "# pipe = Pipeline([('tfidf',TfidfVectorizer(tokenizer=tokenizer)),('clf',SGDClassifier())])\n",
    "\n",
    "# params = {'tfidf__ngram_range': [(1,1),(1,2),(1,3)], \n",
    "#           'clf__loss': ['hinge', 'log_loss', 'modified_huber'], \n",
    "#           'clf__penalty': ['l1', 'l2'],\n",
    "#           'clf__alpha': [1e-1,1e-2,1e-3,1e-4,1e-5], 'clf__random_state': [42],\n",
    "#           'clf__max_iter': [5,20,50,100], 'clf__tol': [None]}\n",
    "\n",
    "# # initialize\n",
    "# clf = SGDClassifier()\n",
    "# gd = GridSearchCV(pipe,params,scoring=scoring,refit='AUC')\n",
    "# # fit\n",
    "# gd.fit(X_train,y_train)\n",
    "# gd.best_params_"
   ]
  },
  {
   "cell_type": "code",
   "execution_count": 54,
   "id": "e31ceb80-1459-4f4e-82e9-99b645062707",
   "metadata": {},
   "outputs": [
    {
     "data": {
      "text/plain": [
       "0.9521058748268423"
      ]
     },
     "execution_count": 54,
     "metadata": {},
     "output_type": "execute_result"
    }
   ],
   "source": [
    "gd.best_score_"
   ]
  },
  {
   "cell_type": "code",
   "execution_count": 97,
   "id": "2177aa1a-6374-4763-846c-9527f38f4dfb",
   "metadata": {},
   "outputs": [
    {
     "name": "stdout",
     "output_type": "stream",
     "text": [
      "Accuracy of SGD classifier on training set: 1.000\n",
      "Accuracy of SGD classifier on test set: 0.889\n",
      "AUC of SGD classifier on test set: 0.954\n",
      "\n",
      "                              precision    recall  f1-score   support\n",
      "\n",
      "             Produtos comuns       0.92      0.89      0.90       303\n",
      "Produtos de telecomunicações       0.85      0.89      0.87       220\n",
      "\n",
      "                    accuracy                           0.89       523\n",
      "                   macro avg       0.89      0.89      0.89       523\n",
      "                weighted avg       0.89      0.89      0.89       523\n",
      "\n"
     ]
    }
   ],
   "source": [
    "pipe_sgd = Pipeline([('tfidf',TfidfVectorizer(tokenizer=tokenizer,ngram_range=(1,2))),\n",
    "                     ('clf', SGDClassifier(alpha=1e-5, \n",
    "                                           loss='hinge', \n",
    "                                           max_iter=100, \n",
    "                                           penalty='l2', \n",
    "                                           random_state=42, \n",
    "                                           tol=None))])\n",
    "pipe_sgd.fit(X_train,y_train)\n",
    "predicted = pipe_sgd.predict(X_test)\n",
    "\n",
    "print('Accuracy of SGD classifier on training set: {:.3f}'\n",
    "     .format(pipe_sgd.score(X_train, y_train)))\n",
    "print('Accuracy of SGD classifier on test set: {:.3f}'\n",
    "     .format(pipe_sgd.score(X_test, y_test)))\n",
    "print('AUC of SGD classifier on test set: {:.3f}'\n",
    "     .format(roc_auc_score(y_test,pipe_sgd.decision_function(X_test))))\n",
    "print()\n",
    "print(classification_report(y_test, predicted, target_names=target_names))"
   ]
  },
  {
   "cell_type": "code",
   "execution_count": 98,
   "id": "fc40ba54-3eae-44d9-ac7b-611534777bdf",
   "metadata": {},
   "outputs": [
    {
     "name": "stdout",
     "output_type": "stream",
     "text": [
      "Accuracy of SGD classifier on training set: 0.980\n",
      "Accuracy of SGD classifier on test set: 0.885\n",
      "AUC of SGD classifier on test set: 0.948\n",
      "\n",
      "                              precision    recall  f1-score   support\n",
      "\n",
      "             Produtos comuns       0.90      0.90      0.90       303\n",
      "Produtos de telecomunicações       0.87      0.86      0.86       220\n",
      "\n",
      "                    accuracy                           0.89       523\n",
      "                   macro avg       0.88      0.88      0.88       523\n",
      "                weighted avg       0.89      0.89      0.89       523\n",
      "\n"
     ]
    }
   ],
   "source": [
    "# modelo anterior aparentemente overfitting, reduzir alpha\n",
    "pipe_sgd = Pipeline([('tfidf',TfidfVectorizer(tokenizer=tokenizer,ngram_range=(1,2))),\n",
    "                     ('clf', SGDClassifier(alpha=1e-3, \n",
    "                                           loss='hinge', \n",
    "                                           max_iter=100, \n",
    "                                           penalty='l2', \n",
    "                                           random_state=42, \n",
    "                                           tol=None))])\n",
    "\n",
    "pipe_sgd.fit(X_train,y_train)\n",
    "predicted = pipe_sgd.predict(X_test)\n",
    "\n",
    "print('Accuracy of SGD classifier on training set: {:.3f}'\n",
    "     .format(pipe_sgd.score(X_train, y_train)))\n",
    "print('Accuracy of SGD classifier on test set: {:.3f}'\n",
    "     .format(pipe_sgd.score(X_test, y_test)))\n",
    "print('AUC of SGD classifier on test set: {:.3f}'\n",
    "     .format(roc_auc_score(y_test,pipe_sgd.decision_function(X_test))))\n",
    "print()\n",
    "print(classification_report(y_test, predicted, target_names=target_names))"
   ]
  },
  {
   "cell_type": "markdown",
   "id": "1fb1429f-785f-4330-952d-f90190416df9",
   "metadata": {},
   "source": [
    "### Produtos transmissores de RF x Outros"
   ]
  },
  {
   "cell_type": "code",
   "execution_count": 100,
   "id": "6eafd047-1657-4aea-a9d3-c273df880709",
   "metadata": {},
   "outputs": [
    {
     "name": "stdout",
     "output_type": "stream",
     "text": [
      "Accuracy of SGD classifier on training set: 0.984\n",
      "Accuracy of SGD classifier on test set: 0.902\n",
      "AUC of SGD classifier on test set: 0.962\n",
      "\n",
      "                              precision    recall  f1-score   support\n",
      "\n",
      "             Produtos comuns       0.92      0.92      0.92       331\n",
      "Produtos transmissores de RF       0.87      0.87      0.87       192\n",
      "\n",
      "                    accuracy                           0.90       523\n",
      "                   macro avg       0.89      0.90      0.90       523\n",
      "                weighted avg       0.90      0.90      0.90       523\n",
      "\n"
     ]
    }
   ],
   "source": [
    "map_rf_transmitter = {0: 0, 1: 0, 2: 1}\n",
    "X = df_cat_sample['doc']\n",
    "y = df_cat_sample['rf_transmitter'].map(map_rf_transmitter)\n",
    "\n",
    "target_names = ['Produtos comuns', 'Produtos transmissores de RF']\n",
    "\n",
    "X_train, X_test, y_train, y_test = train_test_split(X, y, test_size=0.25, random_state=724)\n",
    "\n",
    "pipe_sgd_rf = Pipeline([('tfidf',TfidfVectorizer(tokenizer=tokenizer,ngram_range=(1,2))),\n",
    "                        ('clf', SGDClassifier(alpha=1e-3, \n",
    "                                              loss='hinge', \n",
    "                                              max_iter=100, \n",
    "                                              penalty='l2', \n",
    "                                              random_state=42, \n",
    "                                              tol=None))])\n",
    "\n",
    "pipe_sgd_rf.fit(X_train,y_train)\n",
    "predicted = pipe_sgd_rf.predict(X_test)\n",
    "\n",
    "print('Accuracy of SGD classifier on training set: {:.3f}'\n",
    "     .format(pipe_sgd_rf.score(X_train, y_train)))\n",
    "print('Accuracy of SGD classifier on test set: {:.3f}'\n",
    "     .format(pipe_sgd_rf.score(X_test, y_test)))\n",
    "print('AUC of SGD classifier on test set: {:.3f}'\n",
    "     .format(roc_auc_score(y_test,pipe_sgd_rf.decision_function(X_test))))\n",
    "print()\n",
    "print(classification_report(y_test, predicted, target_names=target_names))"
   ]
  },
  {
   "cell_type": "markdown",
   "id": "840fe814-e182-4948-b06c-c54d5e39b582",
   "metadata": {},
   "source": [
    "## Classificação em 3 classes"
   ]
  },
  {
   "cell_type": "code",
   "execution_count": 101,
   "id": "f6635a1c-aad3-4eeb-9e5f-bc2a91a9191a",
   "metadata": {},
   "outputs": [],
   "source": [
    "X = df_cat_sample['doc']\n",
    "y = df_cat_sample['rf_transmitter']\n",
    "target_names = ['Produtos comuns', 'Produtos de telecomunicações', 'Transmissores de RF']\n",
    "\n",
    "X_train, X_test, y_train, y_test = train_test_split(X, y, test_size=0.25, random_state=724)"
   ]
  },
  {
   "cell_type": "code",
   "execution_count": 102,
   "id": "adc51d81-407a-4e99-9c54-e8c339c5fd50",
   "metadata": {},
   "outputs": [],
   "source": [
    "tfidf_vectorizer = TfidfVectorizer(tokenizer=tokenizer)\n",
    "X_train_tfidf = tfidf_vectorizer.fit_transform(X_train)\n",
    "X_test_tfidf = tfidf_vectorizer.transform(X_test)"
   ]
  },
  {
   "cell_type": "code",
   "execution_count": 103,
   "id": "21aab775",
   "metadata": {},
   "outputs": [
    {
     "name": "stdout",
     "output_type": "stream",
     "text": [
      "Accuracy of Dummy classifier on training set: 0.55\n",
      "Accuracy of Dummy classifier on test set: 0.58\n",
      "                              precision    recall  f1-score   support\n",
      "\n",
      "             Produtos comuns       0.58      1.00      0.73       303\n",
      "Produtos de telecomunicações       0.00      0.00      0.00        28\n",
      "         Transmissores de RF       0.00      0.00      0.00       192\n",
      "\n",
      "                    accuracy                           0.58       523\n",
      "                   macro avg       0.19      0.33      0.24       523\n",
      "                weighted avg       0.34      0.58      0.43       523\n",
      "\n"
     ]
    }
   ],
   "source": [
    "clf_dummy = DummyClassifier()\n",
    "clf_dummy.fit(X_train_tfidf,y_train)\n",
    "predicted = clf_dummy.predict(X_test_tfidf)\n",
    "\n",
    "print('Accuracy of Dummy classifier on training set: {:.2f}'\n",
    "     .format(clf_dummy.score(X_train_tfidf, y_train)))\n",
    "print('Accuracy of Dummy classifier on test set: {:.2f}'\n",
    "     .format(clf_dummy.score(X_test_tfidf, y_test)))\n",
    "\n",
    "print(classification_report(y_test, predicted, target_names=target_names))"
   ]
  },
  {
   "cell_type": "code",
   "execution_count": 104,
   "id": "5e6f2019",
   "metadata": {},
   "outputs": [
    {
     "name": "stdout",
     "output_type": "stream",
     "text": [
      "Accuracy of SGD classifier on training set: 0.96\n",
      "Accuracy of SGD classifier on test set: 0.87\n",
      "                              precision    recall  f1-score   support\n",
      "\n",
      "             Produtos comuns       0.87      0.92      0.89       303\n",
      "Produtos de telecomunicações       1.00      0.21      0.35        28\n",
      "         Transmissores de RF       0.86      0.89      0.88       192\n",
      "\n",
      "                    accuracy                           0.87       523\n",
      "                   macro avg       0.91      0.67      0.71       523\n",
      "                weighted avg       0.88      0.87      0.86       523\n",
      "\n"
     ]
    }
   ],
   "source": [
    "clf_sgd = SGDClassifier(loss='hinge', penalty='l2',\n",
    "                        alpha=1e-3, random_state=42,\n",
    "                        max_iter=5, tol=None)\n",
    "\n",
    "clf_sgd.fit(X_train_tfidf, y_train)\n",
    "predicted = clf_sgd.predict(X_test_tfidf)\n",
    "\n",
    "print('Accuracy of SGD classifier on training set: {:.2f}'\n",
    "     .format(clf_sgd.score(X_train_tfidf, y_train)))\n",
    "print('Accuracy of SGD classifier on test set: {:.2f}'\n",
    "     .format(clf_sgd.score(X_test_tfidf, y_test)))\n",
    "\n",
    "print(classification_report(y_test, predicted, target_names=target_names))"
   ]
  },
  {
   "cell_type": "code",
   "execution_count": 105,
   "id": "c9e06f3e-f6ba-4b6b-a12e-709e5f66901e",
   "metadata": {},
   "outputs": [
    {
     "name": "stdout",
     "output_type": "stream",
     "text": [
      "Accuracy of SGD classifier on training set: 0.94\n",
      "Accuracy of SGD classifier on test set: 0.85\n",
      "                              precision    recall  f1-score   support\n",
      "\n",
      "             Produtos comuns       0.84      0.93      0.88       303\n",
      "Produtos de telecomunicações       1.00      0.07      0.13        28\n",
      "         Transmissores de RF       0.87      0.84      0.85       192\n",
      "\n",
      "                    accuracy                           0.85       523\n",
      "                   macro avg       0.90      0.61      0.62       523\n",
      "                weighted avg       0.86      0.85      0.83       523\n",
      "\n"
     ]
    }
   ],
   "source": [
    "clf_lgr = LogisticRegression()\n",
    "\n",
    "clf_lgr.fit(X_train_tfidf, y_train)\n",
    "predicted = clf_lgr.predict(X_test_tfidf)\n",
    "\n",
    "print('Accuracy of SGD classifier on training set: {:.2f}'\n",
    "     .format(clf_lgr.score(X_train_tfidf, y_train)))\n",
    "print('Accuracy of SGD classifier on test set: {:.2f}'\n",
    "     .format(clf_lgr.score(X_test_tfidf, y_test)))\n",
    "\n",
    "print(classification_report(y_test, predicted, target_names=target_names))"
   ]
  },
  {
   "cell_type": "code",
   "execution_count": null,
   "id": "e3614a65-c17e-47ac-a1c9-b1ab30f67096",
   "metadata": {},
   "outputs": [],
   "source": []
  }
 ],
 "metadata": {
  "kernelspec": {
   "display_name": "Python 3 (ipykernel)",
   "language": "python",
   "name": "python3"
  },
  "language_info": {
   "codemirror_mode": {
    "name": "ipython",
    "version": 3
   },
   "file_extension": ".py",
   "mimetype": "text/x-python",
   "name": "python",
   "nbconvert_exporter": "python",
   "pygments_lexer": "ipython3",
   "version": "3.10.12"
  }
 },
 "nbformat": 4,
 "nbformat_minor": 5
}
