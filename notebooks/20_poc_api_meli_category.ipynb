{
 "cells": [
  {
   "cell_type": "markdown",
   "id": "b47312c8-4a73-4aa3-b614-7b43580fa498",
   "metadata": {},
   "source": [
    "# Preparação do ambiente"
   ]
  },
  {
   "cell_type": "markdown",
   "id": "25fa99ec-c912-4433-9ec0-0da4b4f6635f",
   "metadata": {},
   "source": [
    "## Bibliotecas"
   ]
  },
  {
   "cell_type": "code",
   "execution_count": 38,
   "id": "52989da2-a5e5-4fad-93a3-36f9d9462161",
   "metadata": {},
   "outputs": [],
   "source": [
    "import configparser\n",
    "import hashlib\n",
    "import json\n",
    "import os\n",
    "import pandas as pd\n",
    "import requests\n",
    "import time\n",
    "import urllib.parse\n",
    "\n",
    "from pathlib import Path\n",
    "from tqdm.auto import tqdm"
   ]
  },
  {
   "cell_type": "code",
   "execution_count": 2,
   "id": "dca690de-2374-4a1e-9d9b-709db4e2dd12",
   "metadata": {},
   "outputs": [],
   "source": [
    "pd.options.mode.chained_assignment = None  # default='warn'"
   ]
  },
  {
   "cell_type": "markdown",
   "id": "eeab38bd-bfd7-4c13-9344-f2ff45111801",
   "metadata": {},
   "source": [
    "## Constantes e funções auxiliares"
   ]
  },
  {
   "cell_type": "code",
   "execution_count": 3,
   "id": "f5da9443-d65b-45ab-bc92-66fd5b1c922f",
   "metadata": {},
   "outputs": [],
   "source": [
    "USER_AGENT = 'Mozilla/5.0 (Windows NT 10.0; Win64; x64) AppleWebKit/537.36 (KHTML, like Gecko) Chrome/126.0.0.0 Safari/537.36'"
   ]
  },
  {
   "cell_type": "code",
   "execution_count": 4,
   "id": "ea62814d-fde8-4327-84a3-34f80b5cc317",
   "metadata": {},
   "outputs": [],
   "source": [
    "def get_new_access_token(actual_refresh_token,client_id,client_secret):\n",
    "    url = 'https://api.mercadolibre.com/oauth/token'\n",
    "    payload = {\n",
    "        'grant_type': 'refresh_token', \n",
    "        'client_id': client_id,\n",
    "        'client_secret': client_secret, \n",
    "        'refresh_token': actual_refresh_token\n",
    "    }\n",
    "        \n",
    "    headers = {\n",
    "        'accept': 'application/json',\n",
    "        'content-type': 'application/x-www-form-urlencoded'\n",
    "    }\n",
    "        \n",
    "    response = requests.post(url, headers=headers, data=payload)\n",
    "    content = response.content.decode(response.encoding)\n",
    "    content =  json.loads(content)\n",
    "        \n",
    "    return content['access_token'], content['refresh_token']"
   ]
  },
  {
   "cell_type": "code",
   "execution_count": 5,
   "id": "72b962ba-34d5-41cf-b295-64d79d9ac92a",
   "metadata": {},
   "outputs": [],
   "source": [
    "def load_sch(sch_database_file):\n",
    "    \n",
    "    # load SCH database\n",
    "    usecols = [0,1,11,12,13,14,15]\n",
    "    dtype = {'Número de Homologação': 'str'}\n",
    "    parse_dates = [0]\n",
    "    date_format = '%d/%m/%Y'\n",
    "\n",
    "    df_sch = pd.read_csv(\n",
    "        sch_database_file,\n",
    "        sep=';',\n",
    "        usecols=usecols,\n",
    "        dtype=dtype,\n",
    "        parse_dates=parse_dates,\n",
    "        date_format=date_format\n",
    "        )\n",
    "\n",
    "    df_sch = df_sch.sort_values(by='Data da Homologação',ascending=False)\n",
    "\n",
    "    df_modelo = df_sch[['Número de Homologação','Modelo']].dropna()\n",
    "    df_modelo = df_modelo.groupby('Número de Homologação',as_index=False)['Modelo'].apply(lambda x: ' | '.join(x))\n",
    "    df_modelo = df_modelo.drop_duplicates(subset='Número de Homologação')\n",
    "\n",
    "    df_nome_comercial = df_sch[['Número de Homologação','Nome Comercial']].dropna()\n",
    "    df_nome_comercial = df_nome_comercial.groupby('Número de Homologação',as_index=False)['Nome Comercial'].apply(lambda x: ' | '.join(x))\n",
    "    df_nome_comercial = df_nome_comercial.drop_duplicates(subset='Número de Homologação')\n",
    "\n",
    "    columns_to_keep = ['Data da Homologação', 'Número de Homologação', 'Nome do Fabricante']\n",
    "    df_sch_models = df_sch[columns_to_keep]\n",
    "    df_sch_models = df_sch_models.drop_duplicates(subset='Número de Homologação')\n",
    "\n",
    "    df_sch_models = df_sch_models.merge(df_modelo,how='left')\n",
    "    df_sch_models = df_sch_models.merge(df_nome_comercial,how='left')\n",
    "    df_sch_models = df_sch.fillna('')\n",
    "    df_sch_models['Modelo Completo'] = df_sch_models[['Modelo', 'Nome Comercial']].apply(lambda row: ' | '.join(row) if len(row['Nome Comercial'])>0 else row['Modelo'],axis=1)\n",
    "\n",
    "    columns_to_keep = ['Número de Homologação', 'Nome do Fabricante', 'Modelo Completo']\n",
    "    df_sch_models = df_sch_models.drop_duplicates(subset='Número de Homologação')\n",
    "    df_sch_models = df_sch_models[columns_to_keep].reset_index(drop=True)\n",
    "    \n",
    "    return df_sch, df_sch_models"
   ]
  },
  {
   "cell_type": "code",
   "execution_count": 20,
   "id": "2330f7f5-a9e7-4a37-901e-782e6f58b46b",
   "metadata": {},
   "outputs": [],
   "source": [
    "def parse_results(result, return_anatel_homologation_number=False):\n",
    "    keys_to_keep = ['id', 'title', 'catalog_product_id', 'permalink', 'category_id', 'domain_id', \n",
    "                    'currency_id', 'price', 'original_price', \n",
    "                    'initial_quantity', 'available_quantity', 'official_store_id', 'official_store_name']\n",
    "    \n",
    "    parsed_result = {}\n",
    "    for key in keys_to_keep:\n",
    "        parsed_result[key] = result.get(key)\n",
    "    \n",
    "    if result.get('seller') is not None:\n",
    "        parsed_result['seller_id'] = result.get('seller').get('id')\n",
    "        parsed_result['seller_nickname'] = result.get('seller').get('nickname')\n",
    "    else:\n",
    "        parsed_result['seller_id'] = None\n",
    "        parsed_result['seller_nickname'] = None    \n",
    "\n",
    "    brand = None\n",
    "    model = None\n",
    "    gtin = None\n",
    "    detailed_model = None\n",
    "    anatel_homologation_number = None\n",
    "    cellphones_anatel_homologation_number = None\n",
    "    \n",
    "    for attribute in result['attributes']:\n",
    "        if attribute['id'] == 'BRAND':\n",
    "            brand = attribute['value_name']\n",
    "        elif attribute['id'] == 'MODEL':\n",
    "            model = attribute['value_name']\n",
    "        elif attribute['id'] == 'DETAILED_MODEL':\n",
    "            detailed_model = attribute['value_name'] \n",
    "        elif attribute['id'] == 'GTIN':\n",
    "            gtin = attribute['value_name'] \n",
    "        elif attribute['id'] == 'ANATEL_HOMOLOGATION_NUMBER':\n",
    "            anatel_homologation_number = attribute['value_name']\n",
    "        elif attribute['id'] == 'CELLPHONES_ANATEL_HOMOLOGATION_NUMBER':\n",
    "            cellphones_anatel_homologation_number = attribute['value_name']\n",
    "\n",
    "    if return_anatel_homologation_number:\n",
    "        if anatel_homologation_number is None:\n",
    "            item_id = parsed_result['id']\n",
    "            attr_url = f'https://api.mercadolibre.com/items/{item_id}?attributes=attributes&include_internal_attributes=true'\n",
    "            headers = {'user-agent': USER_AGENT}\n",
    "            attr_response = requests.get(attr_url,headers=headers)\n",
    "            attr_content = attr_response.content.decode(attr_response.encoding)\n",
    "            attr_content =  json.loads(attr_content)\n",
    "            attr_content = attr_content['attributes']\n",
    "            for attr in attr_content:\n",
    "                if attr['id'] == 'ANATEL_HOMOLOGATION_NUMBER':\n",
    "                    anatel_homologation_number = attr['value_name']\n",
    "    \n",
    "        if cellphones_anatel_homologation_number is None:\n",
    "            item_id = parsed_result['id']\n",
    "            attr_url = f'https://api.mercadolibre.com/items/{item_id}?attributes=attributes&include_internal_attributes=true'\n",
    "            headers = {'user-agent': USER_AGENT}\n",
    "            attr_response = requests.get(attr_url,headers=headers)\n",
    "            attr_content = attr_response.content.decode(attr_response.encoding)\n",
    "            attr_content =  json.loads(attr_content)\n",
    "            attr_content = attr_content['attributes']\n",
    "            for attr in attr_content:\n",
    "                if attr['id'] == 'CELLPHONES_ANATEL_HOMOLOGATION_NUMBER':\n",
    "                    cellphones_anatel_homologation_number = attr['value_name']\n",
    "    else:\n",
    "        anatel_homologation_number = '999999999999'\n",
    "        cellphones_anatel_homologation_number = '999999999999'\n",
    "\n",
    "    parsed_result['brand'] = brand\n",
    "    parsed_result['model'] = model\n",
    "    parsed_result['detailed_model'] = detailed_model\n",
    "    parsed_result['gtin'] = gtin\n",
    "    parsed_result['anatel_homologation_number'] = anatel_homologation_number\n",
    "    parsed_result['cellphones_anatel_homologation_number'] = cellphones_anatel_homologation_number\n",
    "    \n",
    "    return parsed_result"
   ]
  },
  {
   "cell_type": "markdown",
   "id": "ce5bde4a-70f0-4d17-bb9e-3a07636d3e9d",
   "metadata": {},
   "source": [
    "# Carga e prepação dos dados"
   ]
  },
  {
   "cell_type": "code",
   "execution_count": 7,
   "id": "31c56d43-4698-4054-b227-a4f068d1cfd2",
   "metadata": {},
   "outputs": [
    {
     "data": {
      "text/html": [
       "<div>\n",
       "<style scoped>\n",
       "    .dataframe tbody tr th:only-of-type {\n",
       "        vertical-align: middle;\n",
       "    }\n",
       "\n",
       "    .dataframe tbody tr th {\n",
       "        vertical-align: top;\n",
       "    }\n",
       "\n",
       "    .dataframe thead th {\n",
       "        text-align: right;\n",
       "    }\n",
       "</style>\n",
       "<table border=\"1\" class=\"dataframe\">\n",
       "  <thead>\n",
       "    <tr style=\"text-align: right;\">\n",
       "      <th></th>\n",
       "      <th>Data da Homologação</th>\n",
       "      <th>Número de Homologação</th>\n",
       "      <th>Nome do Fabricante</th>\n",
       "      <th>Modelo</th>\n",
       "      <th>Nome Comercial</th>\n",
       "      <th>Categoria do Produto</th>\n",
       "      <th>Tipo do Produto</th>\n",
       "    </tr>\n",
       "  </thead>\n",
       "  <tbody>\n",
       "    <tr>\n",
       "      <th>136048</th>\n",
       "      <td>2024-05-20</td>\n",
       "      <td>030572416551</td>\n",
       "      <td>Decathlon</td>\n",
       "      <td>8605113</td>\n",
       "      <td>W900</td>\n",
       "      <td>2</td>\n",
       "      <td>Transceptor de Radiação Restrita</td>\n",
       "    </tr>\n",
       "    <tr>\n",
       "      <th>138597</th>\n",
       "      <td>2024-05-20</td>\n",
       "      <td>004732404809</td>\n",
       "      <td>Elsys Equipamentos Eletrônicos Ltda</td>\n",
       "      <td>ESF-DE5100I</td>\n",
       "      <td>NaN</td>\n",
       "      <td>2</td>\n",
       "      <td>Sistemas de Identificação por Radiofrequências</td>\n",
       "    </tr>\n",
       "    <tr>\n",
       "      <th>137797</th>\n",
       "      <td>2024-05-20</td>\n",
       "      <td>061542414894</td>\n",
       "      <td>Shenzhen Baseus Technology Co., Ltd.</td>\n",
       "      <td>PPAP2-10A</td>\n",
       "      <td>NaN</td>\n",
       "      <td>1</td>\n",
       "      <td>Acessório p/ Telefone Móvel Celular do tipo Ba...</td>\n",
       "    </tr>\n",
       "    <tr>\n",
       "      <th>140046</th>\n",
       "      <td>2024-05-20</td>\n",
       "      <td>050542403757</td>\n",
       "      <td>Lear Corporation</td>\n",
       "      <td>KOBJXF23A</td>\n",
       "      <td>NaN</td>\n",
       "      <td>2</td>\n",
       "      <td>Sistemas Operando nas Faixas de RF Ultra Larga</td>\n",
       "    </tr>\n",
       "    <tr>\n",
       "      <th>137799</th>\n",
       "      <td>2024-05-20</td>\n",
       "      <td>062092408867</td>\n",
       "      <td>Fortinet, Inc.</td>\n",
       "      <td>FG-120G</td>\n",
       "      <td>NaN</td>\n",
       "      <td>3</td>\n",
       "      <td>Equipamento de Rede de Dados</td>\n",
       "    </tr>\n",
       "    <tr>\n",
       "      <th>...</th>\n",
       "      <td>...</td>\n",
       "      <td>...</td>\n",
       "      <td>...</td>\n",
       "      <td>...</td>\n",
       "      <td>...</td>\n",
       "      <td>...</td>\n",
       "      <td>...</td>\n",
       "    </tr>\n",
       "    <tr>\n",
       "      <th>378</th>\n",
       "      <td>2001-09-21</td>\n",
       "      <td>020050101504</td>\n",
       "      <td>Nortel Networks Inc.</td>\n",
       "      <td>Metrocell / 800 MFRM</td>\n",
       "      <td>Metrocell / 800 MFRM</td>\n",
       "      <td>3</td>\n",
       "      <td>Transceptor para Estação Rádio Base</td>\n",
       "    </tr>\n",
       "    <tr>\n",
       "      <th>332</th>\n",
       "      <td>2001-09-21</td>\n",
       "      <td>020060101504</td>\n",
       "      <td>Nortel Networks Inc.</td>\n",
       "      <td>Minicell / 800 MFRM</td>\n",
       "      <td>Minicell / 800 MFRM</td>\n",
       "      <td>3</td>\n",
       "      <td>Transceptor para Estação Rádio Base</td>\n",
       "    </tr>\n",
       "    <tr>\n",
       "      <th>345</th>\n",
       "      <td>2001-09-19</td>\n",
       "      <td>020020100563</td>\n",
       "      <td>Nokia do Brasil Tecnologia Ltda.</td>\n",
       "      <td>3320</td>\n",
       "      <td>3320</td>\n",
       "      <td>1</td>\n",
       "      <td>Telefone Móvel Celular</td>\n",
       "    </tr>\n",
       "    <tr>\n",
       "      <th>409</th>\n",
       "      <td>2001-09-19</td>\n",
       "      <td>020030100563</td>\n",
       "      <td>Nokia do Brasil Tecnologia Ltda.</td>\n",
       "      <td>Freedom TD1000</td>\n",
       "      <td>Freedom TD1000</td>\n",
       "      <td>1</td>\n",
       "      <td>Telefone Móvel Celular</td>\n",
       "    </tr>\n",
       "    <tr>\n",
       "      <th>283</th>\n",
       "      <td>2001-09-19</td>\n",
       "      <td>020040100574</td>\n",
       "      <td>LG Electronics Inc.</td>\n",
       "      <td>LG-DM515</td>\n",
       "      <td>LG-DM515</td>\n",
       "      <td>1</td>\n",
       "      <td>Telefone Móvel Celular</td>\n",
       "    </tr>\n",
       "  </tbody>\n",
       "</table>\n",
       "<p>144923 rows × 7 columns</p>\n",
       "</div>"
      ],
      "text/plain": [
       "       Data da Homologação Número de Homologação  \\\n",
       "136048          2024-05-20          030572416551   \n",
       "138597          2024-05-20          004732404809   \n",
       "137797          2024-05-20          061542414894   \n",
       "140046          2024-05-20          050542403757   \n",
       "137799          2024-05-20          062092408867   \n",
       "...                    ...                   ...   \n",
       "378             2001-09-21          020050101504   \n",
       "332             2001-09-21          020060101504   \n",
       "345             2001-09-19          020020100563   \n",
       "409             2001-09-19          020030100563   \n",
       "283             2001-09-19          020040100574   \n",
       "\n",
       "                          Nome do Fabricante                Modelo  \\\n",
       "136048                             Decathlon               8605113   \n",
       "138597   Elsys Equipamentos Eletrônicos Ltda           ESF-DE5100I   \n",
       "137797  Shenzhen Baseus Technology Co., Ltd.             PPAP2-10A   \n",
       "140046                      Lear Corporation             KOBJXF23A   \n",
       "137799                        Fortinet, Inc.               FG-120G   \n",
       "...                                      ...                   ...   \n",
       "378                     Nortel Networks Inc.  Metrocell / 800 MFRM   \n",
       "332                     Nortel Networks Inc.   Minicell / 800 MFRM   \n",
       "345         Nokia do Brasil Tecnologia Ltda.                  3320   \n",
       "409         Nokia do Brasil Tecnologia Ltda.        Freedom TD1000   \n",
       "283                      LG Electronics Inc.              LG-DM515   \n",
       "\n",
       "              Nome Comercial  Categoria do Produto  \\\n",
       "136048                  W900                     2   \n",
       "138597                   NaN                     2   \n",
       "137797                   NaN                     1   \n",
       "140046                   NaN                     2   \n",
       "137799                   NaN                     3   \n",
       "...                      ...                   ...   \n",
       "378     Metrocell / 800 MFRM                     3   \n",
       "332      Minicell / 800 MFRM                     3   \n",
       "345                     3320                     1   \n",
       "409           Freedom TD1000                     1   \n",
       "283                 LG-DM515                     1   \n",
       "\n",
       "                                          Tipo do Produto  \n",
       "136048                   Transceptor de Radiação Restrita  \n",
       "138597     Sistemas de Identificação por Radiofrequências  \n",
       "137797  Acessório p/ Telefone Móvel Celular do tipo Ba...  \n",
       "140046     Sistemas Operando nas Faixas de RF Ultra Larga  \n",
       "137799                       Equipamento de Rede de Dados  \n",
       "...                                                   ...  \n",
       "378                   Transceptor para Estação Rádio Base  \n",
       "332                   Transceptor para Estação Rádio Base  \n",
       "345                                Telefone Móvel Celular  \n",
       "409                                Telefone Móvel Celular  \n",
       "283                                Telefone Móvel Celular  \n",
       "\n",
       "[144923 rows x 7 columns]"
      ]
     },
     "execution_count": 7,
     "metadata": {},
     "output_type": "execute_result"
    }
   ],
   "source": [
    "sch_database_file = '../../certificacao-homologacao/schwebsearch/datasets/sch_database/produtos_certificados.zip'\n",
    "df_sch, df_sch_models = load_sch(sch_database_file)\n",
    "df_sch"
   ]
  },
  {
   "cell_type": "code",
   "execution_count": 8,
   "id": "c9f67d4e-40da-41c9-bce0-1575767b9aad",
   "metadata": {},
   "outputs": [
    {
     "data": {
      "text/html": [
       "<div>\n",
       "<style scoped>\n",
       "    .dataframe tbody tr th:only-of-type {\n",
       "        vertical-align: middle;\n",
       "    }\n",
       "\n",
       "    .dataframe tbody tr th {\n",
       "        vertical-align: top;\n",
       "    }\n",
       "\n",
       "    .dataframe thead th {\n",
       "        text-align: right;\n",
       "    }\n",
       "</style>\n",
       "<table border=\"1\" class=\"dataframe\">\n",
       "  <thead>\n",
       "    <tr style=\"text-align: right;\">\n",
       "      <th></th>\n",
       "      <th>Número de Homologação</th>\n",
       "      <th>Nome do Fabricante</th>\n",
       "      <th>Modelo Completo</th>\n",
       "    </tr>\n",
       "  </thead>\n",
       "  <tbody>\n",
       "    <tr>\n",
       "      <th>0</th>\n",
       "      <td>030572416551</td>\n",
       "      <td>Decathlon</td>\n",
       "      <td>8605113 | W900</td>\n",
       "    </tr>\n",
       "    <tr>\n",
       "      <th>1</th>\n",
       "      <td>004732404809</td>\n",
       "      <td>Elsys Equipamentos Eletrônicos Ltda</td>\n",
       "      <td>ESF-DE5100I</td>\n",
       "    </tr>\n",
       "    <tr>\n",
       "      <th>2</th>\n",
       "      <td>061542414894</td>\n",
       "      <td>Shenzhen Baseus Technology Co., Ltd.</td>\n",
       "      <td>PPAP2-10A</td>\n",
       "    </tr>\n",
       "    <tr>\n",
       "      <th>3</th>\n",
       "      <td>050542403757</td>\n",
       "      <td>Lear Corporation</td>\n",
       "      <td>KOBJXF23A</td>\n",
       "    </tr>\n",
       "    <tr>\n",
       "      <th>4</th>\n",
       "      <td>062092408867</td>\n",
       "      <td>Fortinet, Inc.</td>\n",
       "      <td>FG-120G</td>\n",
       "    </tr>\n",
       "    <tr>\n",
       "      <th>...</th>\n",
       "      <td>...</td>\n",
       "      <td>...</td>\n",
       "      <td>...</td>\n",
       "    </tr>\n",
       "    <tr>\n",
       "      <th>69916</th>\n",
       "      <td>020050101504</td>\n",
       "      <td>Nortel Networks Inc.</td>\n",
       "      <td>Metrocell / 800 MFRM | Metrocell / 800 MFRM</td>\n",
       "    </tr>\n",
       "    <tr>\n",
       "      <th>69917</th>\n",
       "      <td>020060101504</td>\n",
       "      <td>Nortel Networks Inc.</td>\n",
       "      <td>Minicell / 800 MFRM | Minicell / 800 MFRM</td>\n",
       "    </tr>\n",
       "    <tr>\n",
       "      <th>69918</th>\n",
       "      <td>020020100563</td>\n",
       "      <td>Nokia do Brasil Tecnologia Ltda.</td>\n",
       "      <td>3320 | 3320</td>\n",
       "    </tr>\n",
       "    <tr>\n",
       "      <th>69919</th>\n",
       "      <td>020030100563</td>\n",
       "      <td>Nokia do Brasil Tecnologia Ltda.</td>\n",
       "      <td>Freedom TD1000 | Freedom TD1000</td>\n",
       "    </tr>\n",
       "    <tr>\n",
       "      <th>69920</th>\n",
       "      <td>020040100574</td>\n",
       "      <td>LG Electronics Inc.</td>\n",
       "      <td>LG-DM515 | LG-DM515</td>\n",
       "    </tr>\n",
       "  </tbody>\n",
       "</table>\n",
       "<p>69921 rows × 3 columns</p>\n",
       "</div>"
      ],
      "text/plain": [
       "      Número de Homologação                    Nome do Fabricante  \\\n",
       "0              030572416551                             Decathlon   \n",
       "1              004732404809   Elsys Equipamentos Eletrônicos Ltda   \n",
       "2              061542414894  Shenzhen Baseus Technology Co., Ltd.   \n",
       "3              050542403757                      Lear Corporation   \n",
       "4              062092408867                        Fortinet, Inc.   \n",
       "...                     ...                                   ...   \n",
       "69916          020050101504                  Nortel Networks Inc.   \n",
       "69917          020060101504                  Nortel Networks Inc.   \n",
       "69918          020020100563      Nokia do Brasil Tecnologia Ltda.   \n",
       "69919          020030100563      Nokia do Brasil Tecnologia Ltda.   \n",
       "69920          020040100574                   LG Electronics Inc.   \n",
       "\n",
       "                                   Modelo Completo  \n",
       "0                                   8605113 | W900  \n",
       "1                                      ESF-DE5100I  \n",
       "2                                        PPAP2-10A  \n",
       "3                                        KOBJXF23A  \n",
       "4                                          FG-120G  \n",
       "...                                            ...  \n",
       "69916  Metrocell / 800 MFRM | Metrocell / 800 MFRM  \n",
       "69917    Minicell / 800 MFRM | Minicell / 800 MFRM  \n",
       "69918                                  3320 | 3320  \n",
       "69919              Freedom TD1000 | Freedom TD1000  \n",
       "69920                          LG-DM515 | LG-DM515  \n",
       "\n",
       "[69921 rows x 3 columns]"
      ]
     },
     "execution_count": 8,
     "metadata": {},
     "output_type": "execute_result"
    }
   ],
   "source": [
    "df_sch_models"
   ]
  },
  {
   "cell_type": "code",
   "execution_count": 9,
   "id": "008041b6-84bd-4280-8f4b-d071335052fb",
   "metadata": {},
   "outputs": [
    {
     "data": {
      "text/html": [
       "<div>\n",
       "<style scoped>\n",
       "    .dataframe tbody tr th:only-of-type {\n",
       "        vertical-align: middle;\n",
       "    }\n",
       "\n",
       "    .dataframe tbody tr th {\n",
       "        vertical-align: top;\n",
       "    }\n",
       "\n",
       "    .dataframe thead th {\n",
       "        text-align: right;\n",
       "    }\n",
       "</style>\n",
       "<table border=\"1\" class=\"dataframe\">\n",
       "  <thead>\n",
       "    <tr style=\"text-align: right;\">\n",
       "      <th></th>\n",
       "      <th>ean_sch</th>\n",
       "      <th>sch_sch</th>\n",
       "    </tr>\n",
       "  </thead>\n",
       "  <tbody>\n",
       "    <tr>\n",
       "      <th>0</th>\n",
       "      <td>7892597349623</td>\n",
       "      <td>022972000330</td>\n",
       "    </tr>\n",
       "    <tr>\n",
       "      <th>1</th>\n",
       "      <td>7892597349630</td>\n",
       "      <td>022972000330</td>\n",
       "    </tr>\n",
       "    <tr>\n",
       "      <th>2</th>\n",
       "      <td>7892597350971</td>\n",
       "      <td>013692100330</td>\n",
       "    </tr>\n",
       "    <tr>\n",
       "      <th>3</th>\n",
       "      <td>7892597350988</td>\n",
       "      <td>013692100330</td>\n",
       "    </tr>\n",
       "    <tr>\n",
       "      <th>4</th>\n",
       "      <td>7892597351749</td>\n",
       "      <td>013692100330</td>\n",
       "    </tr>\n",
       "  </tbody>\n",
       "</table>\n",
       "</div>"
      ],
      "text/plain": [
       "         ean_sch       sch_sch\n",
       "0  7892597349623  022972000330\n",
       "1  7892597349630  022972000330\n",
       "2  7892597350971  013692100330\n",
       "3  7892597350988  013692100330\n",
       "4  7892597351749  013692100330"
      ]
     },
     "execution_count": 9,
     "metadata": {},
     "output_type": "execute_result"
    }
   ],
   "source": [
    "file_ean_celulares = '../datasets/lista_celulares_homologados_ean.xlsx'\n",
    "\n",
    "dtype = {'Número de Homologação': 'str', 'Código EAN': 'str'}\n",
    "\n",
    "df_ean_celulares = pd.read_excel(file_ean_celulares,dtype=dtype)\n",
    "df_ean_celulares\n",
    "df_ean_celulares = df_ean_celulares[df_ean_celulares['Código EAN'].str.len()>=13]\n",
    "df_ean_celulares[df_ean_celulares['Código EAN'].str.len()>=13]\n",
    "df_ean_celulares['Código EAN'] = df_ean_celulares['Código EAN'].apply(lambda x:  x.strip())\n",
    "\n",
    "columns_to_keep = ['Código EAN', 'Número de Homologação']\n",
    "df_ean_sch = df_ean_celulares[columns_to_keep].drop_duplicates()\n",
    "# df_ean_sch = df_ean_sch.dropna().reset_index(drop=True)\n",
    "# df_ean_sch = df_ean_sch.astype('int64')\n",
    "\n",
    "df_ean_sch.columns = ['ean_sch', 'sch_sch']\n",
    "df_ean_sch.head()"
   ]
  },
  {
   "cell_type": "code",
   "execution_count": 10,
   "id": "1e105db1-6c22-4f07-95e9-145bd2548da0",
   "metadata": {},
   "outputs": [],
   "source": [
    "creds_file = Path(os.environ['USERPROFILE'],'creds.ini')\n",
    "creds = configparser.ConfigParser()\n",
    "creds.read(creds_file)  \n",
    "\n",
    "client_id = creds['MERCADO_LIVRE']['client_id']\n",
    "client_secret = creds['MERCADO_LIVRE']['client_secret']\n",
    "actual_refresh_token = creds['MERCADO_LIVRE']['actual_refresh_token']\n",
    "actual_access_token = creds['MERCADO_LIVRE']['actual_access_token']"
   ]
  },
  {
   "cell_type": "code",
   "execution_count": 11,
   "id": "eb6056db-fd14-4002-aa73-227d651c96f1",
   "metadata": {},
   "outputs": [],
   "source": [
    "def update_access_token():\n",
    "\n",
    "    global actual_access_token\n",
    "    global actual_refresh_token\n",
    "    \n",
    "    actual_access_token, actual_refresh_token = get_new_access_token(actual_refresh_token,client_id,client_secret)\n",
    "    \n",
    "    creds['MERCADO_LIVRE']['actual_access_token'] = actual_access_token\n",
    "    creds['MERCADO_LIVRE']['actual_refresh_token'] = actual_refresh_token\n",
    "    \n",
    "    with open(creds_file, 'w') as file:\n",
    "        creds.write(file)"
   ]
  },
  {
   "cell_type": "markdown",
   "id": "ad603cb3-32e3-40b5-80a1-42acf5b581d8",
   "metadata": {},
   "source": [
    "# Análise"
   ]
  },
  {
   "cell_type": "markdown",
   "id": "a62a42e5-74dc-48b0-8b9a-5743b9960f54",
   "metadata": {},
   "source": [
    "## Pesquisa categoria *\"Celulares e Smartphones\"*"
   ]
  },
  {
   "cell_type": "code",
   "execution_count": 12,
   "id": "6613bad1-b9e2-4e91-b616-68b9e7715a3c",
   "metadata": {},
   "outputs": [],
   "source": [
    "update_access_token()"
   ]
  },
  {
   "cell_type": "code",
   "execution_count": 46,
   "id": "6373c591-c037-4999-8650-6eeb1583df1b",
   "metadata": {},
   "outputs": [
    {
     "name": "stdout",
     "output_type": "stream",
     "text": [
      "Total itens found: 63812\n"
     ]
    }
   ],
   "source": [
    "# Get first page of results\n",
    "url = 'https://api.mercadolibre.com/sites/MLB/search?category=MLB1055'\n",
    "params = {'offset': 0}\n",
    "headers = {\n",
    "  'Authorization': f'Bearer {actual_access_token}'\n",
    "}\n",
    "\n",
    "response = requests.request(\"GET\", url, headers=headers, params=params)\n",
    "content = response.content.decode(response.encoding)\n",
    "content =  json.loads(content)\n",
    "category_results = content['results']\n",
    "\n",
    "total_items = content['paging']['total']\n",
    "next_offsets = list(range(50,total_items+1,50))\n",
    "\n",
    "print(f'Total itens found: {total_items}')"
   ]
  },
  {
   "cell_type": "code",
   "execution_count": 47,
   "id": "51d52760-77d0-45cb-8899-fa9155d61cf8",
   "metadata": {},
   "outputs": [
    {
     "data": {
      "application/vnd.jupyter.widget-view+json": {
       "model_id": "b8b05aa5ef634d8da29f38a96ee3de55",
       "version_major": 2,
       "version_minor": 0
      },
      "text/plain": [
       "  0%|          | 0/1276 [00:00<?, ?it/s]"
      ]
     },
     "metadata": {},
     "output_type": "display_data"
    }
   ],
   "source": [
    "for offset in tqdm(next_offsets):\n",
    "    \n",
    "    params = {'offset': offset}\n",
    "    response = requests.request(\"GET\", url, headers=headers, params=params)   \n",
    "    \n",
    "    if response.status_code == 200:\n",
    "        content = response.content.decode(response.encoding)\n",
    "        content =  json.loads(content)\n",
    "        category_results.extend(content['results'])\n",
    "    else:\n",
    "        break"
   ]
  },
  {
   "cell_type": "code",
   "execution_count": 48,
   "id": "30dfec87-5b0d-4e1b-9ca5-4abedbc7f8b4",
   "metadata": {},
   "outputs": [
    {
     "name": "stdout",
     "output_type": "stream",
     "text": [
      "Total models to search: 1853\n"
     ]
    }
   ],
   "source": [
    "category_parsed_results = [parse_results(result) for result in category_results]\n",
    "df_cellphones = pd.DataFrame(category_parsed_results)\n",
    "df_brand_models = df_cellphones[['brand', 'model']].drop_duplicates()\n",
    "models_to_seach = df_brand_models.apply(lambda row: ' '.join(row),axis=1).to_list()\n",
    "print('Total models to search:', len(models_to_seach))"
   ]
  },
  {
   "cell_type": "markdown",
   "id": "b53a5363-62d5-4462-bf12-1334e259d729",
   "metadata": {},
   "source": [
    "## Pesquisa por modelos"
   ]
  },
  {
   "cell_type": "code",
   "execution_count": null,
   "id": "2d9f919b-f3e6-4b80-a696-e4d7762a8020",
   "metadata": {},
   "outputs": [
    {
     "data": {
      "application/vnd.jupyter.widget-view+json": {
       "model_id": "bba6a35313054cb581918b3489c2e3e3",
       "version_major": 2,
       "version_minor": 0
      },
      "text/plain": [
       "  0%|          | 0/1853 [00:00<?, ?it/s]"
      ]
     },
     "metadata": {},
     "output_type": "display_data"
    },
    {
     "data": {
      "application/vnd.jupyter.widget-view+json": {
       "model_id": "",
       "version_major": 2,
       "version_minor": 0
      },
      "text/plain": [
       "  0%|          | 0/2 [00:00<?, ?it/s]"
      ]
     },
     "metadata": {},
     "output_type": "display_data"
    },
    {
     "data": {
      "application/vnd.jupyter.widget-view+json": {
       "model_id": "",
       "version_major": 2,
       "version_minor": 0
      },
      "text/plain": [
       "  0%|          | 0/4 [00:00<?, ?it/s]"
      ]
     },
     "metadata": {},
     "output_type": "display_data"
    },
    {
     "data": {
      "application/vnd.jupyter.widget-view+json": {
       "model_id": "",
       "version_major": 2,
       "version_minor": 0
      },
      "text/plain": [
       "  0%|          | 0/2 [00:00<?, ?it/s]"
      ]
     },
     "metadata": {},
     "output_type": "display_data"
    },
    {
     "data": {
      "application/vnd.jupyter.widget-view+json": {
       "model_id": "",
       "version_major": 2,
       "version_minor": 0
      },
      "text/plain": [
       "0it [00:00, ?it/s]"
      ]
     },
     "metadata": {},
     "output_type": "display_data"
    },
    {
     "data": {
      "application/vnd.jupyter.widget-view+json": {
       "model_id": "",
       "version_major": 2,
       "version_minor": 0
      },
      "text/plain": [
       "  0%|          | 0/13 [00:00<?, ?it/s]"
      ]
     },
     "metadata": {},
     "output_type": "display_data"
    },
    {
     "data": {
      "application/vnd.jupyter.widget-view+json": {
       "model_id": "",
       "version_major": 2,
       "version_minor": 0
      },
      "text/plain": [
       "  0%|          | 0/1 [00:00<?, ?it/s]"
      ]
     },
     "metadata": {},
     "output_type": "display_data"
    },
    {
     "data": {
      "application/vnd.jupyter.widget-view+json": {
       "model_id": "",
       "version_major": 2,
       "version_minor": 0
      },
      "text/plain": [
       "  0%|          | 0/20 [00:00<?, ?it/s]"
      ]
     },
     "metadata": {},
     "output_type": "display_data"
    },
    {
     "data": {
      "application/vnd.jupyter.widget-view+json": {
       "model_id": "",
       "version_major": 2,
       "version_minor": 0
      },
      "text/plain": [
       "  0%|          | 0/20 [00:00<?, ?it/s]"
      ]
     },
     "metadata": {},
     "output_type": "display_data"
    },
    {
     "data": {
      "application/vnd.jupyter.widget-view+json": {
       "model_id": "",
       "version_major": 2,
       "version_minor": 0
      },
      "text/plain": [
       "  0%|          | 0/2 [00:00<?, ?it/s]"
      ]
     },
     "metadata": {},
     "output_type": "display_data"
    },
    {
     "data": {
      "application/vnd.jupyter.widget-view+json": {
       "model_id": "",
       "version_major": 2,
       "version_minor": 0
      },
      "text/plain": [
       "  0%|          | 0/2 [00:00<?, ?it/s]"
      ]
     },
     "metadata": {},
     "output_type": "display_data"
    },
    {
     "data": {
      "application/vnd.jupyter.widget-view+json": {
       "model_id": "",
       "version_major": 2,
       "version_minor": 0
      },
      "text/plain": [
       "  0%|          | 0/4 [00:00<?, ?it/s]"
      ]
     },
     "metadata": {},
     "output_type": "display_data"
    },
    {
     "data": {
      "application/vnd.jupyter.widget-view+json": {
       "model_id": "",
       "version_major": 2,
       "version_minor": 0
      },
      "text/plain": [
       "  0%|          | 0/1 [00:00<?, ?it/s]"
      ]
     },
     "metadata": {},
     "output_type": "display_data"
    },
    {
     "data": {
      "application/vnd.jupyter.widget-view+json": {
       "model_id": "",
       "version_major": 2,
       "version_minor": 0
      },
      "text/plain": [
       "0it [00:00, ?it/s]"
      ]
     },
     "metadata": {},
     "output_type": "display_data"
    },
    {
     "data": {
      "application/vnd.jupyter.widget-view+json": {
       "model_id": "",
       "version_major": 2,
       "version_minor": 0
      },
      "text/plain": [
       "  0%|          | 0/1 [00:00<?, ?it/s]"
      ]
     },
     "metadata": {},
     "output_type": "display_data"
    },
    {
     "data": {
      "application/vnd.jupyter.widget-view+json": {
       "model_id": "",
       "version_major": 2,
       "version_minor": 0
      },
      "text/plain": [
       "  0%|          | 0/1 [00:00<?, ?it/s]"
      ]
     },
     "metadata": {},
     "output_type": "display_data"
    },
    {
     "data": {
      "application/vnd.jupyter.widget-view+json": {
       "model_id": "",
       "version_major": 2,
       "version_minor": 0
      },
      "text/plain": [
       "0it [00:00, ?it/s]"
      ]
     },
     "metadata": {},
     "output_type": "display_data"
    },
    {
     "data": {
      "application/vnd.jupyter.widget-view+json": {
       "model_id": "",
       "version_major": 2,
       "version_minor": 0
      },
      "text/plain": [
       "0it [00:00, ?it/s]"
      ]
     },
     "metadata": {},
     "output_type": "display_data"
    },
    {
     "data": {
      "application/vnd.jupyter.widget-view+json": {
       "model_id": "",
       "version_major": 2,
       "version_minor": 0
      },
      "text/plain": [
       "  0%|          | 0/2 [00:00<?, ?it/s]"
      ]
     },
     "metadata": {},
     "output_type": "display_data"
    },
    {
     "data": {
      "application/vnd.jupyter.widget-view+json": {
       "model_id": "",
       "version_major": 2,
       "version_minor": 0
      },
      "text/plain": [
       "  0%|          | 0/2 [00:00<?, ?it/s]"
      ]
     },
     "metadata": {},
     "output_type": "display_data"
    },
    {
     "data": {
      "application/vnd.jupyter.widget-view+json": {
       "model_id": "",
       "version_major": 2,
       "version_minor": 0
      },
      "text/plain": [
       "  0%|          | 0/2 [00:00<?, ?it/s]"
      ]
     },
     "metadata": {},
     "output_type": "display_data"
    },
    {
     "data": {
      "application/vnd.jupyter.widget-view+json": {
       "model_id": "",
       "version_major": 2,
       "version_minor": 0
      },
      "text/plain": [
       "  0%|          | 0/1 [00:00<?, ?it/s]"
      ]
     },
     "metadata": {},
     "output_type": "display_data"
    },
    {
     "data": {
      "application/vnd.jupyter.widget-view+json": {
       "model_id": "",
       "version_major": 2,
       "version_minor": 0
      },
      "text/plain": [
       "  0%|          | 0/20 [00:00<?, ?it/s]"
      ]
     },
     "metadata": {},
     "output_type": "display_data"
    },
    {
     "data": {
      "application/vnd.jupyter.widget-view+json": {
       "model_id": "",
       "version_major": 2,
       "version_minor": 0
      },
      "text/plain": [
       "  0%|          | 0/20 [00:00<?, ?it/s]"
      ]
     },
     "metadata": {},
     "output_type": "display_data"
    },
    {
     "data": {
      "application/vnd.jupyter.widget-view+json": {
       "model_id": "",
       "version_major": 2,
       "version_minor": 0
      },
      "text/plain": [
       "  0%|          | 0/1 [00:00<?, ?it/s]"
      ]
     },
     "metadata": {},
     "output_type": "display_data"
    },
    {
     "data": {
      "application/vnd.jupyter.widget-view+json": {
       "model_id": "",
       "version_major": 2,
       "version_minor": 0
      },
      "text/plain": [
       "  0%|          | 0/20 [00:00<?, ?it/s]"
      ]
     },
     "metadata": {},
     "output_type": "display_data"
    },
    {
     "data": {
      "application/vnd.jupyter.widget-view+json": {
       "model_id": "",
       "version_major": 2,
       "version_minor": 0
      },
      "text/plain": [
       "  0%|          | 0/2 [00:00<?, ?it/s]"
      ]
     },
     "metadata": {},
     "output_type": "display_data"
    },
    {
     "data": {
      "application/vnd.jupyter.widget-view+json": {
       "model_id": "",
       "version_major": 2,
       "version_minor": 0
      },
      "text/plain": [
       "0it [00:00, ?it/s]"
      ]
     },
     "metadata": {},
     "output_type": "display_data"
    },
    {
     "data": {
      "application/vnd.jupyter.widget-view+json": {
       "model_id": "",
       "version_major": 2,
       "version_minor": 0
      },
      "text/plain": [
       "  0%|          | 0/1 [00:00<?, ?it/s]"
      ]
     },
     "metadata": {},
     "output_type": "display_data"
    },
    {
     "data": {
      "application/vnd.jupyter.widget-view+json": {
       "model_id": "",
       "version_major": 2,
       "version_minor": 0
      },
      "text/plain": [
       "  0%|          | 0/2 [00:00<?, ?it/s]"
      ]
     },
     "metadata": {},
     "output_type": "display_data"
    },
    {
     "data": {
      "application/vnd.jupyter.widget-view+json": {
       "model_id": "",
       "version_major": 2,
       "version_minor": 0
      },
      "text/plain": [
       "  0%|          | 0/2 [00:00<?, ?it/s]"
      ]
     },
     "metadata": {},
     "output_type": "display_data"
    },
    {
     "data": {
      "application/vnd.jupyter.widget-view+json": {
       "model_id": "",
       "version_major": 2,
       "version_minor": 0
      },
      "text/plain": [
       "0it [00:00, ?it/s]"
      ]
     },
     "metadata": {},
     "output_type": "display_data"
    },
    {
     "data": {
      "application/vnd.jupyter.widget-view+json": {
       "model_id": "",
       "version_major": 2,
       "version_minor": 0
      },
      "text/plain": [
       "0it [00:00, ?it/s]"
      ]
     },
     "metadata": {},
     "output_type": "display_data"
    },
    {
     "data": {
      "application/vnd.jupyter.widget-view+json": {
       "model_id": "",
       "version_major": 2,
       "version_minor": 0
      },
      "text/plain": [
       "0it [00:00, ?it/s]"
      ]
     },
     "metadata": {},
     "output_type": "display_data"
    },
    {
     "data": {
      "application/vnd.jupyter.widget-view+json": {
       "model_id": "",
       "version_major": 2,
       "version_minor": 0
      },
      "text/plain": [
       "  0%|          | 0/3 [00:00<?, ?it/s]"
      ]
     },
     "metadata": {},
     "output_type": "display_data"
    },
    {
     "data": {
      "application/vnd.jupyter.widget-view+json": {
       "model_id": "",
       "version_major": 2,
       "version_minor": 0
      },
      "text/plain": [
       "  0%|          | 0/16 [00:00<?, ?it/s]"
      ]
     },
     "metadata": {},
     "output_type": "display_data"
    },
    {
     "data": {
      "application/vnd.jupyter.widget-view+json": {
       "model_id": "",
       "version_major": 2,
       "version_minor": 0
      },
      "text/plain": [
       "0it [00:00, ?it/s]"
      ]
     },
     "metadata": {},
     "output_type": "display_data"
    },
    {
     "data": {
      "application/vnd.jupyter.widget-view+json": {
       "model_id": "",
       "version_major": 2,
       "version_minor": 0
      },
      "text/plain": [
       "0it [00:00, ?it/s]"
      ]
     },
     "metadata": {},
     "output_type": "display_data"
    },
    {
     "data": {
      "application/vnd.jupyter.widget-view+json": {
       "model_id": "",
       "version_major": 2,
       "version_minor": 0
      },
      "text/plain": [
       "  0%|          | 0/2 [00:00<?, ?it/s]"
      ]
     },
     "metadata": {},
     "output_type": "display_data"
    },
    {
     "data": {
      "application/vnd.jupyter.widget-view+json": {
       "model_id": "",
       "version_major": 2,
       "version_minor": 0
      },
      "text/plain": [
       "  0%|          | 0/5 [00:00<?, ?it/s]"
      ]
     },
     "metadata": {},
     "output_type": "display_data"
    },
    {
     "data": {
      "application/vnd.jupyter.widget-view+json": {
       "model_id": "",
       "version_major": 2,
       "version_minor": 0
      },
      "text/plain": [
       "0it [00:00, ?it/s]"
      ]
     },
     "metadata": {},
     "output_type": "display_data"
    },
    {
     "data": {
      "application/vnd.jupyter.widget-view+json": {
       "model_id": "",
       "version_major": 2,
       "version_minor": 0
      },
      "text/plain": [
       "  0%|          | 0/2 [00:00<?, ?it/s]"
      ]
     },
     "metadata": {},
     "output_type": "display_data"
    },
    {
     "data": {
      "application/vnd.jupyter.widget-view+json": {
       "model_id": "",
       "version_major": 2,
       "version_minor": 0
      },
      "text/plain": [
       "  0%|          | 0/1 [00:00<?, ?it/s]"
      ]
     },
     "metadata": {},
     "output_type": "display_data"
    },
    {
     "data": {
      "application/vnd.jupyter.widget-view+json": {
       "model_id": "",
       "version_major": 2,
       "version_minor": 0
      },
      "text/plain": [
       "  0%|          | 0/4 [00:00<?, ?it/s]"
      ]
     },
     "metadata": {},
     "output_type": "display_data"
    },
    {
     "data": {
      "application/vnd.jupyter.widget-view+json": {
       "model_id": "",
       "version_major": 2,
       "version_minor": 0
      },
      "text/plain": [
       "  0%|          | 0/8 [00:00<?, ?it/s]"
      ]
     },
     "metadata": {},
     "output_type": "display_data"
    },
    {
     "data": {
      "application/vnd.jupyter.widget-view+json": {
       "model_id": "",
       "version_major": 2,
       "version_minor": 0
      },
      "text/plain": [
       "  0%|          | 0/17 [00:00<?, ?it/s]"
      ]
     },
     "metadata": {},
     "output_type": "display_data"
    },
    {
     "data": {
      "application/vnd.jupyter.widget-view+json": {
       "model_id": "",
       "version_major": 2,
       "version_minor": 0
      },
      "text/plain": [
       "0it [00:00, ?it/s]"
      ]
     },
     "metadata": {},
     "output_type": "display_data"
    },
    {
     "data": {
      "application/vnd.jupyter.widget-view+json": {
       "model_id": "",
       "version_major": 2,
       "version_minor": 0
      },
      "text/plain": [
       "  0%|          | 0/2 [00:00<?, ?it/s]"
      ]
     },
     "metadata": {},
     "output_type": "display_data"
    },
    {
     "data": {
      "application/vnd.jupyter.widget-view+json": {
       "model_id": "",
       "version_major": 2,
       "version_minor": 0
      },
      "text/plain": [
       "0it [00:00, ?it/s]"
      ]
     },
     "metadata": {},
     "output_type": "display_data"
    },
    {
     "data": {
      "application/vnd.jupyter.widget-view+json": {
       "model_id": "",
       "version_major": 2,
       "version_minor": 0
      },
      "text/plain": [
       "  0%|          | 0/2 [00:00<?, ?it/s]"
      ]
     },
     "metadata": {},
     "output_type": "display_data"
    },
    {
     "data": {
      "application/vnd.jupyter.widget-view+json": {
       "model_id": "",
       "version_major": 2,
       "version_minor": 0
      },
      "text/plain": [
       "0it [00:00, ?it/s]"
      ]
     },
     "metadata": {},
     "output_type": "display_data"
    },
    {
     "data": {
      "application/vnd.jupyter.widget-view+json": {
       "model_id": "",
       "version_major": 2,
       "version_minor": 0
      },
      "text/plain": [
       "  0%|          | 0/20 [00:00<?, ?it/s]"
      ]
     },
     "metadata": {},
     "output_type": "display_data"
    },
    {
     "data": {
      "application/vnd.jupyter.widget-view+json": {
       "model_id": "",
       "version_major": 2,
       "version_minor": 0
      },
      "text/plain": [
       "  0%|          | 0/2 [00:00<?, ?it/s]"
      ]
     },
     "metadata": {},
     "output_type": "display_data"
    },
    {
     "data": {
      "application/vnd.jupyter.widget-view+json": {
       "model_id": "",
       "version_major": 2,
       "version_minor": 0
      },
      "text/plain": [
       "  0%|          | 0/12 [00:00<?, ?it/s]"
      ]
     },
     "metadata": {},
     "output_type": "display_data"
    },
    {
     "data": {
      "application/vnd.jupyter.widget-view+json": {
       "model_id": "",
       "version_major": 2,
       "version_minor": 0
      },
      "text/plain": [
       "  0%|          | 0/1 [00:00<?, ?it/s]"
      ]
     },
     "metadata": {},
     "output_type": "display_data"
    },
    {
     "data": {
      "application/vnd.jupyter.widget-view+json": {
       "model_id": "",
       "version_major": 2,
       "version_minor": 0
      },
      "text/plain": [
       "0it [00:00, ?it/s]"
      ]
     },
     "metadata": {},
     "output_type": "display_data"
    },
    {
     "data": {
      "application/vnd.jupyter.widget-view+json": {
       "model_id": "",
       "version_major": 2,
       "version_minor": 0
      },
      "text/plain": [
       "0it [00:00, ?it/s]"
      ]
     },
     "metadata": {},
     "output_type": "display_data"
    },
    {
     "data": {
      "application/vnd.jupyter.widget-view+json": {
       "model_id": "",
       "version_major": 2,
       "version_minor": 0
      },
      "text/plain": [
       "  0%|          | 0/3 [00:00<?, ?it/s]"
      ]
     },
     "metadata": {},
     "output_type": "display_data"
    },
    {
     "data": {
      "application/vnd.jupyter.widget-view+json": {
       "model_id": "",
       "version_major": 2,
       "version_minor": 0
      },
      "text/plain": [
       "  0%|          | 0/2 [00:00<?, ?it/s]"
      ]
     },
     "metadata": {},
     "output_type": "display_data"
    },
    {
     "data": {
      "application/vnd.jupyter.widget-view+json": {
       "model_id": "",
       "version_major": 2,
       "version_minor": 0
      },
      "text/plain": [
       "  0%|          | 0/1 [00:00<?, ?it/s]"
      ]
     },
     "metadata": {},
     "output_type": "display_data"
    },
    {
     "data": {
      "application/vnd.jupyter.widget-view+json": {
       "model_id": "",
       "version_major": 2,
       "version_minor": 0
      },
      "text/plain": [
       "  0%|          | 0/2 [00:00<?, ?it/s]"
      ]
     },
     "metadata": {},
     "output_type": "display_data"
    },
    {
     "data": {
      "application/vnd.jupyter.widget-view+json": {
       "model_id": "",
       "version_major": 2,
       "version_minor": 0
      },
      "text/plain": [
       "  0%|          | 0/20 [00:00<?, ?it/s]"
      ]
     },
     "metadata": {},
     "output_type": "display_data"
    },
    {
     "data": {
      "application/vnd.jupyter.widget-view+json": {
       "model_id": "",
       "version_major": 2,
       "version_minor": 0
      },
      "text/plain": [
       "  0%|          | 0/2 [00:00<?, ?it/s]"
      ]
     },
     "metadata": {},
     "output_type": "display_data"
    },
    {
     "data": {
      "application/vnd.jupyter.widget-view+json": {
       "model_id": "",
       "version_major": 2,
       "version_minor": 0
      },
      "text/plain": [
       "  0%|          | 0/1 [00:00<?, ?it/s]"
      ]
     },
     "metadata": {},
     "output_type": "display_data"
    },
    {
     "data": {
      "application/vnd.jupyter.widget-view+json": {
       "model_id": "",
       "version_major": 2,
       "version_minor": 0
      },
      "text/plain": [
       "  0%|          | 0/8 [00:00<?, ?it/s]"
      ]
     },
     "metadata": {},
     "output_type": "display_data"
    },
    {
     "data": {
      "application/vnd.jupyter.widget-view+json": {
       "model_id": "",
       "version_major": 2,
       "version_minor": 0
      },
      "text/plain": [
       "0it [00:00, ?it/s]"
      ]
     },
     "metadata": {},
     "output_type": "display_data"
    },
    {
     "data": {
      "application/vnd.jupyter.widget-view+json": {
       "model_id": "",
       "version_major": 2,
       "version_minor": 0
      },
      "text/plain": [
       "0it [00:00, ?it/s]"
      ]
     },
     "metadata": {},
     "output_type": "display_data"
    },
    {
     "data": {
      "application/vnd.jupyter.widget-view+json": {
       "model_id": "",
       "version_major": 2,
       "version_minor": 0
      },
      "text/plain": [
       "  0%|          | 0/4 [00:00<?, ?it/s]"
      ]
     },
     "metadata": {},
     "output_type": "display_data"
    },
    {
     "data": {
      "application/vnd.jupyter.widget-view+json": {
       "model_id": "",
       "version_major": 2,
       "version_minor": 0
      },
      "text/plain": [
       "  0%|          | 0/2 [00:00<?, ?it/s]"
      ]
     },
     "metadata": {},
     "output_type": "display_data"
    },
    {
     "data": {
      "application/vnd.jupyter.widget-view+json": {
       "model_id": "",
       "version_major": 2,
       "version_minor": 0
      },
      "text/plain": [
       "  0%|          | 0/2 [00:00<?, ?it/s]"
      ]
     },
     "metadata": {},
     "output_type": "display_data"
    },
    {
     "data": {
      "application/vnd.jupyter.widget-view+json": {
       "model_id": "",
       "version_major": 2,
       "version_minor": 0
      },
      "text/plain": [
       "0it [00:00, ?it/s]"
      ]
     },
     "metadata": {},
     "output_type": "display_data"
    },
    {
     "data": {
      "application/vnd.jupyter.widget-view+json": {
       "model_id": "",
       "version_major": 2,
       "version_minor": 0
      },
      "text/plain": [
       "  0%|          | 0/1 [00:00<?, ?it/s]"
      ]
     },
     "metadata": {},
     "output_type": "display_data"
    },
    {
     "data": {
      "application/vnd.jupyter.widget-view+json": {
       "model_id": "",
       "version_major": 2,
       "version_minor": 0
      },
      "text/plain": [
       "0it [00:00, ?it/s]"
      ]
     },
     "metadata": {},
     "output_type": "display_data"
    },
    {
     "data": {
      "application/vnd.jupyter.widget-view+json": {
       "model_id": "",
       "version_major": 2,
       "version_minor": 0
      },
      "text/plain": [
       "  0%|          | 0/2 [00:00<?, ?it/s]"
      ]
     },
     "metadata": {},
     "output_type": "display_data"
    },
    {
     "data": {
      "application/vnd.jupyter.widget-view+json": {
       "model_id": "",
       "version_major": 2,
       "version_minor": 0
      },
      "text/plain": [
       "  0%|          | 0/1 [00:00<?, ?it/s]"
      ]
     },
     "metadata": {},
     "output_type": "display_data"
    },
    {
     "data": {
      "application/vnd.jupyter.widget-view+json": {
       "model_id": "",
       "version_major": 2,
       "version_minor": 0
      },
      "text/plain": [
       "  0%|          | 0/2 [00:00<?, ?it/s]"
      ]
     },
     "metadata": {},
     "output_type": "display_data"
    },
    {
     "data": {
      "application/vnd.jupyter.widget-view+json": {
       "model_id": "",
       "version_major": 2,
       "version_minor": 0
      },
      "text/plain": [
       "  0%|          | 0/5 [00:00<?, ?it/s]"
      ]
     },
     "metadata": {},
     "output_type": "display_data"
    },
    {
     "data": {
      "application/vnd.jupyter.widget-view+json": {
       "model_id": "",
       "version_major": 2,
       "version_minor": 0
      },
      "text/plain": [
       "  0%|          | 0/1 [00:00<?, ?it/s]"
      ]
     },
     "metadata": {},
     "output_type": "display_data"
    },
    {
     "data": {
      "application/vnd.jupyter.widget-view+json": {
       "model_id": "",
       "version_major": 2,
       "version_minor": 0
      },
      "text/plain": [
       "  0%|          | 0/16 [00:00<?, ?it/s]"
      ]
     },
     "metadata": {},
     "output_type": "display_data"
    },
    {
     "data": {
      "application/vnd.jupyter.widget-view+json": {
       "model_id": "",
       "version_major": 2,
       "version_minor": 0
      },
      "text/plain": [
       "  0%|          | 0/10 [00:00<?, ?it/s]"
      ]
     },
     "metadata": {},
     "output_type": "display_data"
    },
    {
     "data": {
      "application/vnd.jupyter.widget-view+json": {
       "model_id": "",
       "version_major": 2,
       "version_minor": 0
      },
      "text/plain": [
       "  0%|          | 0/1 [00:00<?, ?it/s]"
      ]
     },
     "metadata": {},
     "output_type": "display_data"
    },
    {
     "data": {
      "application/vnd.jupyter.widget-view+json": {
       "model_id": "",
       "version_major": 2,
       "version_minor": 0
      },
      "text/plain": [
       "  0%|          | 0/1 [00:00<?, ?it/s]"
      ]
     },
     "metadata": {},
     "output_type": "display_data"
    },
    {
     "data": {
      "application/vnd.jupyter.widget-view+json": {
       "model_id": "",
       "version_major": 2,
       "version_minor": 0
      },
      "text/plain": [
       "  0%|          | 0/1 [00:00<?, ?it/s]"
      ]
     },
     "metadata": {},
     "output_type": "display_data"
    },
    {
     "data": {
      "application/vnd.jupyter.widget-view+json": {
       "model_id": "",
       "version_major": 2,
       "version_minor": 0
      },
      "text/plain": [
       "  0%|          | 0/3 [00:00<?, ?it/s]"
      ]
     },
     "metadata": {},
     "output_type": "display_data"
    },
    {
     "data": {
      "application/vnd.jupyter.widget-view+json": {
       "model_id": "",
       "version_major": 2,
       "version_minor": 0
      },
      "text/plain": [
       "  0%|          | 0/2 [00:00<?, ?it/s]"
      ]
     },
     "metadata": {},
     "output_type": "display_data"
    },
    {
     "data": {
      "application/vnd.jupyter.widget-view+json": {
       "model_id": "",
       "version_major": 2,
       "version_minor": 0
      },
      "text/plain": [
       "  0%|          | 0/1 [00:00<?, ?it/s]"
      ]
     },
     "metadata": {},
     "output_type": "display_data"
    },
    {
     "data": {
      "application/vnd.jupyter.widget-view+json": {
       "model_id": "",
       "version_major": 2,
       "version_minor": 0
      },
      "text/plain": [
       "0it [00:00, ?it/s]"
      ]
     },
     "metadata": {},
     "output_type": "display_data"
    },
    {
     "data": {
      "application/vnd.jupyter.widget-view+json": {
       "model_id": "",
       "version_major": 2,
       "version_minor": 0
      },
      "text/plain": [
       "0it [00:00, ?it/s]"
      ]
     },
     "metadata": {},
     "output_type": "display_data"
    },
    {
     "data": {
      "application/vnd.jupyter.widget-view+json": {
       "model_id": "",
       "version_major": 2,
       "version_minor": 0
      },
      "text/plain": [
       "0it [00:00, ?it/s]"
      ]
     },
     "metadata": {},
     "output_type": "display_data"
    },
    {
     "data": {
      "application/vnd.jupyter.widget-view+json": {
       "model_id": "",
       "version_major": 2,
       "version_minor": 0
      },
      "text/plain": [
       "0it [00:00, ?it/s]"
      ]
     },
     "metadata": {},
     "output_type": "display_data"
    },
    {
     "data": {
      "application/vnd.jupyter.widget-view+json": {
       "model_id": "",
       "version_major": 2,
       "version_minor": 0
      },
      "text/plain": [
       "  0%|          | 0/7 [00:00<?, ?it/s]"
      ]
     },
     "metadata": {},
     "output_type": "display_data"
    },
    {
     "data": {
      "application/vnd.jupyter.widget-view+json": {
       "model_id": "",
       "version_major": 2,
       "version_minor": 0
      },
      "text/plain": [
       "  0%|          | 0/17 [00:00<?, ?it/s]"
      ]
     },
     "metadata": {},
     "output_type": "display_data"
    },
    {
     "data": {
      "application/vnd.jupyter.widget-view+json": {
       "model_id": "",
       "version_major": 2,
       "version_minor": 0
      },
      "text/plain": [
       "  0%|          | 0/1 [00:00<?, ?it/s]"
      ]
     },
     "metadata": {},
     "output_type": "display_data"
    },
    {
     "data": {
      "application/vnd.jupyter.widget-view+json": {
       "model_id": "",
       "version_major": 2,
       "version_minor": 0
      },
      "text/plain": [
       "0it [00:00, ?it/s]"
      ]
     },
     "metadata": {},
     "output_type": "display_data"
    },
    {
     "data": {
      "application/vnd.jupyter.widget-view+json": {
       "model_id": "",
       "version_major": 2,
       "version_minor": 0
      },
      "text/plain": [
       "  0%|          | 0/4 [00:00<?, ?it/s]"
      ]
     },
     "metadata": {},
     "output_type": "display_data"
    },
    {
     "data": {
      "application/vnd.jupyter.widget-view+json": {
       "model_id": "",
       "version_major": 2,
       "version_minor": 0
      },
      "text/plain": [
       "0it [00:00, ?it/s]"
      ]
     },
     "metadata": {},
     "output_type": "display_data"
    },
    {
     "data": {
      "application/vnd.jupyter.widget-view+json": {
       "model_id": "",
       "version_major": 2,
       "version_minor": 0
      },
      "text/plain": [
       "  0%|          | 0/2 [00:00<?, ?it/s]"
      ]
     },
     "metadata": {},
     "output_type": "display_data"
    },
    {
     "data": {
      "application/vnd.jupyter.widget-view+json": {
       "model_id": "",
       "version_major": 2,
       "version_minor": 0
      },
      "text/plain": [
       "  0%|          | 0/12 [00:00<?, ?it/s]"
      ]
     },
     "metadata": {},
     "output_type": "display_data"
    },
    {
     "data": {
      "application/vnd.jupyter.widget-view+json": {
       "model_id": "",
       "version_major": 2,
       "version_minor": 0
      },
      "text/plain": [
       "  0%|          | 0/3 [00:00<?, ?it/s]"
      ]
     },
     "metadata": {},
     "output_type": "display_data"
    },
    {
     "data": {
      "application/vnd.jupyter.widget-view+json": {
       "model_id": "",
       "version_major": 2,
       "version_minor": 0
      },
      "text/plain": [
       "  0%|          | 0/2 [00:00<?, ?it/s]"
      ]
     },
     "metadata": {},
     "output_type": "display_data"
    },
    {
     "data": {
      "application/vnd.jupyter.widget-view+json": {
       "model_id": "",
       "version_major": 2,
       "version_minor": 0
      },
      "text/plain": [
       "  0%|          | 0/17 [00:00<?, ?it/s]"
      ]
     },
     "metadata": {},
     "output_type": "display_data"
    },
    {
     "data": {
      "application/vnd.jupyter.widget-view+json": {
       "model_id": "",
       "version_major": 2,
       "version_minor": 0
      },
      "text/plain": [
       "0it [00:00, ?it/s]"
      ]
     },
     "metadata": {},
     "output_type": "display_data"
    },
    {
     "data": {
      "application/vnd.jupyter.widget-view+json": {
       "model_id": "",
       "version_major": 2,
       "version_minor": 0
      },
      "text/plain": [
       "  0%|          | 0/1 [00:00<?, ?it/s]"
      ]
     },
     "metadata": {},
     "output_type": "display_data"
    },
    {
     "data": {
      "application/vnd.jupyter.widget-view+json": {
       "model_id": "",
       "version_major": 2,
       "version_minor": 0
      },
      "text/plain": [
       "0it [00:00, ?it/s]"
      ]
     },
     "metadata": {},
     "output_type": "display_data"
    },
    {
     "data": {
      "application/vnd.jupyter.widget-view+json": {
       "model_id": "",
       "version_major": 2,
       "version_minor": 0
      },
      "text/plain": [
       "  0%|          | 0/2 [00:00<?, ?it/s]"
      ]
     },
     "metadata": {},
     "output_type": "display_data"
    },
    {
     "data": {
      "application/vnd.jupyter.widget-view+json": {
       "model_id": "",
       "version_major": 2,
       "version_minor": 0
      },
      "text/plain": [
       "  0%|          | 0/1 [00:00<?, ?it/s]"
      ]
     },
     "metadata": {},
     "output_type": "display_data"
    },
    {
     "data": {
      "application/vnd.jupyter.widget-view+json": {
       "model_id": "",
       "version_major": 2,
       "version_minor": 0
      },
      "text/plain": [
       "  0%|          | 0/1 [00:00<?, ?it/s]"
      ]
     },
     "metadata": {},
     "output_type": "display_data"
    },
    {
     "data": {
      "application/vnd.jupyter.widget-view+json": {
       "model_id": "",
       "version_major": 2,
       "version_minor": 0
      },
      "text/plain": [
       "  0%|          | 0/14 [00:00<?, ?it/s]"
      ]
     },
     "metadata": {},
     "output_type": "display_data"
    },
    {
     "data": {
      "application/vnd.jupyter.widget-view+json": {
       "model_id": "",
       "version_major": 2,
       "version_minor": 0
      },
      "text/plain": [
       "  0%|          | 0/20 [00:00<?, ?it/s]"
      ]
     },
     "metadata": {},
     "output_type": "display_data"
    },
    {
     "data": {
      "application/vnd.jupyter.widget-view+json": {
       "model_id": "",
       "version_major": 2,
       "version_minor": 0
      },
      "text/plain": [
       "  0%|          | 0/1 [00:00<?, ?it/s]"
      ]
     },
     "metadata": {},
     "output_type": "display_data"
    },
    {
     "data": {
      "application/vnd.jupyter.widget-view+json": {
       "model_id": "",
       "version_major": 2,
       "version_minor": 0
      },
      "text/plain": [
       "0it [00:00, ?it/s]"
      ]
     },
     "metadata": {},
     "output_type": "display_data"
    },
    {
     "data": {
      "application/vnd.jupyter.widget-view+json": {
       "model_id": "",
       "version_major": 2,
       "version_minor": 0
      },
      "text/plain": [
       "  0%|          | 0/2 [00:00<?, ?it/s]"
      ]
     },
     "metadata": {},
     "output_type": "display_data"
    },
    {
     "data": {
      "application/vnd.jupyter.widget-view+json": {
       "model_id": "",
       "version_major": 2,
       "version_minor": 0
      },
      "text/plain": [
       "  0%|          | 0/2 [00:00<?, ?it/s]"
      ]
     },
     "metadata": {},
     "output_type": "display_data"
    },
    {
     "data": {
      "application/vnd.jupyter.widget-view+json": {
       "model_id": "",
       "version_major": 2,
       "version_minor": 0
      },
      "text/plain": [
       "  0%|          | 0/19 [00:00<?, ?it/s]"
      ]
     },
     "metadata": {},
     "output_type": "display_data"
    },
    {
     "data": {
      "application/vnd.jupyter.widget-view+json": {
       "model_id": "",
       "version_major": 2,
       "version_minor": 0
      },
      "text/plain": [
       "  0%|          | 0/2 [00:00<?, ?it/s]"
      ]
     },
     "metadata": {},
     "output_type": "display_data"
    },
    {
     "data": {
      "application/vnd.jupyter.widget-view+json": {
       "model_id": "",
       "version_major": 2,
       "version_minor": 0
      },
      "text/plain": [
       "  0%|          | 0/2 [00:00<?, ?it/s]"
      ]
     },
     "metadata": {},
     "output_type": "display_data"
    },
    {
     "data": {
      "application/vnd.jupyter.widget-view+json": {
       "model_id": "",
       "version_major": 2,
       "version_minor": 0
      },
      "text/plain": [
       "  0%|          | 0/2 [00:00<?, ?it/s]"
      ]
     },
     "metadata": {},
     "output_type": "display_data"
    },
    {
     "data": {
      "application/vnd.jupyter.widget-view+json": {
       "model_id": "",
       "version_major": 2,
       "version_minor": 0
      },
      "text/plain": [
       "0it [00:00, ?it/s]"
      ]
     },
     "metadata": {},
     "output_type": "display_data"
    },
    {
     "data": {
      "application/vnd.jupyter.widget-view+json": {
       "model_id": "",
       "version_major": 2,
       "version_minor": 0
      },
      "text/plain": [
       "  0%|          | 0/1 [00:00<?, ?it/s]"
      ]
     },
     "metadata": {},
     "output_type": "display_data"
    },
    {
     "data": {
      "application/vnd.jupyter.widget-view+json": {
       "model_id": "",
       "version_major": 2,
       "version_minor": 0
      },
      "text/plain": [
       "  0%|          | 0/2 [00:00<?, ?it/s]"
      ]
     },
     "metadata": {},
     "output_type": "display_data"
    },
    {
     "data": {
      "application/vnd.jupyter.widget-view+json": {
       "model_id": "",
       "version_major": 2,
       "version_minor": 0
      },
      "text/plain": [
       "  0%|          | 0/16 [00:00<?, ?it/s]"
      ]
     },
     "metadata": {},
     "output_type": "display_data"
    },
    {
     "data": {
      "application/vnd.jupyter.widget-view+json": {
       "model_id": "",
       "version_major": 2,
       "version_minor": 0
      },
      "text/plain": [
       "  0%|          | 0/1 [00:00<?, ?it/s]"
      ]
     },
     "metadata": {},
     "output_type": "display_data"
    },
    {
     "data": {
      "application/vnd.jupyter.widget-view+json": {
       "model_id": "",
       "version_major": 2,
       "version_minor": 0
      },
      "text/plain": [
       "  0%|          | 0/2 [00:00<?, ?it/s]"
      ]
     },
     "metadata": {},
     "output_type": "display_data"
    },
    {
     "data": {
      "application/vnd.jupyter.widget-view+json": {
       "model_id": "",
       "version_major": 2,
       "version_minor": 0
      },
      "text/plain": [
       "  0%|          | 0/10 [00:00<?, ?it/s]"
      ]
     },
     "metadata": {},
     "output_type": "display_data"
    },
    {
     "data": {
      "application/vnd.jupyter.widget-view+json": {
       "model_id": "",
       "version_major": 2,
       "version_minor": 0
      },
      "text/plain": [
       "  0%|          | 0/2 [00:00<?, ?it/s]"
      ]
     },
     "metadata": {},
     "output_type": "display_data"
    },
    {
     "data": {
      "application/vnd.jupyter.widget-view+json": {
       "model_id": "",
       "version_major": 2,
       "version_minor": 0
      },
      "text/plain": [
       "0it [00:00, ?it/s]"
      ]
     },
     "metadata": {},
     "output_type": "display_data"
    },
    {
     "data": {
      "application/vnd.jupyter.widget-view+json": {
       "model_id": "",
       "version_major": 2,
       "version_minor": 0
      },
      "text/plain": [
       "  0%|          | 0/2 [00:00<?, ?it/s]"
      ]
     },
     "metadata": {},
     "output_type": "display_data"
    },
    {
     "data": {
      "application/vnd.jupyter.widget-view+json": {
       "model_id": "",
       "version_major": 2,
       "version_minor": 0
      },
      "text/plain": [
       "  0%|          | 0/2 [00:00<?, ?it/s]"
      ]
     },
     "metadata": {},
     "output_type": "display_data"
    },
    {
     "data": {
      "application/vnd.jupyter.widget-view+json": {
       "model_id": "",
       "version_major": 2,
       "version_minor": 0
      },
      "text/plain": [
       "  0%|          | 0/1 [00:00<?, ?it/s]"
      ]
     },
     "metadata": {},
     "output_type": "display_data"
    },
    {
     "data": {
      "application/vnd.jupyter.widget-view+json": {
       "model_id": "",
       "version_major": 2,
       "version_minor": 0
      },
      "text/plain": [
       "  0%|          | 0/8 [00:00<?, ?it/s]"
      ]
     },
     "metadata": {},
     "output_type": "display_data"
    },
    {
     "data": {
      "application/vnd.jupyter.widget-view+json": {
       "model_id": "",
       "version_major": 2,
       "version_minor": 0
      },
      "text/plain": [
       "0it [00:00, ?it/s]"
      ]
     },
     "metadata": {},
     "output_type": "display_data"
    },
    {
     "data": {
      "application/vnd.jupyter.widget-view+json": {
       "model_id": "",
       "version_major": 2,
       "version_minor": 0
      },
      "text/plain": [
       "  0%|          | 0/2 [00:00<?, ?it/s]"
      ]
     },
     "metadata": {},
     "output_type": "display_data"
    },
    {
     "data": {
      "application/vnd.jupyter.widget-view+json": {
       "model_id": "",
       "version_major": 2,
       "version_minor": 0
      },
      "text/plain": [
       "0it [00:00, ?it/s]"
      ]
     },
     "metadata": {},
     "output_type": "display_data"
    },
    {
     "data": {
      "application/vnd.jupyter.widget-view+json": {
       "model_id": "",
       "version_major": 2,
       "version_minor": 0
      },
      "text/plain": [
       "  0%|          | 0/1 [00:00<?, ?it/s]"
      ]
     },
     "metadata": {},
     "output_type": "display_data"
    },
    {
     "data": {
      "application/vnd.jupyter.widget-view+json": {
       "model_id": "",
       "version_major": 2,
       "version_minor": 0
      },
      "text/plain": [
       "  0%|          | 0/10 [00:00<?, ?it/s]"
      ]
     },
     "metadata": {},
     "output_type": "display_data"
    },
    {
     "data": {
      "application/vnd.jupyter.widget-view+json": {
       "model_id": "",
       "version_major": 2,
       "version_minor": 0
      },
      "text/plain": [
       "0it [00:00, ?it/s]"
      ]
     },
     "metadata": {},
     "output_type": "display_data"
    },
    {
     "data": {
      "application/vnd.jupyter.widget-view+json": {
       "model_id": "",
       "version_major": 2,
       "version_minor": 0
      },
      "text/plain": [
       "0it [00:00, ?it/s]"
      ]
     },
     "metadata": {},
     "output_type": "display_data"
    },
    {
     "data": {
      "application/vnd.jupyter.widget-view+json": {
       "model_id": "",
       "version_major": 2,
       "version_minor": 0
      },
      "text/plain": [
       "  0%|          | 0/6 [00:00<?, ?it/s]"
      ]
     },
     "metadata": {},
     "output_type": "display_data"
    },
    {
     "data": {
      "application/vnd.jupyter.widget-view+json": {
       "model_id": "",
       "version_major": 2,
       "version_minor": 0
      },
      "text/plain": [
       "  0%|          | 0/5 [00:00<?, ?it/s]"
      ]
     },
     "metadata": {},
     "output_type": "display_data"
    },
    {
     "data": {
      "application/vnd.jupyter.widget-view+json": {
       "model_id": "",
       "version_major": 2,
       "version_minor": 0
      },
      "text/plain": [
       "0it [00:00, ?it/s]"
      ]
     },
     "metadata": {},
     "output_type": "display_data"
    },
    {
     "data": {
      "application/vnd.jupyter.widget-view+json": {
       "model_id": "",
       "version_major": 2,
       "version_minor": 0
      },
      "text/plain": [
       "  0%|          | 0/1 [00:00<?, ?it/s]"
      ]
     },
     "metadata": {},
     "output_type": "display_data"
    },
    {
     "data": {
      "application/vnd.jupyter.widget-view+json": {
       "model_id": "",
       "version_major": 2,
       "version_minor": 0
      },
      "text/plain": [
       "  0%|          | 0/2 [00:00<?, ?it/s]"
      ]
     },
     "metadata": {},
     "output_type": "display_data"
    },
    {
     "data": {
      "application/vnd.jupyter.widget-view+json": {
       "model_id": "",
       "version_major": 2,
       "version_minor": 0
      },
      "text/plain": [
       "  0%|          | 0/20 [00:00<?, ?it/s]"
      ]
     },
     "metadata": {},
     "output_type": "display_data"
    },
    {
     "data": {
      "application/vnd.jupyter.widget-view+json": {
       "model_id": "",
       "version_major": 2,
       "version_minor": 0
      },
      "text/plain": [
       "0it [00:00, ?it/s]"
      ]
     },
     "metadata": {},
     "output_type": "display_data"
    },
    {
     "data": {
      "application/vnd.jupyter.widget-view+json": {
       "model_id": "",
       "version_major": 2,
       "version_minor": 0
      },
      "text/plain": [
       "  0%|          | 0/1 [00:00<?, ?it/s]"
      ]
     },
     "metadata": {},
     "output_type": "display_data"
    },
    {
     "data": {
      "application/vnd.jupyter.widget-view+json": {
       "model_id": "",
       "version_major": 2,
       "version_minor": 0
      },
      "text/plain": [
       "0it [00:00, ?it/s]"
      ]
     },
     "metadata": {},
     "output_type": "display_data"
    },
    {
     "data": {
      "application/vnd.jupyter.widget-view+json": {
       "model_id": "",
       "version_major": 2,
       "version_minor": 0
      },
      "text/plain": [
       "  0%|          | 0/1 [00:00<?, ?it/s]"
      ]
     },
     "metadata": {},
     "output_type": "display_data"
    },
    {
     "data": {
      "application/vnd.jupyter.widget-view+json": {
       "model_id": "",
       "version_major": 2,
       "version_minor": 0
      },
      "text/plain": [
       "  0%|          | 0/3 [00:00<?, ?it/s]"
      ]
     },
     "metadata": {},
     "output_type": "display_data"
    },
    {
     "data": {
      "application/vnd.jupyter.widget-view+json": {
       "model_id": "",
       "version_major": 2,
       "version_minor": 0
      },
      "text/plain": [
       "  0%|          | 0/4 [00:00<?, ?it/s]"
      ]
     },
     "metadata": {},
     "output_type": "display_data"
    },
    {
     "data": {
      "application/vnd.jupyter.widget-view+json": {
       "model_id": "",
       "version_major": 2,
       "version_minor": 0
      },
      "text/plain": [
       "0it [00:00, ?it/s]"
      ]
     },
     "metadata": {},
     "output_type": "display_data"
    },
    {
     "data": {
      "application/vnd.jupyter.widget-view+json": {
       "model_id": "",
       "version_major": 2,
       "version_minor": 0
      },
      "text/plain": [
       "  0%|          | 0/1 [00:00<?, ?it/s]"
      ]
     },
     "metadata": {},
     "output_type": "display_data"
    },
    {
     "data": {
      "application/vnd.jupyter.widget-view+json": {
       "model_id": "",
       "version_major": 2,
       "version_minor": 0
      },
      "text/plain": [
       "  0%|          | 0/1 [00:00<?, ?it/s]"
      ]
     },
     "metadata": {},
     "output_type": "display_data"
    },
    {
     "data": {
      "application/vnd.jupyter.widget-view+json": {
       "model_id": "",
       "version_major": 2,
       "version_minor": 0
      },
      "text/plain": [
       "0it [00:00, ?it/s]"
      ]
     },
     "metadata": {},
     "output_type": "display_data"
    },
    {
     "data": {
      "application/vnd.jupyter.widget-view+json": {
       "model_id": "",
       "version_major": 2,
       "version_minor": 0
      },
      "text/plain": [
       "  0%|          | 0/2 [00:00<?, ?it/s]"
      ]
     },
     "metadata": {},
     "output_type": "display_data"
    },
    {
     "data": {
      "application/vnd.jupyter.widget-view+json": {
       "model_id": "",
       "version_major": 2,
       "version_minor": 0
      },
      "text/plain": [
       "0it [00:00, ?it/s]"
      ]
     },
     "metadata": {},
     "output_type": "display_data"
    },
    {
     "data": {
      "application/vnd.jupyter.widget-view+json": {
       "model_id": "",
       "version_major": 2,
       "version_minor": 0
      },
      "text/plain": [
       "  0%|          | 0/1 [00:00<?, ?it/s]"
      ]
     },
     "metadata": {},
     "output_type": "display_data"
    },
    {
     "data": {
      "application/vnd.jupyter.widget-view+json": {
       "model_id": "",
       "version_major": 2,
       "version_minor": 0
      },
      "text/plain": [
       "  0%|          | 0/20 [00:00<?, ?it/s]"
      ]
     },
     "metadata": {},
     "output_type": "display_data"
    },
    {
     "data": {
      "application/vnd.jupyter.widget-view+json": {
       "model_id": "",
       "version_major": 2,
       "version_minor": 0
      },
      "text/plain": [
       "  0%|          | 0/2 [00:00<?, ?it/s]"
      ]
     },
     "metadata": {},
     "output_type": "display_data"
    },
    {
     "data": {
      "application/vnd.jupyter.widget-view+json": {
       "model_id": "",
       "version_major": 2,
       "version_minor": 0
      },
      "text/plain": [
       "  0%|          | 0/2 [00:00<?, ?it/s]"
      ]
     },
     "metadata": {},
     "output_type": "display_data"
    },
    {
     "data": {
      "application/vnd.jupyter.widget-view+json": {
       "model_id": "",
       "version_major": 2,
       "version_minor": 0
      },
      "text/plain": [
       "  0%|          | 0/1 [00:00<?, ?it/s]"
      ]
     },
     "metadata": {},
     "output_type": "display_data"
    },
    {
     "data": {
      "application/vnd.jupyter.widget-view+json": {
       "model_id": "",
       "version_major": 2,
       "version_minor": 0
      },
      "text/plain": [
       "  0%|          | 0/15 [00:00<?, ?it/s]"
      ]
     },
     "metadata": {},
     "output_type": "display_data"
    },
    {
     "data": {
      "application/vnd.jupyter.widget-view+json": {
       "model_id": "",
       "version_major": 2,
       "version_minor": 0
      },
      "text/plain": [
       "0it [00:00, ?it/s]"
      ]
     },
     "metadata": {},
     "output_type": "display_data"
    },
    {
     "data": {
      "application/vnd.jupyter.widget-view+json": {
       "model_id": "",
       "version_major": 2,
       "version_minor": 0
      },
      "text/plain": [
       "  0%|          | 0/2 [00:00<?, ?it/s]"
      ]
     },
     "metadata": {},
     "output_type": "display_data"
    },
    {
     "data": {
      "application/vnd.jupyter.widget-view+json": {
       "model_id": "",
       "version_major": 2,
       "version_minor": 0
      },
      "text/plain": [
       "  0%|          | 0/3 [00:00<?, ?it/s]"
      ]
     },
     "metadata": {},
     "output_type": "display_data"
    },
    {
     "data": {
      "application/vnd.jupyter.widget-view+json": {
       "model_id": "",
       "version_major": 2,
       "version_minor": 0
      },
      "text/plain": [
       "0it [00:00, ?it/s]"
      ]
     },
     "metadata": {},
     "output_type": "display_data"
    },
    {
     "data": {
      "application/vnd.jupyter.widget-view+json": {
       "model_id": "",
       "version_major": 2,
       "version_minor": 0
      },
      "text/plain": [
       "  0%|          | 0/2 [00:00<?, ?it/s]"
      ]
     },
     "metadata": {},
     "output_type": "display_data"
    },
    {
     "data": {
      "application/vnd.jupyter.widget-view+json": {
       "model_id": "",
       "version_major": 2,
       "version_minor": 0
      },
      "text/plain": [
       "  0%|          | 0/2 [00:00<?, ?it/s]"
      ]
     },
     "metadata": {},
     "output_type": "display_data"
    },
    {
     "data": {
      "application/vnd.jupyter.widget-view+json": {
       "model_id": "",
       "version_major": 2,
       "version_minor": 0
      },
      "text/plain": [
       "0it [00:00, ?it/s]"
      ]
     },
     "metadata": {},
     "output_type": "display_data"
    },
    {
     "data": {
      "application/vnd.jupyter.widget-view+json": {
       "model_id": "",
       "version_major": 2,
       "version_minor": 0
      },
      "text/plain": [
       "  0%|          | 0/2 [00:00<?, ?it/s]"
      ]
     },
     "metadata": {},
     "output_type": "display_data"
    },
    {
     "data": {
      "application/vnd.jupyter.widget-view+json": {
       "model_id": "",
       "version_major": 2,
       "version_minor": 0
      },
      "text/plain": [
       "  0%|          | 0/2 [00:00<?, ?it/s]"
      ]
     },
     "metadata": {},
     "output_type": "display_data"
    },
    {
     "data": {
      "application/vnd.jupyter.widget-view+json": {
       "model_id": "",
       "version_major": 2,
       "version_minor": 0
      },
      "text/plain": [
       "  0%|          | 0/2 [00:00<?, ?it/s]"
      ]
     },
     "metadata": {},
     "output_type": "display_data"
    },
    {
     "data": {
      "application/vnd.jupyter.widget-view+json": {
       "model_id": "",
       "version_major": 2,
       "version_minor": 0
      },
      "text/plain": [
       "0it [00:00, ?it/s]"
      ]
     },
     "metadata": {},
     "output_type": "display_data"
    },
    {
     "data": {
      "application/vnd.jupyter.widget-view+json": {
       "model_id": "",
       "version_major": 2,
       "version_minor": 0
      },
      "text/plain": [
       "  0%|          | 0/4 [00:00<?, ?it/s]"
      ]
     },
     "metadata": {},
     "output_type": "display_data"
    },
    {
     "data": {
      "application/vnd.jupyter.widget-view+json": {
       "model_id": "",
       "version_major": 2,
       "version_minor": 0
      },
      "text/plain": [
       "0it [00:00, ?it/s]"
      ]
     },
     "metadata": {},
     "output_type": "display_data"
    },
    {
     "data": {
      "application/vnd.jupyter.widget-view+json": {
       "model_id": "",
       "version_major": 2,
       "version_minor": 0
      },
      "text/plain": [
       "  0%|          | 0/3 [00:00<?, ?it/s]"
      ]
     },
     "metadata": {},
     "output_type": "display_data"
    },
    {
     "data": {
      "application/vnd.jupyter.widget-view+json": {
       "model_id": "",
       "version_major": 2,
       "version_minor": 0
      },
      "text/plain": [
       "  0%|          | 0/20 [00:00<?, ?it/s]"
      ]
     },
     "metadata": {},
     "output_type": "display_data"
    },
    {
     "data": {
      "application/vnd.jupyter.widget-view+json": {
       "model_id": "",
       "version_major": 2,
       "version_minor": 0
      },
      "text/plain": [
       "  0%|          | 0/10 [00:00<?, ?it/s]"
      ]
     },
     "metadata": {},
     "output_type": "display_data"
    },
    {
     "data": {
      "application/vnd.jupyter.widget-view+json": {
       "model_id": "",
       "version_major": 2,
       "version_minor": 0
      },
      "text/plain": [
       "  0%|          | 0/2 [00:00<?, ?it/s]"
      ]
     },
     "metadata": {},
     "output_type": "display_data"
    },
    {
     "data": {
      "application/vnd.jupyter.widget-view+json": {
       "model_id": "",
       "version_major": 2,
       "version_minor": 0
      },
      "text/plain": [
       "  0%|          | 0/3 [00:00<?, ?it/s]"
      ]
     },
     "metadata": {},
     "output_type": "display_data"
    },
    {
     "data": {
      "application/vnd.jupyter.widget-view+json": {
       "model_id": "",
       "version_major": 2,
       "version_minor": 0
      },
      "text/plain": [
       "0it [00:00, ?it/s]"
      ]
     },
     "metadata": {},
     "output_type": "display_data"
    },
    {
     "data": {
      "application/vnd.jupyter.widget-view+json": {
       "model_id": "",
       "version_major": 2,
       "version_minor": 0
      },
      "text/plain": [
       "  0%|          | 0/20 [00:00<?, ?it/s]"
      ]
     },
     "metadata": {},
     "output_type": "display_data"
    },
    {
     "data": {
      "application/vnd.jupyter.widget-view+json": {
       "model_id": "",
       "version_major": 2,
       "version_minor": 0
      },
      "text/plain": [
       "0it [00:00, ?it/s]"
      ]
     },
     "metadata": {},
     "output_type": "display_data"
    },
    {
     "data": {
      "application/vnd.jupyter.widget-view+json": {
       "model_id": "",
       "version_major": 2,
       "version_minor": 0
      },
      "text/plain": [
       "  0%|          | 0/2 [00:00<?, ?it/s]"
      ]
     },
     "metadata": {},
     "output_type": "display_data"
    },
    {
     "data": {
      "application/vnd.jupyter.widget-view+json": {
       "model_id": "",
       "version_major": 2,
       "version_minor": 0
      },
      "text/plain": [
       "  0%|          | 0/3 [00:00<?, ?it/s]"
      ]
     },
     "metadata": {},
     "output_type": "display_data"
    },
    {
     "data": {
      "application/vnd.jupyter.widget-view+json": {
       "model_id": "",
       "version_major": 2,
       "version_minor": 0
      },
      "text/plain": [
       "  0%|          | 0/20 [00:00<?, ?it/s]"
      ]
     },
     "metadata": {},
     "output_type": "display_data"
    },
    {
     "data": {
      "application/vnd.jupyter.widget-view+json": {
       "model_id": "",
       "version_major": 2,
       "version_minor": 0
      },
      "text/plain": [
       "  0%|          | 0/4 [00:00<?, ?it/s]"
      ]
     },
     "metadata": {},
     "output_type": "display_data"
    },
    {
     "data": {
      "application/vnd.jupyter.widget-view+json": {
       "model_id": "",
       "version_major": 2,
       "version_minor": 0
      },
      "text/plain": [
       "  0%|          | 0/2 [00:00<?, ?it/s]"
      ]
     },
     "metadata": {},
     "output_type": "display_data"
    },
    {
     "data": {
      "application/vnd.jupyter.widget-view+json": {
       "model_id": "",
       "version_major": 2,
       "version_minor": 0
      },
      "text/plain": [
       "  0%|          | 0/20 [00:00<?, ?it/s]"
      ]
     },
     "metadata": {},
     "output_type": "display_data"
    },
    {
     "data": {
      "application/vnd.jupyter.widget-view+json": {
       "model_id": "",
       "version_major": 2,
       "version_minor": 0
      },
      "text/plain": [
       "  0%|          | 0/1 [00:00<?, ?it/s]"
      ]
     },
     "metadata": {},
     "output_type": "display_data"
    },
    {
     "data": {
      "application/vnd.jupyter.widget-view+json": {
       "model_id": "",
       "version_major": 2,
       "version_minor": 0
      },
      "text/plain": [
       "  0%|          | 0/1 [00:00<?, ?it/s]"
      ]
     },
     "metadata": {},
     "output_type": "display_data"
    },
    {
     "data": {
      "application/vnd.jupyter.widget-view+json": {
       "model_id": "",
       "version_major": 2,
       "version_minor": 0
      },
      "text/plain": [
       "  0%|          | 0/20 [00:00<?, ?it/s]"
      ]
     },
     "metadata": {},
     "output_type": "display_data"
    },
    {
     "data": {
      "application/vnd.jupyter.widget-view+json": {
       "model_id": "",
       "version_major": 2,
       "version_minor": 0
      },
      "text/plain": [
       "  0%|          | 0/20 [00:00<?, ?it/s]"
      ]
     },
     "metadata": {},
     "output_type": "display_data"
    },
    {
     "data": {
      "application/vnd.jupyter.widget-view+json": {
       "model_id": "",
       "version_major": 2,
       "version_minor": 0
      },
      "text/plain": [
       "  0%|          | 0/3 [00:00<?, ?it/s]"
      ]
     },
     "metadata": {},
     "output_type": "display_data"
    },
    {
     "data": {
      "application/vnd.jupyter.widget-view+json": {
       "model_id": "",
       "version_major": 2,
       "version_minor": 0
      },
      "text/plain": [
       "  0%|          | 0/8 [00:00<?, ?it/s]"
      ]
     },
     "metadata": {},
     "output_type": "display_data"
    },
    {
     "data": {
      "application/vnd.jupyter.widget-view+json": {
       "model_id": "",
       "version_major": 2,
       "version_minor": 0
      },
      "text/plain": [
       "  0%|          | 0/3 [00:00<?, ?it/s]"
      ]
     },
     "metadata": {},
     "output_type": "display_data"
    },
    {
     "data": {
      "application/vnd.jupyter.widget-view+json": {
       "model_id": "",
       "version_major": 2,
       "version_minor": 0
      },
      "text/plain": [
       "  0%|          | 0/1 [00:00<?, ?it/s]"
      ]
     },
     "metadata": {},
     "output_type": "display_data"
    },
    {
     "data": {
      "application/vnd.jupyter.widget-view+json": {
       "model_id": "",
       "version_major": 2,
       "version_minor": 0
      },
      "text/plain": [
       "0it [00:00, ?it/s]"
      ]
     },
     "metadata": {},
     "output_type": "display_data"
    },
    {
     "data": {
      "application/vnd.jupyter.widget-view+json": {
       "model_id": "",
       "version_major": 2,
       "version_minor": 0
      },
      "text/plain": [
       "0it [00:00, ?it/s]"
      ]
     },
     "metadata": {},
     "output_type": "display_data"
    },
    {
     "data": {
      "application/vnd.jupyter.widget-view+json": {
       "model_id": "455fd8afd9444ffab0298a4797ceb335",
       "version_major": 2,
       "version_minor": 0
      },
      "text/plain": [
       "  0%|          | 0/20 [00:00<?, ?it/s]"
      ]
     },
     "metadata": {},
     "output_type": "display_data"
    }
   ],
   "source": [
    "brand_model_results = []\n",
    "\n",
    "for model in tqdm(models_to_seach):\n",
    "\n",
    "    query = urllib.parse.quote_plus(model)\n",
    "    \n",
    "    url = 'https://api.mercadolibre.com/sites/MLB/search'\n",
    "    params={'q': query, 'offset': 0}\n",
    "    headers = {'user-agent': USER_AGENT}\n",
    "    \n",
    "    response = requests.get(url,params=params,headers=headers)\n",
    "    content = response.content.decode(response.encoding)\n",
    "    content =  json.loads(content)\n",
    "    brand_model_results.extend(content['results'])\n",
    "    \n",
    "    total_items = content['paging']['total']\n",
    "    next_offsets = list(range(50,total_items+1,50))\n",
    "\n",
    "    # Max offset for public API is 1000\n",
    "    for offset in tqdm(next_offsets[:20],leave=False):\n",
    "        params={'q': query, 'offset': offset}\n",
    "        response = requests.get(url,params=params,headers=headers) \n",
    "        \n",
    "        if response.status_code == 200:\n",
    "            content = response.content.decode(response.encoding)\n",
    "            content =  json.loads(content)\n",
    "            brand_model_results.extend(content['results'])\n",
    "        else:\n",
    "            break\n"
   ]
  },
  {
   "cell_type": "code",
   "execution_count": null,
   "id": "3e1ac03f-0940-42d5-b969-47fd378180f3",
   "metadata": {},
   "outputs": [],
   "source": [
    "with open('brand_model_results.json', 'w') as f:\n",
    "    json.dump(brand_model_results,f,indent=2)"
   ]
  },
  {
   "cell_type": "code",
   "execution_count": null,
   "id": "ff88c7b9-513c-4498-8e84-5af636e82105",
   "metadata": {},
   "outputs": [],
   "source": [
    "brand_model_parsed_results = [parse_results(result,True) for result in tqdm(brand_model_results)]\n",
    "df_brand_model = pd.DataFrame(brand_model_parsed_results)\n",
    "df_brand_model.shape"
   ]
  },
  {
   "cell_type": "markdown",
   "id": "f851e93d-6d50-41e6-9f47-2bd17b1da692",
   "metadata": {},
   "source": [
    "## Consolidação e análise"
   ]
  },
  {
   "cell_type": "code",
   "execution_count": 22,
   "id": "a893d4e4-de0b-4d31-9459-d9fb6884315b",
   "metadata": {},
   "outputs": [
    {
     "data": {
      "text/html": [
       "<div>\n",
       "<style scoped>\n",
       "    .dataframe tbody tr th:only-of-type {\n",
       "        vertical-align: middle;\n",
       "    }\n",
       "\n",
       "    .dataframe tbody tr th {\n",
       "        vertical-align: top;\n",
       "    }\n",
       "\n",
       "    .dataframe thead th {\n",
       "        text-align: right;\n",
       "    }\n",
       "</style>\n",
       "<table border=\"1\" class=\"dataframe\">\n",
       "  <thead>\n",
       "    <tr style=\"text-align: right;\">\n",
       "      <th></th>\n",
       "      <th>id</th>\n",
       "      <th>permalink</th>\n",
       "      <th>title</th>\n",
       "      <th>seller_nickname</th>\n",
       "      <th>brand</th>\n",
       "      <th>model</th>\n",
       "      <th>ean_anuncio</th>\n",
       "      <th>sch_anuncio</th>\n",
       "      <th>sch_presente</th>\n",
       "      <th>ean_sch</th>\n",
       "      <th>sch_sch</th>\n",
       "      <th>ean_sch_ok</th>\n",
       "      <th>sch_valido</th>\n",
       "      <th>Nome do Fabricante</th>\n",
       "      <th>Modelo Completo</th>\n",
       "    </tr>\n",
       "  </thead>\n",
       "  <tbody>\n",
       "    <tr>\n",
       "      <th>0</th>\n",
       "      <td>MLB4587064722</td>\n",
       "      <td>https://www.mercadolivre.com.br/motorola-moto-...</td>\n",
       "      <td>Motorola Moto G24 Power Dual Sim 128gb Azul 4g...</td>\n",
       "      <td>MOTOROLA OFICIAL</td>\n",
       "      <td>Motorola</td>\n",
       "      <td>G24 Power Dual SIM</td>\n",
       "      <td>7892597354290</td>\n",
       "      <td>999999999999</td>\n",
       "      <td>1</td>\n",
       "      <td>7892597354290</td>\n",
       "      <td>029772400330</td>\n",
       "      <td>False</td>\n",
       "      <td>0</td>\n",
       "      <td>NaN</td>\n",
       "      <td>NaN</td>\n",
       "    </tr>\n",
       "    <tr>\n",
       "      <th>1</th>\n",
       "      <td>MLB3589269609</td>\n",
       "      <td>https://www.mercadolivre.com.br/samsung-galaxy...</td>\n",
       "      <td>Samsung Galaxy A15 4g Dual Sim 128 Gb Azul Esc...</td>\n",
       "      <td>MERCADOLIVRE ELETRONICOS</td>\n",
       "      <td>Samsung</td>\n",
       "      <td>A15 4G</td>\n",
       "      <td>7892509134262</td>\n",
       "      <td>999999999999</td>\n",
       "      <td>1</td>\n",
       "      <td>7892509134262</td>\n",
       "      <td>198252300953</td>\n",
       "      <td>False</td>\n",
       "      <td>0</td>\n",
       "      <td>NaN</td>\n",
       "      <td>NaN</td>\n",
       "    </tr>\n",
       "    <tr>\n",
       "      <th>2</th>\n",
       "      <td>MLB3609791441</td>\n",
       "      <td>https://www.mercadolivre.com.br/samsung-galaxy...</td>\n",
       "      <td>Samsung Galaxy A15 5g Dual Sim 128gb Azul-escu...</td>\n",
       "      <td>MERCADOLIVRE ELETRONICOS</td>\n",
       "      <td>Samsung</td>\n",
       "      <td>A15 5G Dual Sim</td>\n",
       "      <td>7892509134705</td>\n",
       "      <td>999999999999</td>\n",
       "      <td>1</td>\n",
       "      <td>7892509134705</td>\n",
       "      <td>198242300953</td>\n",
       "      <td>False</td>\n",
       "      <td>0</td>\n",
       "      <td>NaN</td>\n",
       "      <td>NaN</td>\n",
       "    </tr>\n",
       "    <tr>\n",
       "      <th>3</th>\n",
       "      <td>MLB3683512465</td>\n",
       "      <td>https://www.mercadolivre.com.br/motorola-moto-...</td>\n",
       "      <td>Motorola Moto G04s 128gb Cinza 4gb Ram</td>\n",
       "      <td>MERCADOLIVRE ELETRONICOS</td>\n",
       "      <td>Motorola</td>\n",
       "      <td>G04S</td>\n",
       "      <td>7892597354160</td>\n",
       "      <td>999999999999</td>\n",
       "      <td>1</td>\n",
       "      <td>7892597354160</td>\n",
       "      <td>032192400330</td>\n",
       "      <td>False</td>\n",
       "      <td>0</td>\n",
       "      <td>NaN</td>\n",
       "      <td>NaN</td>\n",
       "    </tr>\n",
       "    <tr>\n",
       "      <th>4</th>\n",
       "      <td>MLB4481510718</td>\n",
       "      <td>https://www.mercadolivre.com.br/smartphone-mot...</td>\n",
       "      <td>Smartphone Motorola Moto G04 128gb 8gb Ram Boo...</td>\n",
       "      <td>MOTOROLA OFICIAL</td>\n",
       "      <td>Motorola</td>\n",
       "      <td>Moto G04</td>\n",
       "      <td>7892597353699</td>\n",
       "      <td>999999999999</td>\n",
       "      <td>1</td>\n",
       "      <td>7892597353699</td>\n",
       "      <td>205312300330</td>\n",
       "      <td>False</td>\n",
       "      <td>0</td>\n",
       "      <td>NaN</td>\n",
       "      <td>NaN</td>\n",
       "    </tr>\n",
       "    <tr>\n",
       "      <th>...</th>\n",
       "      <td>...</td>\n",
       "      <td>...</td>\n",
       "      <td>...</td>\n",
       "      <td>...</td>\n",
       "      <td>...</td>\n",
       "      <td>...</td>\n",
       "      <td>...</td>\n",
       "      <td>...</td>\n",
       "      <td>...</td>\n",
       "      <td>...</td>\n",
       "      <td>...</td>\n",
       "      <td>...</td>\n",
       "      <td>...</td>\n",
       "      <td>...</td>\n",
       "      <td>...</td>\n",
       "    </tr>\n",
       "    <tr>\n",
       "      <th>3914</th>\n",
       "      <td>MLB4716382930</td>\n",
       "      <td>https://produto.mercadolivre.com.br/MLB-471638...</td>\n",
       "      <td>Smartphone Samsung Galaxy A02 32gb 2gb Ram Gar...</td>\n",
       "      <td>BPSTORE</td>\n",
       "      <td>Samsung</td>\n",
       "      <td>A02 Dual SIM</td>\n",
       "      <td>0000000000000</td>\n",
       "      <td>999999999999</td>\n",
       "      <td>1</td>\n",
       "      <td>NaN</td>\n",
       "      <td>NaN</td>\n",
       "      <td>False</td>\n",
       "      <td>0</td>\n",
       "      <td>NaN</td>\n",
       "      <td>NaN</td>\n",
       "    </tr>\n",
       "    <tr>\n",
       "      <th>3915</th>\n",
       "      <td>MLB3755770999</td>\n",
       "      <td>https://produto.mercadolivre.com.br/MLB-375577...</td>\n",
       "      <td>Xiaomi 13 Dual Sim 256 Gb White 12 Gb Ram Global</td>\n",
       "      <td>4RUN BRASIL</td>\n",
       "      <td>Xiaomi</td>\n",
       "      <td>13</td>\n",
       "      <td>0000000000000</td>\n",
       "      <td>999999999999</td>\n",
       "      <td>1</td>\n",
       "      <td>NaN</td>\n",
       "      <td>NaN</td>\n",
       "      <td>False</td>\n",
       "      <td>0</td>\n",
       "      <td>NaN</td>\n",
       "      <td>NaN</td>\n",
       "    </tr>\n",
       "    <tr>\n",
       "      <th>3916</th>\n",
       "      <td>MLB4836132910</td>\n",
       "      <td>https://produto.mercadolivre.com.br/MLB-483613...</td>\n",
       "      <td>Celular Nokia 110 4g Dual Chip Radio Fm Blueto...</td>\n",
       "      <td>MAGAZINECRISTINA</td>\n",
       "      <td>Nokia</td>\n",
       "      <td>110 4G</td>\n",
       "      <td>0000000000000</td>\n",
       "      <td>999999999999</td>\n",
       "      <td>1</td>\n",
       "      <td>NaN</td>\n",
       "      <td>NaN</td>\n",
       "      <td>False</td>\n",
       "      <td>0</td>\n",
       "      <td>NaN</td>\n",
       "      <td>NaN</td>\n",
       "    </tr>\n",
       "    <tr>\n",
       "      <th>3917</th>\n",
       "      <td>MLB4665752520</td>\n",
       "      <td>https://produto.mercadolivre.com.br/MLB-466575...</td>\n",
       "      <td>Smartphone Redimi 13c 256/8gb Lacrado +nf E Fo...</td>\n",
       "      <td>CELLTECH STORE</td>\n",
       "      <td>Redmi</td>\n",
       "      <td>13C</td>\n",
       "      <td>0000000000000</td>\n",
       "      <td>999999999999</td>\n",
       "      <td>1</td>\n",
       "      <td>NaN</td>\n",
       "      <td>NaN</td>\n",
       "      <td>False</td>\n",
       "      <td>0</td>\n",
       "      <td>NaN</td>\n",
       "      <td>NaN</td>\n",
       "    </tr>\n",
       "    <tr>\n",
       "      <th>3918</th>\n",
       "      <td>MLB3762115027</td>\n",
       "      <td>https://produto.mercadolivre.com.br/MLB-376211...</td>\n",
       "      <td>Celular Nokia 110 4g Dual Chip Radio Fm Blueto...</td>\n",
       "      <td>MAGAZINECRISTINA</td>\n",
       "      <td>Nokia</td>\n",
       "      <td>110 4G</td>\n",
       "      <td>0000000000000</td>\n",
       "      <td>999999999999</td>\n",
       "      <td>1</td>\n",
       "      <td>NaN</td>\n",
       "      <td>NaN</td>\n",
       "      <td>False</td>\n",
       "      <td>0</td>\n",
       "      <td>NaN</td>\n",
       "      <td>NaN</td>\n",
       "    </tr>\n",
       "  </tbody>\n",
       "</table>\n",
       "<p>3919 rows × 15 columns</p>\n",
       "</div>"
      ],
      "text/plain": [
       "                 id                                          permalink  \\\n",
       "0     MLB4587064722  https://www.mercadolivre.com.br/motorola-moto-...   \n",
       "1     MLB3589269609  https://www.mercadolivre.com.br/samsung-galaxy...   \n",
       "2     MLB3609791441  https://www.mercadolivre.com.br/samsung-galaxy...   \n",
       "3     MLB3683512465  https://www.mercadolivre.com.br/motorola-moto-...   \n",
       "4     MLB4481510718  https://www.mercadolivre.com.br/smartphone-mot...   \n",
       "...             ...                                                ...   \n",
       "3914  MLB4716382930  https://produto.mercadolivre.com.br/MLB-471638...   \n",
       "3915  MLB3755770999  https://produto.mercadolivre.com.br/MLB-375577...   \n",
       "3916  MLB4836132910  https://produto.mercadolivre.com.br/MLB-483613...   \n",
       "3917  MLB4665752520  https://produto.mercadolivre.com.br/MLB-466575...   \n",
       "3918  MLB3762115027  https://produto.mercadolivre.com.br/MLB-376211...   \n",
       "\n",
       "                                                  title  \\\n",
       "0     Motorola Moto G24 Power Dual Sim 128gb Azul 4g...   \n",
       "1     Samsung Galaxy A15 4g Dual Sim 128 Gb Azul Esc...   \n",
       "2     Samsung Galaxy A15 5g Dual Sim 128gb Azul-escu...   \n",
       "3                Motorola Moto G04s 128gb Cinza 4gb Ram   \n",
       "4     Smartphone Motorola Moto G04 128gb 8gb Ram Boo...   \n",
       "...                                                 ...   \n",
       "3914  Smartphone Samsung Galaxy A02 32gb 2gb Ram Gar...   \n",
       "3915   Xiaomi 13 Dual Sim 256 Gb White 12 Gb Ram Global   \n",
       "3916  Celular Nokia 110 4g Dual Chip Radio Fm Blueto...   \n",
       "3917  Smartphone Redimi 13c 256/8gb Lacrado +nf E Fo...   \n",
       "3918  Celular Nokia 110 4g Dual Chip Radio Fm Blueto...   \n",
       "\n",
       "               seller_nickname     brand               model    ean_anuncio  \\\n",
       "0             MOTOROLA OFICIAL  Motorola  G24 Power Dual SIM  7892597354290   \n",
       "1     MERCADOLIVRE ELETRONICOS   Samsung              A15 4G  7892509134262   \n",
       "2     MERCADOLIVRE ELETRONICOS   Samsung     A15 5G Dual Sim  7892509134705   \n",
       "3     MERCADOLIVRE ELETRONICOS  Motorola                G04S  7892597354160   \n",
       "4             MOTOROLA OFICIAL  Motorola            Moto G04  7892597353699   \n",
       "...                        ...       ...                 ...            ...   \n",
       "3914                   BPSTORE   Samsung        A02 Dual SIM  0000000000000   \n",
       "3915               4RUN BRASIL    Xiaomi                  13  0000000000000   \n",
       "3916          MAGAZINECRISTINA     Nokia              110 4G  0000000000000   \n",
       "3917            CELLTECH STORE     Redmi                 13C  0000000000000   \n",
       "3918          MAGAZINECRISTINA     Nokia              110 4G  0000000000000   \n",
       "\n",
       "       sch_anuncio  sch_presente        ean_sch       sch_sch  ean_sch_ok  \\\n",
       "0     999999999999             1  7892597354290  029772400330       False   \n",
       "1     999999999999             1  7892509134262  198252300953       False   \n",
       "2     999999999999             1  7892509134705  198242300953       False   \n",
       "3     999999999999             1  7892597354160  032192400330       False   \n",
       "4     999999999999             1  7892597353699  205312300330       False   \n",
       "...            ...           ...            ...           ...         ...   \n",
       "3914  999999999999             1            NaN           NaN       False   \n",
       "3915  999999999999             1            NaN           NaN       False   \n",
       "3916  999999999999             1            NaN           NaN       False   \n",
       "3917  999999999999             1            NaN           NaN       False   \n",
       "3918  999999999999             1            NaN           NaN       False   \n",
       "\n",
       "      sch_valido Nome do Fabricante Modelo Completo  \n",
       "0              0                NaN             NaN  \n",
       "1              0                NaN             NaN  \n",
       "2              0                NaN             NaN  \n",
       "3              0                NaN             NaN  \n",
       "4              0                NaN             NaN  \n",
       "...          ...                ...             ...  \n",
       "3914           0                NaN             NaN  \n",
       "3915           0                NaN             NaN  \n",
       "3916           0                NaN             NaN  \n",
       "3917           0                NaN             NaN  \n",
       "3918           0                NaN             NaN  \n",
       "\n",
       "[3919 rows x 15 columns]"
      ]
     },
     "execution_count": 22,
     "metadata": {},
     "output_type": "execute_result"
    }
   ],
   "source": [
    "df_cellphones = pd.DataFrame(parsed_results)\n",
    "df_cellphones.to_parquet('cellphone.parquet')\n",
    "\n",
    "columns_to_keep = ['id', 'permalink', 'title','seller_nickname', 'brand', 'model', 'gtin', 'cellphones_anatel_homologation_number']\n",
    "df_analise = df_cellphones[columns_to_keep]\n",
    "\n",
    "columns_to_keep = ['id', 'permalink', 'title', 'seller_nickname', 'brand', 'model', 'ean_anuncio', 'sch_anuncio']\n",
    "df_analise.columns = columns_to_keep\n",
    "\n",
    "df_analise['ean_anuncio'] = df_analise['ean_anuncio'].str.split(',')\n",
    "df_analise = df_analise.explode('ean_anuncio')\n",
    "\n",
    "# df_analise['ean_presente'] = df_analise['ean_mp'].apply(lambda x:  0 if x is None else 1)\n",
    "df_analise['sch_presente'] = df_analise['sch_anuncio'].apply(lambda x:  0 if x is None else 1)\n",
    "\n",
    "df_analise['sch_anuncio'] = df_analise['sch_anuncio'].fillna('0').str.zfill(12)\n",
    "df_analise['ean_anuncio'] = df_analise['ean_anuncio'].fillna('0').str.zfill(13)\n",
    "\n",
    "df_analise = df_analise.merge(df_ean_sch,left_on='ean_anuncio', right_on='ean_sch', how='left')\n",
    "df_analise['ean_ok'] = df_analise['ean_anuncio']==df_analise['ean_sch']\n",
    "df_analise['sch_ok'] = df_analise['sch_anuncio']==df_analise['sch_sch']\n",
    "df_analise['ean_sch_ok'] = df_analise[['ean_ok', 'sch_ok']].apply(lambda row: all(row),axis=1)\n",
    "columns_to_keep = ['id', 'permalink', 'title', 'seller_nickname', 'brand', 'model', 'ean_anuncio', 'sch_anuncio', 'sch_presente', 'ean_sch', 'sch_sch', 'ean_sch_ok']\n",
    "df_analise = df_analise[columns_to_keep]\n",
    "\n",
    "\n",
    "df_analise = df_analise.merge(df_sch_models, left_on='sch_anuncio', right_on='Número de Homologação',how='left')\n",
    "df_analise['sch_valido'] = df_analise['Número de Homologação'].apply(lambda x:  0 if pd.isna(x) else 1)\n",
    "columns_to_keep = ['id', 'permalink', 'title', 'seller_nickname', 'brand', 'model', 'ean_anuncio', 'sch_anuncio', 'sch_presente', 'ean_sch', 'sch_sch', 'ean_sch_ok', 'sch_valido', 'Nome do Fabricante', 'Modelo Completo']\n",
    "df_analise = df_analise[columns_to_keep]\n",
    "\n",
    "df_analise"
   ]
  },
  {
   "cell_type": "code",
   "execution_count": null,
   "id": "46963332-2e9f-4ca9-9743-8a8a9ef4cdbf",
   "metadata": {},
   "outputs": [],
   "source": [
    "df_analise[df_analise['ean_anuncio']=='0000000000000'].shape"
   ]
  },
  {
   "cell_type": "code",
   "execution_count": null,
   "id": "4b78a27e-9351-404f-ab6b-929486afea8d",
   "metadata": {},
   "outputs": [],
   "source": [
    "columns_to_group = ['id', 'sch_presente', 'sch_valido', 'ean_sch_ok']\n",
    "\n",
    "agg_func = {'id': 'count', 'sch_presente': 'sum', 'sch_valido': 'sum', 'ean_sch_ok': 'sum'}\n",
    "df_resumo = pd.DataFrame(df_analise[columns_to_group].agg(agg_func)).T\n",
    "\n",
    "df_resumo['pe_sch_presente'] = df_resumo['sch_presente']/df_resumo['id']*100\n",
    "df_resumo['pe_sch_valido'] = df_resumo['sch_valido']/df_resumo['id']*100\n",
    "df_resumo['pe_ean_sch_ok'] = df_resumo['ean_sch_ok']/df_resumo['id']*100\n",
    "\n",
    "columns_to_keep = ['Total de anúncios', 'Anúncios com código SCH Informado', 'Anúncios com código SCH Válido', 'Anúncios com par EAN/SCH Válido',\n",
    "                   '% Anúncios com código SCH Informado', '% Anúncios com código SCH Válido', '% Anúncios com par EAN/SCH Válido']\n",
    "\n",
    "df_resumo.columns = columns_to_keep\n",
    "df_resumo.index.name = 'Mercado Livre'\n",
    "\n",
    "df_resumo"
   ]
  },
  {
   "cell_type": "code",
   "execution_count": null,
   "id": "0f680323-4637-488b-9ae1-c82569b9784a",
   "metadata": {},
   "outputs": [],
   "source": [
    "columns_to_group = ['seller_nickname', 'id', 'sch_presente', 'sch_valido', 'ean_sch_ok']\n",
    "agg_func = {'id': 'count', 'sch_presente': 'sum', 'sch_valido': 'sum', 'ean_sch_ok': 'sum'}\n",
    "df_seller = df_analise[columns_to_group].groupby(columns_to_group[0]).agg(agg_func)\n",
    "\n",
    "df_seller['pe_sch_presente'] = df_seller['sch_presente']/df_seller['id']*100\n",
    "df_seller['pe_sch_valido'] = df_seller['sch_valido']/df_seller['id']*100\n",
    "df_seller['pe_ean_sch_ok'] = df_seller['ean_sch_ok']/df_seller['id']*100\n",
    "\n",
    "columns_to_keep = ['Total de anúncios', 'Anúncios com EAN Informado', 'Anúncios com código SCH Informado', 'Anúncios com código SCH Válido', \n",
    "                   '% Anúncios com EAN Informado', '% Anúncios com código SCH Informado', '% Anúncios com código SCH Válido']\n",
    "\n",
    "df_seller.columns = columns_to_keep\n",
    "df_seller.index.name = 'Vendedor'\n",
    "\n",
    "df_seller.sort_values(by='Total de anúncios',ascending=False).head(10)"
   ]
  },
  {
   "cell_type": "code",
   "execution_count": null,
   "id": "3c100da3-4089-4158-8ad6-1d36fa2110e0",
   "metadata": {},
   "outputs": [],
   "source": [
    "columns_to_group = ['brand', 'id', 'sch_presente', 'sch_valido', 'ean_sch_ok']\n",
    "agg_func = {'id': 'count', 'sch_presente': 'sum', 'sch_valido': 'sum', 'ean_sch_ok': 'sum'}\n",
    "df_brand = df_analise[columns_to_group].groupby(columns_to_group[0]).agg(agg_func)\n",
    "\n",
    "df_brand['pe_sch_presente'] = df_brand['sch_presente']/df_brand['id']*100\n",
    "df_brand['pe_sch_valido'] = df_brand['sch_valido']/df_brand['id']*100\n",
    "df_brand['pe_ean_sch_ok'] = df_brand['ean_sch_ok']/df_brand['id']*100\n",
    "\n",
    "columns_to_keep = ['Total de anúncios', 'Anúncios com EAN Informado', 'Anúncios com código SCH Informado', 'Anúncios com código SCH Válido', \n",
    "                   '% Anúncios com EAN Informado', '% Anúncios com código SCH Informado', '% Anúncios com código SCH Válido']\n",
    "\n",
    "df_brand.columns = columns_to_keep\n",
    "df_brand.index.name = 'Fabricante'\n",
    "\n",
    "df_brand.sort_values(by='Total de anúncios',ascending=False).head(10)"
   ]
  }
 ],
 "metadata": {
  "kernelspec": {
   "display_name": "Python 3 (ipykernel)",
   "language": "python",
   "name": "python3"
  },
  "language_info": {
   "codemirror_mode": {
    "name": "ipython",
    "version": 3
   },
   "file_extension": ".py",
   "mimetype": "text/x-python",
   "name": "python",
   "nbconvert_exporter": "python",
   "pygments_lexer": "ipython3",
   "version": "3.10.12"
  }
 },
 "nbformat": 4,
 "nbformat_minor": 5
}
