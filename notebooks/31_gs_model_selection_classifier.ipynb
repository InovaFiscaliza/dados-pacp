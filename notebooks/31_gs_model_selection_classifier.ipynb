{
 "cells": [
  {
   "cell_type": "markdown",
   "id": "b47312c8-4a73-4aa3-b614-7b43580fa498",
   "metadata": {},
   "source": [
    "# Preparação do ambiente"
   ]
  },
  {
   "cell_type": "markdown",
   "id": "25fa99ec-c912-4433-9ec0-0da4b4f6635f",
   "metadata": {},
   "source": [
    "## Bibliotecas"
   ]
  },
  {
   "cell_type": "code",
   "execution_count": 24,
   "id": "52989da2-a5e5-4fad-93a3-36f9d9462161",
   "metadata": {},
   "outputs": [],
   "source": [
    "import json\n",
    "import matplotlib.pyplot as plt\n",
    "import numpy as np\n",
    "import os.path as osp\n",
    "import pandas as pd\n",
    "import re\n",
    "import unidecode\n",
    "\n",
    "from datetime import datetime\n",
    "from joblib import load\n",
    "\n",
    "from nltk.corpus import stopwords\n",
    "from nltk.tokenize import word_tokenize\n",
    "\n",
    "from sklearn.feature_extraction.text import TfidfVectorizer\n",
    "from sklearn.model_selection import GridSearchCV\n",
    "from sklearn.model_selection import train_test_split\n",
    "from sklearn.metrics import roc_auc_score\n",
    "from sklearn.pipeline import Pipeline\n",
    "\n",
    "from sklearn.dummy import DummyClassifier\n",
    "\n",
    "from sklearn.naive_bayes import BernoulliNB\n",
    "from sklearn.naive_bayes import ComplementNB\n",
    "from sklearn.naive_bayes import MultinomialNB\n",
    "\n",
    "from sklearn.neighbors import KNeighborsClassifier\n",
    "\n",
    "from sklearn.linear_model import SGDClassifier\n",
    "from sklearn.linear_model import LogisticRegression\n",
    "from sklearn.linear_model import RidgeClassifier\n",
    "\n",
    "from sklearn.svm import LinearSVC\n",
    "from sklearn.svm import NuSVC\n",
    "\n",
    "from sklearn.tree import DecisionTreeClassifier\n",
    "from sklearn.tree import ExtraTreeClassifier\n",
    "\n",
    "from sklearn.ensemble import RandomForestClassifier\n",
    "from sklearn.ensemble import AdaBoostClassifier\n",
    "\n",
    "from string import punctuation"
   ]
  },
  {
   "cell_type": "code",
   "execution_count": 2,
   "id": "1b1d245c-a881-496a-93b6-b69967fcc60a",
   "metadata": {},
   "outputs": [],
   "source": [
    "import warnings\n",
    "warnings.filterwarnings(\"ignore\") "
   ]
  },
  {
   "cell_type": "markdown",
   "id": "eeab38bd-bfd7-4c13-9344-f2ff45111801",
   "metadata": {},
   "source": [
    "## Constantes e funções auxiliares"
   ]
  },
  {
   "cell_type": "code",
   "execution_count": 3,
   "id": "027b858a-6740-4bb1-8d01-bb0d6d0da6df",
   "metadata": {},
   "outputs": [],
   "source": [
    "FILE_MARKETPLACES = '../datasets/label_issues/20240423/results/marketplaces.parquet'\n",
    "FILE_SUPERVISAO_MERCADO = '../datasets/supervisao_mercado/supervisao_mercado.xlsx'\n",
    "FILE_MODEL_CLF3 = '../experimentos/assets/exp_clf3_model.joblib'\n",
    "\n",
    "FILE_HYPER_PARAMETERS = '../datasets/gs_hyper_paramenters_classifiers.json'\n",
    "\n",
    "N_JOBS = -1"
   ]
  },
  {
   "cell_type": "code",
   "execution_count": 4,
   "id": "97ef5c7e-08cf-4023-b088-7e38e4ac20a7",
   "metadata": {},
   "outputs": [],
   "source": [
    "def load_file_mercado(file_mercado=FILE_SUPERVISAO_MERCADO):\n",
    "    dict_df_mercado = pd.read_excel(\n",
    "    file_mercado,\n",
    "    sheet_name=None,\n",
    "    usecols=[2,8,10],\n",
    "    names=['texto_busca', 'titulo', 'passivel_homologacao'],\n",
    "    true_values=['Sim', 'sim'],\n",
    "    false_values=['Não','não'],\n",
    "    na_values=['-'])\n",
    "\n",
    "    df_list = []\n",
    "    for key in dict_df_mercado.keys():\n",
    "        df = dict_df_mercado[key]\n",
    "        df['marketplace'] = key\n",
    "        df_list.append(df)\n",
    "        \n",
    "    df_mercado = pd.concat(df_list)\n",
    "    df_mercado = df_mercado.dropna()\n",
    "    df_mercado['passivel_homologacao'] = df_mercado['passivel_homologacao'].astype(int)\n",
    "    \n",
    "    map_marketplaces = {\n",
    "        'Amazon': 'Amazon', \n",
    "        'Americanas': 'Lojas Americanas',\n",
    "        'CasasBahia': 'Casas Bahia',\n",
    "        'Magalu': 'Magazine Luiza', \n",
    "        'MercadoLivre': 'Mercado Livre'\n",
    "    }\n",
    "    \n",
    "    df_mercado['marketplace'] = df_mercado['marketplace'].map(map_marketplaces)\n",
    "\n",
    "    return df_mercado"
   ]
  },
  {
   "cell_type": "code",
   "execution_count": 5,
   "id": "ea62814d-fde8-4327-84a3-34f80b5cc317",
   "metadata": {},
   "outputs": [],
   "source": [
    "# def tokenizer(doc):\n",
    "#     doc = doc.lower()\n",
    "#     doc = unidecode.unidecode(doc)\n",
    "    \n",
    "#     # uniformizar termos\n",
    "#     patterns = [('wi\\s?.?fi', 'wifi'), \n",
    "#                 ('2,4', '2.4'), \n",
    "#                 ('5,8', '5.8')]\n",
    "#     for pattern, repl in patterns:\n",
    "#         doc = re.sub(pattern, repl, doc)\n",
    "    \n",
    "#     stop_words = stopwords.words('portuguese')\n",
    "#     stop_words.extend(stopwords.words('english'))\n",
    "#     stop_words.extend(list(punctuation))\n",
    "#     # stopwords específicas do domínio\n",
    "#     stop_words.extend(['cm', 'feature', 'features', 'informações', 'itens', 'leve', 'list', 'nulo', 'package', 'pacote', 'pacotes', 'recurso', 'tamanho', 'ver', 'unidades', 'fio', 'universal'])\n",
    "#     # cores mais comumns\n",
    "#     stop_words.extend(['preto', 'cinza', 'branco', 'rosa', 'vermelho', 'laranja', 'amarelo', 'verde', 'azul', 'roxo', 'marrom'])\n",
    "#     # remover da lista de stopwords a palavra sem para formar o bigrama \"sem fio\", que pode ser relevante para o domínio\n",
    "#     # stop_words.remove('sem') \n",
    "    \n",
    "#     tokens = [token for token in word_tokenize(doc) if token not in stop_words]\n",
    "\n",
    "#     # tokens = [token for token in re.findall(r'\\b\\w\\w+\\b',doc) if token not in stop_words]\n",
    "    \n",
    "#     return tokens\n",
    "\n",
    "# def clean_text(doc):\n",
    "#     tokens = tokenizer(doc)\n",
    "#     return ' '.join(tokens) "
   ]
  },
  {
   "cell_type": "code",
   "execution_count": 6,
   "id": "3f1acd55-2273-4ee8-be75-e64438f1b2ec",
   "metadata": {},
   "outputs": [],
   "source": [
    "# def clf_score(clf, X_test, y_test):\n",
    "    \n",
    "#     try:\n",
    "#         auc = roc_auc_score(y_test,clf.predict_proba(X_test)[:,1])\n",
    "#     except:\n",
    "#         auc = roc_auc_score(y_test,clf.decision_function(X_test))\n",
    "    \n",
    "#     score = {\n",
    "#             'Model name': clf['clf'].__class__.__name__,\n",
    "#             'AUC': auc}\n",
    "\n",
    "#     return score"
   ]
  },
  {
   "cell_type": "code",
   "execution_count": 58,
   "id": "2142462c-d2ed-4b68-bb34-1b5c93145ff8",
   "metadata": {},
   "outputs": [
    {
     "data": {
      "text/html": [
       "<div>\n",
       "<style scoped>\n",
       "    .dataframe tbody tr th:only-of-type {\n",
       "        vertical-align: middle;\n",
       "    }\n",
       "\n",
       "    .dataframe tbody tr th {\n",
       "        vertical-align: top;\n",
       "    }\n",
       "\n",
       "    .dataframe thead th {\n",
       "        text-align: right;\n",
       "    }\n",
       "</style>\n",
       "<table border=\"1\" class=\"dataframe\">\n",
       "  <thead>\n",
       "    <tr style=\"text-align: right;\">\n",
       "      <th></th>\n",
       "      <th>name</th>\n",
       "      <th>accuracy</th>\n",
       "      <th>auc</th>\n",
       "      <th>best_params</th>\n",
       "      <th>mean_fit_time</th>\n",
       "      <th>timestamp</th>\n",
       "    </tr>\n",
       "  </thead>\n",
       "  <tbody>\n",
       "    <tr>\n",
       "      <th>0</th>\n",
       "      <td>ComplementNB</td>\n",
       "      <td>0.975546</td>\n",
       "      <td>0.959025</td>\n",
       "      <td>{\"clf__alpha\": 1.0}</td>\n",
       "      <td>0.603874</td>\n",
       "      <td>1.727098e+09</td>\n",
       "    </tr>\n",
       "  </tbody>\n",
       "</table>\n",
       "</div>"
      ],
      "text/plain": [
       "           name  accuracy       auc          best_params  mean_fit_time  \\\n",
       "0  ComplementNB  0.975546  0.959025  {\"clf__alpha\": 1.0}       0.603874   \n",
       "\n",
       "      timestamp  \n",
       "0  1.727098e+09  "
      ]
     },
     "execution_count": 58,
     "metadata": {},
     "output_type": "execute_result"
    }
   ],
   "source": [
    "_best_params = {\n",
    "    'name': pipe['clf'].__class__.__name__,\n",
    "    'accuracy': gs.score(X_test,y_test),\n",
    "    'auc': gs.best_score_,\n",
    "    'best_params': json.dumps(gs.best_params_),\n",
    "    'mean_fit_time': gs.cv_results_['mean_fit_time'].mean(),\n",
    "    'timestamp': datetime.now().timestamp()\n",
    "}\n",
    "\n",
    "if osp.exists(FILE_HYPER_PARAMETERS):\n",
    "    with open(FILE_HYPER_PARAMETERS, 'r') as f:\n",
    "        clf_best_params = json.load(f) \n",
    "else:\n",
    "    clf_best_params = []\n",
    "\n",
    "clf_best_params.append(_best_params)\n",
    "\n",
    "df = pd.DataFrame(clf_best_params)\n",
    "df = df.sort_values(by=['auc','accuracy'], ascending=False).reset_index(drop=True)\n",
    "df = df.drop_duplicates(subset='name',keep='first')\n",
    "\n",
    "clf_best_params = df.to_dict('records')\n",
    "with open(FILE_HYPER_PARAMETERS, 'w+') as f:\n",
    "    json.dump(clf_best_params,f,indent=2)\n",
    "\n",
    "df"
   ]
  },
  {
   "cell_type": "code",
   "execution_count": 35,
   "id": "17c41bcd-e765-4b29-a1d7-6825aa79fa40",
   "metadata": {},
   "outputs": [
    {
     "data": {
      "text/plain": [
       "name            object\n",
       "accuracy       float64\n",
       "auc            float64\n",
       "best_params     object\n",
       "timestamp      float64\n",
       "dtype: object"
      ]
     },
     "execution_count": 35,
     "metadata": {},
     "output_type": "execute_result"
    }
   ],
   "source": [
    "df.dtypes"
   ]
  },
  {
   "cell_type": "code",
   "execution_count": 59,
   "id": "9effd19a-a16c-4caf-8b86-815772147096",
   "metadata": {},
   "outputs": [],
   "source": [
    "def save_best_params():\n",
    "    \n",
    "    _best_params = {\n",
    "        'name': pipe['clf'].__class__.__name__,\n",
    "        'accuracy': gs.score(X_test,y_test),\n",
    "        'auc': gs.best_score_,\n",
    "        'best_params': json.dumps(gs.best_params_),\n",
    "        'mean_fit_time': gs.cv_results_['mean_fit_time'].mean(),\n",
    "        'timestamp': datetime.now().timestamp()\n",
    "    }\n",
    "    \n",
    "    if osp.exists(FILE_HYPER_PARAMETERS):\n",
    "        with open(FILE_HYPER_PARAMETERS, 'r') as f:\n",
    "            clf_best_params = json.load(f) \n",
    "    else:\n",
    "        clf_best_params = []\n",
    "    \n",
    "    clf_best_params.append(_best_params)\n",
    "    \n",
    "    df = pd.DataFrame(clf_best_params)\n",
    "    df = df.sort_values(by=['auc','accuracy'], ascending=False).reset_index(drop=True)\n",
    "    df = df.drop_duplicates(subset='name',keep='first')\n",
    "    \n",
    "    clf_best_params = df.to_dict('records')\n",
    "    with open(FILE_HYPER_PARAMETERS, 'w+') as f:\n",
    "        json.dump(clf_best_params,f,indent=2)\n",
    "    \n",
    "    return df"
   ]
  },
  {
   "cell_type": "code",
   "execution_count": 60,
   "id": "c2d21329-eb3a-4fcd-b06c-c4ce104d1c21",
   "metadata": {},
   "outputs": [],
   "source": [
    "def load_best_params():\n",
    "\n",
    "    with open(FILE_HYPER_PARAMETERS) as f:\n",
    "        clf_best_params = json.load(f)\n",
    "    \n",
    "    df = pd.DataFrame(clf_best_params)\n",
    "    df = df.sort_values(by=['auc','accuracy'], ascending=False).reset_index(drop=True)\n",
    "    df = df.drop_duplicates(subset='name',keep='first')\n",
    "    \n",
    "    return df"
   ]
  },
  {
   "cell_type": "code",
   "execution_count": 10,
   "id": "2ef089a8-3008-41f6-95a5-86cc00e62743",
   "metadata": {},
   "outputs": [],
   "source": [
    "# def save_vectorizer_params():\n",
    "    \n",
    "#     _best_params = {\n",
    "#         'name': pipe['clf'].__class__.__name__,\n",
    "#         'accuracy': gs.score(X_test,y_test),\n",
    "#         'auc': gs.best_score_,\n",
    "#         'best_params': json.dumps(gs.best_params_)\n",
    "#     }\n",
    "    \n",
    "#     clf_best_params.append(_best_params)\n",
    "#     print(_best_params)\n",
    "    \n",
    "#     with open(FILE_VECTORIZER_PARAMETERS, 'w+') as f:\n",
    "#         json.dump(clf_best_params,f,indent=2)    "
   ]
  },
  {
   "cell_type": "markdown",
   "id": "ce5bde4a-70f0-4d17-bb9e-3a07636d3e9d",
   "metadata": {},
   "source": [
    "# Carga e prepação dos dados"
   ]
  },
  {
   "cell_type": "code",
   "execution_count": 61,
   "id": "3c000094-be35-46ee-8686-91e5cf56fc0e",
   "metadata": {},
   "outputs": [],
   "source": [
    "df_marketplaces = pd.read_parquet(FILE_MARKETPLACES)\n",
    "df_mercado = load_file_mercado()\n",
    "\n",
    "# reduzir a base de dados para construir o notebook\n",
    "# df_marketplaces = df_marketplaces.sample(10)\n",
    "\n",
    "# conjunto de dados\n",
    "docs_marketplaces = df_marketplaces[df_marketplaces['passivel_homologacao']<2]['titulo'].values\n",
    "targets_marketplaces = df_marketplaces[df_marketplaces['passivel_homologacao']<2]['passivel_homologacao'].values\n",
    "\n",
    "\n",
    "# GridSearchCV does not need test subset\n",
    "X_train, y_train = docs_marketplaces, targets_marketplaces\n",
    "# need X_test and y_test to score GridSearchCV best estimators\n",
    "_, X_test, _, y_test = train_test_split(\n",
    "    docs_marketplaces, targets_marketplaces,\n",
    "    test_size=0.25, \n",
    "    random_state=724\n",
    ")\n",
    "\n",
    "X_valid, y_valid = df_mercado['titulo'].values, df_mercado['passivel_homologacao'].values"
   ]
  },
  {
   "cell_type": "markdown",
   "id": "ad603cb3-32e3-40b5-80a1-42acf5b581d8",
   "metadata": {},
   "source": [
    "# Análise\n",
    "\n",
    "\n",
    "https://levity.ai/blog/text-classifiers-in-machine-learning-a-practical-guide"
   ]
  },
  {
   "cell_type": "markdown",
   "id": "d1a61dbc-047d-4bb3-a87f-821a668bffae",
   "metadata": {},
   "source": [
    "## Ajustando hiperparâmetros dos algoritmos"
   ]
  },
  {
   "cell_type": "code",
   "execution_count": 63,
   "id": "aee986a0-77c4-4b0f-ae76-ee356f085a59",
   "metadata": {},
   "outputs": [],
   "source": [
    "start_time = datetime.now()"
   ]
  },
  {
   "cell_type": "markdown",
   "id": "1b8bae16-3694-4090-a543-8d50112a2c5c",
   "metadata": {},
   "source": [
    "### DummyClassifier"
   ]
  },
  {
   "cell_type": "code",
   "execution_count": null,
   "id": "ce8125c1-e320-43c2-bd87-6aeba68c8b7d",
   "metadata": {},
   "outputs": [],
   "source": [
    "%%time\n",
    "clf = DummyClassifier()\n",
    "\n",
    "vectorizer = TfidfVectorizer()\n",
    "pipe = Pipeline(steps = [('vectorizer',vectorizer),('clf',clf)])\n",
    "\n",
    "parameter_grid = {\n",
    "    \"clf__strategy\": ('most_frequent', 'prior', 'stratified', 'uniform', 'constant'),\n",
    "}\n",
    "scoring = {\"AUC\": \"roc_auc\"}\n",
    "\n",
    "gs = GridSearchCV(pipe,parameter_grid,scoring=scoring,refit='AUC', n_jobs=N_JOBS)\n",
    "gs.fit(X_train, y_train)\n",
    "save_best_params()"
   ]
  },
  {
   "cell_type": "markdown",
   "id": "2aa258b6-9439-4c69-87d1-b38ca772445d",
   "metadata": {},
   "source": [
    "### NaiveBayes"
   ]
  },
  {
   "cell_type": "markdown",
   "id": "892ffc13-04fd-4bdf-a4b6-6c4d55b00556",
   "metadata": {},
   "source": [
    "#### BernoulliNB"
   ]
  },
  {
   "cell_type": "code",
   "execution_count": 64,
   "id": "41dcc36f-e20f-4e0b-950c-b5f8ab2109cb",
   "metadata": {},
   "outputs": [
    {
     "name": "stdout",
     "output_type": "stream",
     "text": [
      "CPU times: total: 1.03 s\n",
      "Wall time: 26.6 s\n"
     ]
    },
    {
     "data": {
      "text/html": [
       "<div>\n",
       "<style scoped>\n",
       "    .dataframe tbody tr th:only-of-type {\n",
       "        vertical-align: middle;\n",
       "    }\n",
       "\n",
       "    .dataframe tbody tr th {\n",
       "        vertical-align: top;\n",
       "    }\n",
       "\n",
       "    .dataframe thead th {\n",
       "        text-align: right;\n",
       "    }\n",
       "</style>\n",
       "<table border=\"1\" class=\"dataframe\">\n",
       "  <thead>\n",
       "    <tr style=\"text-align: right;\">\n",
       "      <th></th>\n",
       "      <th>name</th>\n",
       "      <th>accuracy</th>\n",
       "      <th>auc</th>\n",
       "      <th>best_params</th>\n",
       "      <th>mean_fit_time</th>\n",
       "      <th>timestamp</th>\n",
       "    </tr>\n",
       "  </thead>\n",
       "  <tbody>\n",
       "    <tr>\n",
       "      <th>0</th>\n",
       "      <td>ComplementNB</td>\n",
       "      <td>0.975546</td>\n",
       "      <td>0.959025</td>\n",
       "      <td>{\"clf__alpha\": 1.0}</td>\n",
       "      <td>0.603874</td>\n",
       "      <td>1.727098e+09</td>\n",
       "    </tr>\n",
       "    <tr>\n",
       "      <th>1</th>\n",
       "      <td>BernoulliNB</td>\n",
       "      <td>0.973840</td>\n",
       "      <td>0.955884</td>\n",
       "      <td>{\"clf__alpha\": 1.0}</td>\n",
       "      <td>0.563134</td>\n",
       "      <td>1.727098e+09</td>\n",
       "    </tr>\n",
       "  </tbody>\n",
       "</table>\n",
       "</div>"
      ],
      "text/plain": [
       "           name  accuracy       auc          best_params  mean_fit_time  \\\n",
       "0  ComplementNB  0.975546  0.959025  {\"clf__alpha\": 1.0}       0.603874   \n",
       "1   BernoulliNB  0.973840  0.955884  {\"clf__alpha\": 1.0}       0.563134   \n",
       "\n",
       "      timestamp  \n",
       "0  1.727098e+09  \n",
       "1  1.727098e+09  "
      ]
     },
     "execution_count": 64,
     "metadata": {},
     "output_type": "execute_result"
    }
   ],
   "source": [
    "%%time\n",
    "clf = BernoulliNB()\n",
    "\n",
    "vectorizer = TfidfVectorizer()\n",
    "pipe = Pipeline(steps = [('vectorizer',vectorizer),('clf',clf)])\n",
    "\n",
    "parameter_grid = {\n",
    "    \"clf__alpha\": np.logspace(-6, 6, 13),\n",
    "}\n",
    "scoring = {\"AUC\": \"roc_auc\"}\n",
    "\n",
    "gs = GridSearchCV(pipe,parameter_grid,scoring=scoring,refit='AUC', n_jobs=N_JOBS)\n",
    "gs.fit(X_train, y_train)\n",
    "\n",
    "save_best_params()"
   ]
  },
  {
   "cell_type": "code",
   "execution_count": 65,
   "id": "3f605876-bb66-41b0-9ba8-0c1431e3b08d",
   "metadata": {},
   "outputs": [
    {
     "data": {
      "text/html": [
       "<div>\n",
       "<style scoped>\n",
       "    .dataframe tbody tr th:only-of-type {\n",
       "        vertical-align: middle;\n",
       "    }\n",
       "\n",
       "    .dataframe tbody tr th {\n",
       "        vertical-align: top;\n",
       "    }\n",
       "\n",
       "    .dataframe thead th {\n",
       "        text-align: right;\n",
       "    }\n",
       "</style>\n",
       "<table border=\"1\" class=\"dataframe\">\n",
       "  <thead>\n",
       "    <tr style=\"text-align: right;\">\n",
       "      <th></th>\n",
       "      <th>name</th>\n",
       "      <th>accuracy</th>\n",
       "      <th>auc</th>\n",
       "      <th>best_params</th>\n",
       "      <th>mean_fit_time</th>\n",
       "      <th>timestamp</th>\n",
       "    </tr>\n",
       "  </thead>\n",
       "  <tbody>\n",
       "    <tr>\n",
       "      <th>0</th>\n",
       "      <td>ComplementNB</td>\n",
       "      <td>0.975546</td>\n",
       "      <td>0.959025</td>\n",
       "      <td>{\"clf__alpha\": 1.0}</td>\n",
       "      <td>0.603874</td>\n",
       "      <td>1.727098e+09</td>\n",
       "    </tr>\n",
       "    <tr>\n",
       "      <th>1</th>\n",
       "      <td>BernoulliNB</td>\n",
       "      <td>0.973840</td>\n",
       "      <td>0.955884</td>\n",
       "      <td>{\"clf__alpha\": 1.0}</td>\n",
       "      <td>0.563134</td>\n",
       "      <td>1.727098e+09</td>\n",
       "    </tr>\n",
       "  </tbody>\n",
       "</table>\n",
       "</div>"
      ],
      "text/plain": [
       "           name  accuracy       auc          best_params  mean_fit_time  \\\n",
       "0  ComplementNB  0.975546  0.959025  {\"clf__alpha\": 1.0}       0.603874   \n",
       "1   BernoulliNB  0.973840  0.955884  {\"clf__alpha\": 1.0}       0.563134   \n",
       "\n",
       "      timestamp  \n",
       "0  1.727098e+09  \n",
       "1  1.727098e+09  "
      ]
     },
     "execution_count": 65,
     "metadata": {},
     "output_type": "execute_result"
    }
   ],
   "source": [
    "load_best_params()"
   ]
  },
  {
   "cell_type": "markdown",
   "id": "8b7db192-34cd-497c-ab45-bcbcad67f976",
   "metadata": {},
   "source": [
    "#### ComplementNB"
   ]
  },
  {
   "cell_type": "code",
   "execution_count": 66,
   "id": "03f04dfe-5142-4922-90a6-1f24ba58e5eb",
   "metadata": {},
   "outputs": [
    {
     "name": "stdout",
     "output_type": "stream",
     "text": [
      "CPU times: total: 938 ms\n",
      "Wall time: 4.27 s\n"
     ]
    },
    {
     "data": {
      "text/html": [
       "<div>\n",
       "<style scoped>\n",
       "    .dataframe tbody tr th:only-of-type {\n",
       "        vertical-align: middle;\n",
       "    }\n",
       "\n",
       "    .dataframe tbody tr th {\n",
       "        vertical-align: top;\n",
       "    }\n",
       "\n",
       "    .dataframe thead th {\n",
       "        text-align: right;\n",
       "    }\n",
       "</style>\n",
       "<table border=\"1\" class=\"dataframe\">\n",
       "  <thead>\n",
       "    <tr style=\"text-align: right;\">\n",
       "      <th></th>\n",
       "      <th>name</th>\n",
       "      <th>accuracy</th>\n",
       "      <th>auc</th>\n",
       "      <th>best_params</th>\n",
       "      <th>mean_fit_time</th>\n",
       "      <th>timestamp</th>\n",
       "    </tr>\n",
       "  </thead>\n",
       "  <tbody>\n",
       "    <tr>\n",
       "      <th>0</th>\n",
       "      <td>ComplementNB</td>\n",
       "      <td>0.975546</td>\n",
       "      <td>0.959025</td>\n",
       "      <td>{\"clf__alpha\": 1.0}</td>\n",
       "      <td>0.603874</td>\n",
       "      <td>1.727098e+09</td>\n",
       "    </tr>\n",
       "    <tr>\n",
       "      <th>2</th>\n",
       "      <td>BernoulliNB</td>\n",
       "      <td>0.973840</td>\n",
       "      <td>0.955884</td>\n",
       "      <td>{\"clf__alpha\": 1.0}</td>\n",
       "      <td>0.563134</td>\n",
       "      <td>1.727098e+09</td>\n",
       "    </tr>\n",
       "  </tbody>\n",
       "</table>\n",
       "</div>"
      ],
      "text/plain": [
       "           name  accuracy       auc          best_params  mean_fit_time  \\\n",
       "0  ComplementNB  0.975546  0.959025  {\"clf__alpha\": 1.0}       0.603874   \n",
       "2   BernoulliNB  0.973840  0.955884  {\"clf__alpha\": 1.0}       0.563134   \n",
       "\n",
       "      timestamp  \n",
       "0  1.727098e+09  \n",
       "2  1.727098e+09  "
      ]
     },
     "execution_count": 66,
     "metadata": {},
     "output_type": "execute_result"
    }
   ],
   "source": [
    "%%time\n",
    "clf = ComplementNB()\n",
    "\n",
    "vectorizer = TfidfVectorizer()\n",
    "pipe = Pipeline(steps = [('vectorizer',vectorizer),('clf',clf)])\n",
    "\n",
    "parameter_grid = {\n",
    "    \"clf__alpha\": np.logspace(-6, 6, 13),\n",
    "}\n",
    "scoring = {\"AUC\": \"roc_auc\"}\n",
    "\n",
    "gs = GridSearchCV(pipe,parameter_grid,scoring=scoring,refit='AUC', n_jobs=N_JOBS)\n",
    "gs.fit(X_train, y_train)\n",
    "save_best_params()"
   ]
  },
  {
   "cell_type": "markdown",
   "id": "e1a85768-a81f-43d0-85fb-72ee8f609423",
   "metadata": {},
   "source": [
    "#### MultinomialNB"
   ]
  },
  {
   "cell_type": "code",
   "execution_count": 67,
   "id": "12bec9b4-54c0-42cb-8b9e-71d88de8399c",
   "metadata": {},
   "outputs": [
    {
     "name": "stdout",
     "output_type": "stream",
     "text": [
      "CPU times: total: 891 ms\n",
      "Wall time: 4.32 s\n"
     ]
    },
    {
     "data": {
      "text/html": [
       "<div>\n",
       "<style scoped>\n",
       "    .dataframe tbody tr th:only-of-type {\n",
       "        vertical-align: middle;\n",
       "    }\n",
       "\n",
       "    .dataframe tbody tr th {\n",
       "        vertical-align: top;\n",
       "    }\n",
       "\n",
       "    .dataframe thead th {\n",
       "        text-align: right;\n",
       "    }\n",
       "</style>\n",
       "<table border=\"1\" class=\"dataframe\">\n",
       "  <thead>\n",
       "    <tr style=\"text-align: right;\">\n",
       "      <th></th>\n",
       "      <th>name</th>\n",
       "      <th>accuracy</th>\n",
       "      <th>auc</th>\n",
       "      <th>best_params</th>\n",
       "      <th>mean_fit_time</th>\n",
       "      <th>timestamp</th>\n",
       "    </tr>\n",
       "  </thead>\n",
       "  <tbody>\n",
       "    <tr>\n",
       "      <th>0</th>\n",
       "      <td>ComplementNB</td>\n",
       "      <td>0.975546</td>\n",
       "      <td>0.959025</td>\n",
       "      <td>{\"clf__alpha\": 1.0}</td>\n",
       "      <td>0.603874</td>\n",
       "      <td>1.727098e+09</td>\n",
       "    </tr>\n",
       "    <tr>\n",
       "      <th>1</th>\n",
       "      <td>MultinomialNB</td>\n",
       "      <td>0.975546</td>\n",
       "      <td>0.959025</td>\n",
       "      <td>{\"clf__alpha\": 1.0}</td>\n",
       "      <td>0.508289</td>\n",
       "      <td>1.727098e+09</td>\n",
       "    </tr>\n",
       "    <tr>\n",
       "      <th>2</th>\n",
       "      <td>BernoulliNB</td>\n",
       "      <td>0.973840</td>\n",
       "      <td>0.955884</td>\n",
       "      <td>{\"clf__alpha\": 1.0}</td>\n",
       "      <td>0.563134</td>\n",
       "      <td>1.727098e+09</td>\n",
       "    </tr>\n",
       "  </tbody>\n",
       "</table>\n",
       "</div>"
      ],
      "text/plain": [
       "            name  accuracy       auc          best_params  mean_fit_time  \\\n",
       "0   ComplementNB  0.975546  0.959025  {\"clf__alpha\": 1.0}       0.603874   \n",
       "1  MultinomialNB  0.975546  0.959025  {\"clf__alpha\": 1.0}       0.508289   \n",
       "2    BernoulliNB  0.973840  0.955884  {\"clf__alpha\": 1.0}       0.563134   \n",
       "\n",
       "      timestamp  \n",
       "0  1.727098e+09  \n",
       "1  1.727098e+09  \n",
       "2  1.727098e+09  "
      ]
     },
     "execution_count": 67,
     "metadata": {},
     "output_type": "execute_result"
    }
   ],
   "source": [
    "%%time\n",
    "clf = MultinomialNB()\n",
    "\n",
    "vectorizer = TfidfVectorizer()\n",
    "pipe = Pipeline(steps = [('vectorizer',vectorizer),('clf',clf)])\n",
    "\n",
    "parameter_grid = {\n",
    "    \"clf__alpha\": np.logspace(-6, 6, 13),\n",
    "}\n",
    "scoring = {\"AUC\": \"roc_auc\"}\n",
    "\n",
    "gs = GridSearchCV(pipe, parameter_grid, scoring=scoring, refit='AUC', n_jobs=N_JOBS)\n",
    "gs.fit(X_train, y_train)\n",
    "save_best_params()"
   ]
  },
  {
   "cell_type": "markdown",
   "id": "d8773320-39cb-4c04-846a-2ec23097a18d",
   "metadata": {},
   "source": [
    "### KNeighborsClassifier"
   ]
  },
  {
   "cell_type": "code",
   "execution_count": null,
   "id": "4cd21bf5-67c1-4093-90ec-5ac10759a2eb",
   "metadata": {},
   "outputs": [],
   "source": [
    "%%time\n",
    "clf = KNeighborsClassifier()\n",
    "\n",
    "vectorizer = TfidfVectorizer()\n",
    "pipe = Pipeline(steps = [('vectorizer',vectorizer),('clf',clf)])\n",
    "\n",
    "parameter_grid = {\n",
    "    \"clf__n_neighbors\": (3, 5, 10),\n",
    "    \"clf__p\": (1, 2)\n",
    "}\n",
    "scoring = {\"AUC\": \"roc_auc\"}\n",
    "\n",
    "gs = GridSearchCV(pipe,parameter_grid,scoring=scoring,refit='AUC', n_jobs=N_JOBS)\n",
    "gs.fit(X_train, y_train)\n",
    "save_best_params()"
   ]
  },
  {
   "cell_type": "markdown",
   "id": "3ab8d07c-6062-450a-bf13-71e4e395baff",
   "metadata": {},
   "source": [
    "### Linear models"
   ]
  },
  {
   "cell_type": "markdown",
   "id": "3daf4814-cac4-42d6-a961-df5f41b4d9ba",
   "metadata": {},
   "source": [
    "#### SGDClassifier"
   ]
  },
  {
   "cell_type": "code",
   "execution_count": null,
   "id": "68804ce9-eb71-4795-ad51-6c8f36d12a21",
   "metadata": {},
   "outputs": [],
   "source": [
    "%%time\n",
    "clf = SGDClassifier()\n",
    "\n",
    "vectorizer = TfidfVectorizer()\n",
    "pipe = Pipeline(steps = [('vectorizer',vectorizer),('clf',clf)])\n",
    "\n",
    "parameter_grid = {\n",
    "    \"clf__alpha\": np.logspace(-6, 6, 13),\n",
    "    \"clf__loss\": ('hinge', 'log_loss', 'modified_huber', 'squared_hinge', 'perceptron'),\n",
    "    \"clf__penalty\": ('l1', 'l2', 'elasticnet'),\n",
    "}\n",
    "scoring = {\"AUC\": \"roc_auc\"}\n",
    "\n",
    "gs = GridSearchCV(pipe,parameter_grid,scoring=scoring,refit='AUC', n_jobs=N_JOBS)\n",
    "gs.fit(X_train, y_train)\n",
    "save_best_params()"
   ]
  },
  {
   "cell_type": "markdown",
   "id": "b7f1a883-1da8-40d5-a6b1-449a5a644d50",
   "metadata": {},
   "source": [
    "#### LogisticRegression"
   ]
  },
  {
   "cell_type": "code",
   "execution_count": null,
   "id": "153c9c02-cda0-4304-bf59-96d6721c0ee0",
   "metadata": {},
   "outputs": [],
   "source": [
    "%%time\n",
    "clf = LogisticRegression(solver='liblinear')\n",
    "\n",
    "vectorizer = TfidfVectorizer()\n",
    "pipe = Pipeline(steps = [('vectorizer',vectorizer),('clf',clf)])\n",
    "\n",
    "parameter_grid = {\n",
    "    \"clf__C\": np.logspace(-5, 5, 11),\n",
    "    \"clf__penalty\": ('l1', 'l2'),\n",
    "}\n",
    "scoring = {\"AUC\": \"roc_auc\"}\n",
    "\n",
    "gs = GridSearchCV(pipe,parameter_grid,scoring=scoring,refit='AUC', n_jobs=N_JOBS)\n",
    "gs.fit(X_train, y_train)\n",
    "save_best_params()"
   ]
  },
  {
   "cell_type": "markdown",
   "id": "3da4752a-7046-4862-8b56-232fa6047004",
   "metadata": {},
   "source": [
    "#### RidgeClassifier"
   ]
  },
  {
   "cell_type": "code",
   "execution_count": null,
   "id": "52f81ea5-6a3a-4499-890a-57301cf6631c",
   "metadata": {},
   "outputs": [],
   "source": [
    "%%time\n",
    "clf = RidgeClassifier(fit_intercept=False)\n",
    "\n",
    "vectorizer = TfidfVectorizer()\n",
    "pipe = Pipeline(steps = [('vectorizer',vectorizer),('clf',clf)])\n",
    "\n",
    "parameter_grid = {\n",
    "    \"clf__solver\": ('cholesky', 'sparse_cg', 'sag', 'saga'),\n",
    "}\n",
    "scoring = {\"AUC\": \"roc_auc\"}\n",
    "\n",
    "gs = GridSearchCV(pipe,parameter_grid,scoring=scoring,refit='AUC', n_jobs=N_JOBS)\n",
    "gs.fit(X_train, y_train)\n",
    "save_best_params()"
   ]
  },
  {
   "cell_type": "markdown",
   "id": "64a29daa-5f4c-46cd-b7bc-50e0e084e7fc",
   "metadata": {
    "jp-MarkdownHeadingCollapsed": true
   },
   "source": [
    "### SVM"
   ]
  },
  {
   "cell_type": "markdown",
   "id": "6f61ceef-ee78-4e08-a1f7-7163d06869be",
   "metadata": {},
   "source": [
    "#### LinearSVC"
   ]
  },
  {
   "cell_type": "code",
   "execution_count": null,
   "id": "399a77b9-0aba-4570-9922-495ace55daa6",
   "metadata": {},
   "outputs": [],
   "source": [
    "%%time\n",
    "clf = LinearSVC()\n",
    "\n",
    "vectorizer = TfidfVectorizer()\n",
    "pipe = Pipeline(steps = [('vectorizer',vectorizer),('clf',clf)])\n",
    "\n",
    "parameter_grid = {\n",
    "    \"clf__loss\": ('hinge', 'squared_hinge'),\n",
    "    \"clf__C\": np.logspace(-5,0,6),\n",
    "    \"clf__tol\": np.logspace(-5,0,6),\n",
    "}\n",
    "scoring = {\"AUC\": \"roc_auc\"}\n",
    "\n",
    "gs = GridSearchCV(pipe,parameter_grid,scoring=scoring,refit='AUC', n_jobs=N_JOBS)\n",
    "gs.fit(X_train, y_train)\n",
    "save_best_params()"
   ]
  },
  {
   "cell_type": "markdown",
   "id": "9dab8a12-20a4-48ad-9a6c-95e3f43376fc",
   "metadata": {},
   "source": [
    "#### NuSVC"
   ]
  },
  {
   "cell_type": "code",
   "execution_count": null,
   "id": "a983d766-b39d-4517-8fa2-4e6b28d131ab",
   "metadata": {},
   "outputs": [],
   "source": [
    "%%time\n",
    "clf = NuSVC()\n",
    "\n",
    "vectorizer = TfidfVectorizer()\n",
    "pipe = Pipeline(steps = [('vectorizer',vectorizer),('clf',clf)])\n",
    "\n",
    "parameter_grid = {\n",
    "    \"clf__nu\": (0.1, 0.25, 0.5, 0.75, 1),\n",
    "    \"clf__kernel\": ('linear', 'poly', 'rbf', 'sigmoid', 'precomputed'),\n",
    "    \"clf__tol\": np.logspace(-5,0,6),\n",
    "}\n",
    "scoring = {\"AUC\": \"roc_auc\"}\n",
    "\n",
    "gs = GridSearchCV(pipe,parameter_grid,scoring=scoring,refit='AUC', n_jobs=N_JOBS)\n",
    "gs.fit(X_train, y_train)\n",
    "save_best_params()"
   ]
  },
  {
   "cell_type": "markdown",
   "id": "cd6e7e93-01b6-4883-989d-79870cc1df61",
   "metadata": {
    "jp-MarkdownHeadingCollapsed": true
   },
   "source": [
    "### Tree"
   ]
  },
  {
   "cell_type": "markdown",
   "id": "1a7bcc64-2f78-421e-a690-124f4343b21c",
   "metadata": {},
   "source": [
    "#### DecisionTreeClassifier"
   ]
  },
  {
   "cell_type": "code",
   "execution_count": null,
   "id": "2d98631e-9e4b-4955-9f36-31a4bade2241",
   "metadata": {},
   "outputs": [],
   "source": [
    "%%time\n",
    "clf = DecisionTreeClassifier()\n",
    "\n",
    "vectorizer = TfidfVectorizer()\n",
    "pipe = Pipeline(steps = [('vectorizer',vectorizer),('clf',clf)])\n",
    "\n",
    "parameter_grid = {\n",
    "    \"clf__splitter\": ('best', 'random'),\n",
    "    \"clf__criterion\": ('gini', 'entropy', 'log_loss'),\n",
    "    \"clf__max_features\": ('sqrt', 'log2')\n",
    "}\n",
    "scoring = {\"AUC\": \"roc_auc\"}\n",
    "\n",
    "gs = GridSearchCV(pipe,parameter_grid,scoring=scoring,refit='AUC', n_jobs=N_JOBS)\n",
    "gs.fit(X_train, y_train)\n",
    "save_best_params()"
   ]
  },
  {
   "cell_type": "markdown",
   "id": "1e709b71-c108-49fd-9f79-6417bf488ccd",
   "metadata": {},
   "source": [
    "#### Extremely randomized tree "
   ]
  },
  {
   "cell_type": "code",
   "execution_count": null,
   "id": "ed47e23f-5fea-4890-b5de-08b0a05aa452",
   "metadata": {},
   "outputs": [],
   "source": [
    "%%time\n",
    "clf = ExtraTreeClassifier()\n",
    "\n",
    "vectorizer = TfidfVectorizer()\n",
    "pipe = Pipeline(steps = [('vectorizer',vectorizer),('clf',clf)])\n",
    "\n",
    "parameter_grid = {\n",
    "    \"clf__splitter\": ('best', 'random'),\n",
    "    \"clf__criterion\": ('gini', 'entropy', 'log_loss'),\n",
    "    \"clf__max_features\": ('sqrt', 'log2')\n",
    "}\n",
    "scoring = {\"AUC\": \"roc_auc\"}\n",
    "\n",
    "gs = GridSearchCV(pipe,parameter_grid,scoring=scoring,refit='AUC', n_jobs=N_JOBS)\n",
    "gs.fit(X_train, y_train)\n",
    "save_best_params()"
   ]
  },
  {
   "cell_type": "markdown",
   "id": "4e78f70a-2d6a-4217-89a9-e09255e33a67",
   "metadata": {},
   "source": [
    "### Ensemble"
   ]
  },
  {
   "cell_type": "markdown",
   "id": "6b9bbfd4-02ad-4514-abd8-e6c4d754e111",
   "metadata": {},
   "source": [
    "#### RandomForestClassifier"
   ]
  },
  {
   "cell_type": "code",
   "execution_count": null,
   "id": "b254c16d-0921-41ef-b053-6bf14a6fe053",
   "metadata": {},
   "outputs": [],
   "source": [
    "%%time\n",
    "clf = RandomForestClassifier()\n",
    "\n",
    "vectorizer = TfidfVectorizer()\n",
    "pipe = Pipeline(steps = [('vectorizer',vectorizer),('clf',clf)])\n",
    "\n",
    "parameter_grid = {\n",
    "    \"clf__n_estimators\": (10, 100, 500),\n",
    "    \"clf__criterion\": ('gini', 'entropy', 'log_loss'),\n",
    "    \"clf__max_features\": ('sqrt', 'log2')\n",
    "}\n",
    "scoring = {\"AUC\": \"roc_auc\"}\n",
    "\n",
    "gs = GridSearchCV(pipe,parameter_grid,scoring=scoring,refit='AUC', n_jobs=N_JOBS)\n",
    "gs.fit(X_train, y_train)\n",
    "save_best_params()"
   ]
  },
  {
   "cell_type": "markdown",
   "id": "19338a98-b13d-48b2-821f-05e524f299db",
   "metadata": {},
   "source": [
    "#### AdaBoostClassifier"
   ]
  },
  {
   "cell_type": "code",
   "execution_count": null,
   "id": "0376835c-63ee-427a-9063-c0b68a1ebbca",
   "metadata": {},
   "outputs": [],
   "source": [
    "%%time\n",
    "clf = AdaBoostClassifier()\n",
    "\n",
    "vectorizer = TfidfVectorizer()\n",
    "pipe = Pipeline(steps = [('vectorizer',vectorizer),('clf',clf)])\n",
    "\n",
    "parameter_grid = {\n",
    "    \"clf__n_estimators\": (50, 100, 500),\n",
    "    \"clf__learning_rate\": np.logspace(-5, 0, 6),\n",
    "}\n",
    "scoring = {\"AUC\": \"roc_auc\"}\n",
    "\n",
    "gs = GridSearchCV(pipe,parameter_grid,scoring=scoring,refit='AUC', n_jobs=N_JOBS)\n",
    "gs.fit(X_train, y_train)\n",
    "save_best_params()"
   ]
  },
  {
   "cell_type": "markdown",
   "id": "a862c9de-c754-48f3-88c5-14cab99476ca",
   "metadata": {},
   "source": [
    "## Consolidar e exibir resultados"
   ]
  },
  {
   "cell_type": "markdown",
   "id": "05031fdb-7e4e-4d6e-b0ac-a1f3dcc5eb50",
   "metadata": {},
   "source": [
    "### Tempo de treinamento"
   ]
  },
  {
   "cell_type": "code",
   "execution_count": null,
   "id": "5f8b65e1-cee7-4224-b04c-a5e88cbe4f5d",
   "metadata": {},
   "outputs": [],
   "source": [
    "elapsed_time = datetime.now() - start_time\n",
    "print('Total trainning time: {} seconds'.format(int(elapsed_time.total_seconds())))\n",
    "print('Total trainning time: {} minutes'.format(int(elapsed_time.total_seconds()//60)))"
   ]
  },
  {
   "cell_type": "markdown",
   "id": "07328dee-67da-4153-b3c6-5f1a3e19b92a",
   "metadata": {},
   "source": [
    "### Scores"
   ]
  },
  {
   "cell_type": "code",
   "execution_count": 70,
   "id": "8eb6940f-89c1-49d6-8d25-ea8ae07081a4",
   "metadata": {},
   "outputs": [
    {
     "data": {
      "text/html": [
       "<div>\n",
       "<style scoped>\n",
       "    .dataframe tbody tr th:only-of-type {\n",
       "        vertical-align: middle;\n",
       "    }\n",
       "\n",
       "    .dataframe tbody tr th {\n",
       "        vertical-align: top;\n",
       "    }\n",
       "\n",
       "    .dataframe thead th {\n",
       "        text-align: right;\n",
       "    }\n",
       "</style>\n",
       "<table border=\"1\" class=\"dataframe\">\n",
       "  <thead>\n",
       "    <tr style=\"text-align: right;\">\n",
       "      <th></th>\n",
       "      <th>name</th>\n",
       "      <th>accuracy</th>\n",
       "      <th>auc</th>\n",
       "      <th>best_params</th>\n",
       "      <th>mean_fit_time</th>\n",
       "      <th>timestamp</th>\n",
       "    </tr>\n",
       "  </thead>\n",
       "  <tbody>\n",
       "    <tr>\n",
       "      <th>0</th>\n",
       "      <td>ComplementNB</td>\n",
       "      <td>0.975546</td>\n",
       "      <td>0.959025</td>\n",
       "      <td>{\"clf__alpha\": 1.0}</td>\n",
       "      <td>0.603874</td>\n",
       "      <td>1.727098e+09</td>\n",
       "    </tr>\n",
       "    <tr>\n",
       "      <th>1</th>\n",
       "      <td>MultinomialNB</td>\n",
       "      <td>0.975546</td>\n",
       "      <td>0.959025</td>\n",
       "      <td>{\"clf__alpha\": 1.0}</td>\n",
       "      <td>0.508289</td>\n",
       "      <td>1.727098e+09</td>\n",
       "    </tr>\n",
       "    <tr>\n",
       "      <th>2</th>\n",
       "      <td>BernoulliNB</td>\n",
       "      <td>0.973840</td>\n",
       "      <td>0.955884</td>\n",
       "      <td>{\"clf__alpha\": 1.0}</td>\n",
       "      <td>0.563134</td>\n",
       "      <td>1.727098e+09</td>\n",
       "    </tr>\n",
       "  </tbody>\n",
       "</table>\n",
       "</div>"
      ],
      "text/plain": [
       "            name  accuracy       auc          best_params  mean_fit_time  \\\n",
       "0   ComplementNB  0.975546  0.959025  {\"clf__alpha\": 1.0}       0.603874   \n",
       "1  MultinomialNB  0.975546  0.959025  {\"clf__alpha\": 1.0}       0.508289   \n",
       "2    BernoulliNB  0.973840  0.955884  {\"clf__alpha\": 1.0}       0.563134   \n",
       "\n",
       "      timestamp  \n",
       "0  1.727098e+09  \n",
       "1  1.727098e+09  \n",
       "2  1.727098e+09  "
      ]
     },
     "execution_count": 70,
     "metadata": {},
     "output_type": "execute_result"
    }
   ],
   "source": [
    "df = load_best_params()\n",
    "df"
   ]
  },
  {
   "cell_type": "code",
   "execution_count": 73,
   "id": "d97aad1c-d928-40b0-a86d-f9175d9be8ce",
   "metadata": {},
   "outputs": [
    {
     "data": {
      "image/png": "[encoded data removed]",
      "text/plain": [
       "<Figure size 800x500 with 1 Axes>"
      ]
     },
     "metadata": {},
     "output_type": "display_data"
    }
   ],
   "source": [
    "fig, ax = plt.subplots(1,1,figsize=(8,5))\n",
    "\n",
    "# ax.set_xlim(0,1)\n",
    "# ax.set_ylim(0,1)\n",
    "\n",
    "for record in df.to_dict('records'):\n",
    "    label = record['name']\n",
    "    x = record['auc']\n",
    "    y = record['accuracy']\n",
    "    _=ax.scatter(x,y, label=label)\n",
    "\n",
    "ax.set_xlabel('Área sob a curva ROC')\n",
    "ax.set_ylabel('Acurácia')\n",
    "ax.set_title('Desempenho dos classificadores')\n",
    "# ax.legend()\n",
    "plt.show()\n"
   ]
  },
  {
   "cell_type": "code",
   "execution_count": 72,
   "id": "eb50919d-3663-46b0-93b2-54cc8ef8a43e",
   "metadata": {},
   "outputs": [
    {
     "data": {
      "image/png": "[encoded data removed]",
      "text/plain": [
       "<Figure size 800x500 with 1 Axes>"
      ]
     },
     "metadata": {},
     "output_type": "display_data"
    }
   ],
   "source": [
    "fig, ax = plt.subplots(1,1,figsize=(8,5))\n",
    "\n",
    "# ax.set_xlim(0,1)\n",
    "# ax.set_ylim(0,1)\n",
    "\n",
    "for record in df.head(5).to_dict('records'):\n",
    "    label = record['name']\n",
    "    x = record['auc']\n",
    "    y = record['accuracy']\n",
    "    _=ax.scatter(x,y, label=label)\n",
    "\n",
    "ax.set_xlabel('Área sob a curva ROC')\n",
    "ax.set_ylabel('Acurácia')\n",
    "ax.set_title('Desempenho dos classificadores - top 5')\n",
    "ax.legend()\n",
    "plt.show()"
   ]
  },
  {
   "cell_type": "markdown",
   "id": "8c4ac2ff-c56f-4b70-b5f7-ba8e4fbc54ac",
   "metadata": {},
   "source": [
    "## Ajustando hiperparâmetros do vetorizador"
   ]
  },
  {
   "cell_type": "markdown",
   "id": "c2990b54-3c06-45b4-b558-07c40bae3901",
   "metadata": {},
   "source": [
    "### RandomForestClassifier"
   ]
  },
  {
   "cell_type": "code",
   "execution_count": null,
   "id": "abaf3b83-f517-424c-8f7a-cb3fa345da03",
   "metadata": {},
   "outputs": [],
   "source": [
    "# %%time\n",
    "\n",
    "# clf = RandomForestClassifier(\n",
    "#     criterion = 'log_loss',\n",
    "#     max_features = 'log2', \n",
    "#     n_estimators = 500\n",
    "# )\n",
    "\n",
    "# vectorizer = TfidfVectorizer()\n",
    "# pipe = Pipeline(steps = [('vectorizer',vectorizer),('clf',clf)])\n",
    "\n",
    "# parameter_grid = {\n",
    "#     \"vectorizer__use_idf\": (True, False),\n",
    "#     \"vectorizer__max_df\": (0.2, 0.4, 0.6, 0.8, 1.0),\n",
    "#     \"vectorizer__min_df\": (1, 3, 5, 10),\n",
    "#     \"vectorizer__ngram_range\": ((1, 1), (1, 2)),  # unigrams or bigrams\n",
    "#     \"vectorizer__norm\": (\"l1\", \"l2\"),\n",
    "#     \"vectorizer__tokenizer\": (None, tokenizer),\n",
    "# }\n",
    "# scoring = {\"AUC\": \"roc_auc\"}\n",
    "\n",
    "# gs = GridSearchCV(pipe,parameter_grid,scoring=scoring,refit='AUC', n_jobs=1)\n",
    "# gs.fit(X_train, y_train)\n",
    "\n",
    "# save_vectorizer_params()"
   ]
  },
  {
   "cell_type": "markdown",
   "id": "127a8289-4ba2-47a3-b242-3457d3bc30a0",
   "metadata": {},
   "source": [
    "### NuSVC"
   ]
  },
  {
   "cell_type": "code",
   "execution_count": null,
   "id": "a2b44301-3146-4d86-8dd0-f9913486e761",
   "metadata": {},
   "outputs": [],
   "source": [
    "# %%time\n",
    "\n",
    "# clf = NuSVC(\n",
    "#     kernel = 'rbf', \n",
    "#     nu = 0.25, \n",
    "#     tol = 1e-05\n",
    "# )\n",
    "\n",
    "# vectorizer = TfidfVectorizer()\n",
    "# pipe = Pipeline(steps = [('vectorizer',vectorizer),('clf',clf)])\n",
    "\n",
    "# parameter_grid = {\n",
    "#     \"vectorizer__use_idf\": (True, False),\n",
    "#     \"vectorizer__max_df\": (0.2, 0.4, 0.6, 0.8, 1.0),\n",
    "#     \"vectorizer__min_df\": (1, 3, 5, 10),\n",
    "#     \"vectorizer__ngram_range\": ((1, 1), (1, 2)),  # unigrams or bigrams\n",
    "#     \"vectorizer__norm\": (\"l1\", \"l2\"),\n",
    "#     \"vectorizer__tokenizer\": (None, tokenizer),\n",
    "# }\n",
    "# scoring = {\"AUC\": \"roc_auc\"}\n",
    "\n",
    "# gs = GridSearchCV(pipe,parameter_grid,scoring=scoring,refit='AUC', n_jobs=1)\n",
    "# gs.fit(X_train, y_train)\n",
    "\n",
    "# save_vectorizer_params()"
   ]
  },
  {
   "cell_type": "markdown",
   "id": "8c0f2466-6999-496b-8419-177874dcb8d1",
   "metadata": {},
   "source": [
    "### SGDClassifier"
   ]
  },
  {
   "cell_type": "code",
   "execution_count": null,
   "id": "17132844-23cc-4d9d-9ad6-02e3b9873518",
   "metadata": {},
   "outputs": [],
   "source": [
    "# %%time\n",
    "\n",
    "# clf = SGDClassifier(\n",
    "#     alpha = 1e-05, \n",
    "#     loss = 'log_loss', \n",
    "#     penalty = 'l2'\n",
    "# )\n",
    "\n",
    "# vectorizer = TfidfVectorizer()\n",
    "# pipe = Pipeline(steps = [('vectorizer',vectorizer),('clf',clf)])\n",
    "\n",
    "# parameter_grid = {\n",
    "#     \"vectorizer__use_idf\": (True, False),\n",
    "#     \"vectorizer__max_df\": (0.2, 0.4, 0.6, 0.8, 1.0),\n",
    "#     \"vectorizer__min_df\": (1, 3, 5, 10),\n",
    "#     \"vectorizer__ngram_range\": ((1, 1), (1, 2)),  # unigrams or bigrams\n",
    "#     \"vectorizer__norm\": (\"l1\", \"l2\"),\n",
    "#     \"vectorizer__tokenizer\": (None, tokenizer),\n",
    "# }\n",
    "# scoring = {\"AUC\": \"roc_auc\"}\n",
    "\n",
    "# gs = GridSearchCV(pipe,parameter_grid,scoring=scoring,refit='AUC', n_jobs=1)\n",
    "# gs.fit(X_train, y_train)\n",
    "\n",
    "# save_vectorizer_params()"
   ]
  },
  {
   "cell_type": "markdown",
   "id": "9a2c27fc-733c-4bd1-86cc-28d2e3d8e33a",
   "metadata": {},
   "source": [
    "### LogisticRegression"
   ]
  },
  {
   "cell_type": "code",
   "execution_count": null,
   "id": "7207d3da-df0a-4c16-8617-2a36095d289d",
   "metadata": {},
   "outputs": [],
   "source": [
    "# %%time\n",
    "\n",
    "# clf = LogisticRegression(\n",
    "#     C = 10,\n",
    "#     penalty = 'l2'\n",
    "# )\n",
    "\n",
    "# vectorizer = TfidfVectorizer()\n",
    "# pipe = Pipeline(steps = [('vectorizer',vectorizer),('clf',clf)])\n",
    "\n",
    "# parameter_grid = {\n",
    "#     \"vectorizer__use_idf\": (True, False),\n",
    "#     \"vectorizer__max_df\": (0.2, 0.4, 0.6, 0.8, 1.0),\n",
    "#     \"vectorizer__min_df\": (1, 3, 5, 10),\n",
    "#     \"vectorizer__ngram_range\": ((1, 1), (1, 2)),  # unigrams or bigrams\n",
    "#     \"vectorizer__norm\": (\"l1\", \"l2\"),\n",
    "#     \"vectorizer__tokenizer\": (None, tokenizer),\n",
    "# }\n",
    "# scoring = {\"AUC\": \"roc_auc\"}\n",
    "\n",
    "# gs = GridSearchCV(pipe,parameter_grid,scoring=scoring,refit='AUC', n_jobs=1)\n",
    "# gs.fit(X_train, y_train)\n",
    "\n",
    "# save_vectorizer_params()"
   ]
  },
  {
   "cell_type": "markdown",
   "id": "4fce4bb3-fd83-4749-b109-fff7684a7f09",
   "metadata": {},
   "source": [
    "### LinearSVC"
   ]
  },
  {
   "cell_type": "code",
   "execution_count": null,
   "id": "fb30a5eb-7058-4045-9acc-bc8f20336dda",
   "metadata": {},
   "outputs": [],
   "source": [
    "# %%time\n",
    "\n",
    "# clf = LogisticRegression(\n",
    "#     C = 0.1,\n",
    "#     loss = 'squared_hinge', \n",
    "#     tol = 0.01\n",
    "# )\n",
    "\n",
    "# vectorizer = TfidfVectorizer()\n",
    "# pipe = Pipeline(steps = [('vectorizer',vectorizer),('clf',clf)])\n",
    "\n",
    "# parameter_grid = {\n",
    "#     \"vectorizer__use_idf\": (True, False),\n",
    "#     \"vectorizer__max_df\": (0.2, 0.4, 0.6, 0.8, 1.0),\n",
    "#     \"vectorizer__min_df\": (1, 3, 5, 10),\n",
    "#     \"vectorizer__ngram_range\": ((1, 1), (1, 2)),  # unigrams or bigrams\n",
    "#     \"vectorizer__norm\": (\"l1\", \"l2\"),\n",
    "#     \"vectorizer__tokenizer\": (None, tokenizer),\n",
    "# }\n",
    "# scoring = {\"AUC\": \"roc_auc\"}\n",
    "\n",
    "# gs = GridSearchCV(pipe,parameter_grid,scoring=scoring,refit='AUC', n_jobs=1)\n",
    "# gs.fit(X_train, y_train)\n",
    "\n",
    "# save_vectorizer_params()"
   ]
  }
 ],
 "metadata": {
  "kernelspec": {
   "display_name": "Python 3 (ipykernel)",
   "language": "python",
   "name": "python3"
  },
  "language_info": {
   "codemirror_mode": {
    "name": "ipython",
    "version": 3
   },
   "file_extension": ".py",
   "mimetype": "text/x-python",
   "name": "python",
   "nbconvert_exporter": "python",
   "pygments_lexer": "ipython3",
   "version": "3.10.12"
  }
 },
 "nbformat": 4,
 "nbformat_minor": 5
}
