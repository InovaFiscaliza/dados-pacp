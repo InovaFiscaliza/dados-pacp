{
 "cells": [
  {
   "cell_type": "markdown",
   "id": "b47312c8-4a73-4aa3-b614-7b43580fa498",
   "metadata": {},
   "source": [
    "# Preparação do ambiente"
   ]
  },
  {
   "cell_type": "markdown",
   "id": "25fa99ec-c912-4433-9ec0-0da4b4f6635f",
   "metadata": {},
   "source": [
    "## Bibliotecas"
   ]
  },
  {
   "cell_type": "code",
   "execution_count": 1,
   "id": "52989da2-a5e5-4fad-93a3-36f9d9462161",
   "metadata": {},
   "outputs": [],
   "source": [
    "import numpy as np\n",
    "import os.path as osp\n",
    "import pandas as pd\n",
    "\n",
    "from joblib import load"
   ]
  },
  {
   "cell_type": "markdown",
   "id": "eeab38bd-bfd7-4c13-9344-f2ff45111801",
   "metadata": {},
   "source": [
    "## Constantes e funções auxiliares"
   ]
  },
  {
   "cell_type": "code",
   "execution_count": 2,
   "id": "ea62814d-fde8-4327-84a3-34f80b5cc317",
   "metadata": {},
   "outputs": [],
   "source": [
    "FILE_SUPERVISAO_MERCADO = '../datasets/supervisao_mercado/supervisao_mercado.xlsx'\n",
    "FILE_MODEL = '../pretrained_models/clf_marketplaces.joblibj'"
   ]
  },
  {
   "cell_type": "code",
   "execution_count": 7,
   "id": "10a40d6c-a376-4ddc-b526-b8c64507eaa8",
   "metadata": {},
   "outputs": [],
   "source": [
    "class MarketPlacesPredictor():\n",
    "\n",
    "    def __init__(self, file_model):\n",
    "        if osp.exists(file_model):\n",
    "            self.model = load(file_model)\n",
    "        else:\n",
    "            self.model = None\n",
    "            print(f'Model file \"{file_model}\" not found')\n",
    "\n",
    "    def predict(self, X):\n",
    "        if self.model is not None:\n",
    "            predicted_class = self.model.predict(X)\n",
    "            predicted_proba = self.model.predict_proba(X)[:,1]\n",
    "            return np.column_stack((predicted_class,predicted_proba))\n",
    "        else:\n",
    "            print('Model is not loaded')\n",
    "            return None\n"
   ]
  },
  {
   "cell_type": "markdown",
   "id": "ce5bde4a-70f0-4d17-bb9e-3a07636d3e9d",
   "metadata": {},
   "source": [
    "# Carga e prepação dos dados"
   ]
  },
  {
   "cell_type": "code",
   "execution_count": 4,
   "id": "3c000094-be35-46ee-8686-91e5cf56fc0e",
   "metadata": {},
   "outputs": [
    {
     "data": {
      "text/html": [
       "<div>\n",
       "<style scoped>\n",
       "    .dataframe tbody tr th:only-of-type {\n",
       "        vertical-align: middle;\n",
       "    }\n",
       "\n",
       "    .dataframe tbody tr th {\n",
       "        vertical-align: top;\n",
       "    }\n",
       "\n",
       "    .dataframe thead th {\n",
       "        text-align: right;\n",
       "    }\n",
       "</style>\n",
       "<table border=\"1\" class=\"dataframe\">\n",
       "  <thead>\n",
       "    <tr style=\"text-align: right;\">\n",
       "      <th></th>\n",
       "      <th>texto_busca</th>\n",
       "      <th>descricao</th>\n",
       "      <th>passivel_homologacao</th>\n",
       "    </tr>\n",
       "  </thead>\n",
       "  <tbody>\n",
       "    <tr>\n",
       "      <th>0</th>\n",
       "      <td>Smartphone</td>\n",
       "      <td>Positivo Twist 4 Pro S518 Dual SIM 64 GB preto...</td>\n",
       "      <td>1</td>\n",
       "    </tr>\n",
       "    <tr>\n",
       "      <th>1</th>\n",
       "      <td>Smartphone</td>\n",
       "      <td>Xiaomi Pocophone Poco X6 Pro 5G Dual SIM 512 G...</td>\n",
       "      <td>1</td>\n",
       "    </tr>\n",
       "    <tr>\n",
       "      <th>2</th>\n",
       "      <td>Smartphone</td>\n",
       "      <td>Smartphone Moto G22 Tela De 6,5 128 Gb 4 Ram P...</td>\n",
       "      <td>1</td>\n",
       "    </tr>\n",
       "    <tr>\n",
       "      <th>3</th>\n",
       "      <td>Smartphone</td>\n",
       "      <td>Smartphone Infinix Smart 6 64 Gb Dual Chip 2gb...</td>\n",
       "      <td>1</td>\n",
       "    </tr>\n",
       "    <tr>\n",
       "      <th>4</th>\n",
       "      <td>Smartphone</td>\n",
       "      <td>Smartphone Samsung Galaxy A21s Tela 6.5 64gb 4...</td>\n",
       "      <td>1</td>\n",
       "    </tr>\n",
       "    <tr>\n",
       "      <th>...</th>\n",
       "      <td>...</td>\n",
       "      <td>...</td>\n",
       "      <td>...</td>\n",
       "    </tr>\n",
       "    <tr>\n",
       "      <th>170</th>\n",
       "      <td>Bluetooth Wifi</td>\n",
       "      <td>fone bluetooth sem fio beatfade preto</td>\n",
       "      <td>1</td>\n",
       "    </tr>\n",
       "    <tr>\n",
       "      <th>171</th>\n",
       "      <td>Bluetooth Wifi</td>\n",
       "      <td>Fone Bluetooth Sem Fio Wireless Compatível Com...</td>\n",
       "      <td>1</td>\n",
       "    </tr>\n",
       "    <tr>\n",
       "      <th>172</th>\n",
       "      <td>Bluetooth Wifi</td>\n",
       "      <td>Fone Bluetooth Sem Fio Preto Caixinha Para Sam...</td>\n",
       "      <td>1</td>\n",
       "    </tr>\n",
       "    <tr>\n",
       "      <th>173</th>\n",
       "      <td>Bluetooth Wifi</td>\n",
       "      <td>Fone De Ouvido Bluetooth Sem Fio Tipo Ambie De...</td>\n",
       "      <td>1</td>\n",
       "    </tr>\n",
       "    <tr>\n",
       "      <th>174</th>\n",
       "      <td>Bluetooth Wifi</td>\n",
       "      <td>Fone Bluetooth Sem Fio Preto Para Moto E20 - Mdm</td>\n",
       "      <td>1</td>\n",
       "    </tr>\n",
       "  </tbody>\n",
       "</table>\n",
       "<p>846 rows × 3 columns</p>\n",
       "</div>"
      ],
      "text/plain": [
       "        texto_busca                                          descricao  \\\n",
       "0        Smartphone  Positivo Twist 4 Pro S518 Dual SIM 64 GB preto...   \n",
       "1        Smartphone  Xiaomi Pocophone Poco X6 Pro 5G Dual SIM 512 G...   \n",
       "2        Smartphone  Smartphone Moto G22 Tela De 6,5 128 Gb 4 Ram P...   \n",
       "3        Smartphone  Smartphone Infinix Smart 6 64 Gb Dual Chip 2gb...   \n",
       "4        Smartphone  Smartphone Samsung Galaxy A21s Tela 6.5 64gb 4...   \n",
       "..              ...                                                ...   \n",
       "170  Bluetooth Wifi              fone bluetooth sem fio beatfade preto   \n",
       "171  Bluetooth Wifi  Fone Bluetooth Sem Fio Wireless Compatível Com...   \n",
       "172  Bluetooth Wifi  Fone Bluetooth Sem Fio Preto Caixinha Para Sam...   \n",
       "173  Bluetooth Wifi  Fone De Ouvido Bluetooth Sem Fio Tipo Ambie De...   \n",
       "174  Bluetooth Wifi   Fone Bluetooth Sem Fio Preto Para Moto E20 - Mdm   \n",
       "\n",
       "     passivel_homologacao  \n",
       "0                       1  \n",
       "1                       1  \n",
       "2                       1  \n",
       "3                       1  \n",
       "4                       1  \n",
       "..                    ...  \n",
       "170                     1  \n",
       "171                     1  \n",
       "172                     1  \n",
       "173                     1  \n",
       "174                     1  \n",
       "\n",
       "[846 rows x 3 columns]"
      ]
     },
     "execution_count": 4,
     "metadata": {},
     "output_type": "execute_result"
    }
   ],
   "source": [
    "dict_df_mercado = pd.read_excel(\n",
    "    FILE_SUPERVISAO_MERCADO,\n",
    "    sheet_name=None,\n",
    "    usecols=[2,8,10],\n",
    "    names=['texto_busca', 'descricao', 'passivel_homologacao'],\n",
    "    true_values=['Sim', 'sim'],\n",
    "    false_values=['Não','não'],\n",
    "    na_values=['-'])\n",
    "\n",
    "df_mercado = pd.concat(dict_df_mercado.values())\n",
    "df_mercado = df_mercado.dropna()\n",
    "df_mercado['passivel_homologacao'] = df_mercado['passivel_homologacao'].astype(int)\n",
    "df_mercado"
   ]
  },
  {
   "cell_type": "markdown",
   "id": "ad603cb3-32e3-40b5-80a1-42acf5b581d8",
   "metadata": {},
   "source": [
    "# Análise"
   ]
  },
  {
   "cell_type": "code",
   "execution_count": 9,
   "id": "dab2e2ab-92fe-46e8-95e8-66fb9b3b31ec",
   "metadata": {},
   "outputs": [
    {
     "name": "stdout",
     "output_type": "stream",
     "text": [
      "Model file \"../pretrained_models/clf_marketplaces.joblibj\" not found\n"
     ]
    }
   ],
   "source": [
    "predictor = MarketPlacesPredictor(FILE_MODEL)\n",
    "predictor.model"
   ]
  },
  {
   "cell_type": "code",
   "execution_count": 11,
   "id": "c5fb648b-8ce6-4f08-befd-2503c915c1f3",
   "metadata": {},
   "outputs": [
    {
     "name": "stdout",
     "output_type": "stream",
     "text": [
      "Model is not loaded\n"
     ]
    }
   ],
   "source": [
    "X = df_mercado.descricao.values\n",
    "y = df_mercado.passivel_homologacao.values\n",
    "\n",
    "prediction = predictor.predict(X)\n",
    "\n",
    "if prediction is not None:\n",
    "    predicted_class = prediction[:,0]\n",
    "    predicted_proba = prediction[:,1]\n",
    "    \n",
    "    df_mercado['classe_predita'] = predicted_class.astype(int)\n",
    "    df_mercado['probabilidade'] = predicted_proba\n",
    "    \n",
    "    print('Accuracy of model on validation set: {:.3f}'\n",
    "         .format(predictor.model.score(X, y)))\n",
    "    \n",
    "    df_mercado.pivot_table(index='passivel_homologacao',columns='classe_predita',values='descricao',aggfunc='count')"
   ]
  },
  {
   "cell_type": "code",
   "execution_count": null,
   "id": "cce12511-135e-4b3b-8cbf-ab8832d0b43a",
   "metadata": {},
   "outputs": [],
   "source": [
    "predictor.predict(['Repetidor De Sinal Internet 600mbps Branco 110v/220v Wifi'])"
   ]
  }
 ],
 "metadata": {
  "kernelspec": {
   "display_name": "Python 3 (ipykernel)",
   "language": "python",
   "name": "python3"
  },
  "language_info": {
   "codemirror_mode": {
    "name": "ipython",
    "version": 3
   },
   "file_extension": ".py",
   "mimetype": "text/x-python",
   "name": "python",
   "nbconvert_exporter": "python",
   "pygments_lexer": "ipython3",
   "version": "3.10.12"
  }
 },
 "nbformat": 4,
 "nbformat_minor": 5
}
