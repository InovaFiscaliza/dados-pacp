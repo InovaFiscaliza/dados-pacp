{
 "cells": [
  {
   "cell_type": "markdown",
   "id": "b47312c8-4a73-4aa3-b614-7b43580fa498",
   "metadata": {},
   "source": [
    "# Preparação do ambiente"
   ]
  },
  {
   "cell_type": "markdown",
   "id": "25fa99ec-c912-4433-9ec0-0da4b4f6635f",
   "metadata": {},
   "source": [
    "## Bibliotecas"
   ]
  },
  {
   "cell_type": "code",
   "execution_count": 1,
   "id": "52989da2-a5e5-4fad-93a3-36f9d9462161",
   "metadata": {},
   "outputs": [],
   "source": [
    "import numpy as np\n",
    "import os.path as osp\n",
    "import pandas as pd\n",
    "\n",
    "from joblib import load"
   ]
  },
  {
   "cell_type": "markdown",
   "id": "eeab38bd-bfd7-4c13-9344-f2ff45111801",
   "metadata": {},
   "source": [
    "## Constantes e funções auxiliares"
   ]
  },
  {
   "cell_type": "code",
   "execution_count": 2,
   "id": "ea62814d-fde8-4327-84a3-34f80b5cc317",
   "metadata": {},
   "outputs": [],
   "source": [
    "FILE_SUPERVISAO_MERCADO = '../datasets/supervisao_mercado/supervisao_mercado.xlsx'\n",
    "FILE_MODEL = '../models/clf_marketplaces.joblib'"
   ]
  },
  {
   "cell_type": "code",
   "execution_count": 3,
   "id": "10a40d6c-a376-4ddc-b526-b8c64507eaa8",
   "metadata": {},
   "outputs": [],
   "source": [
    "class MarketPlacesPredictor():\n",
    "\n",
    "    def __init__(self, file_model):\n",
    "        if osp.exists(file_model):\n",
    "            self.model = load(file_model)\n",
    "        else:\n",
    "            self.model = None\n",
    "            print(f'Model {file_model} file not found')\n",
    "\n",
    "    def predict(self, X):\n",
    "        predicted_class = self.model.predict(X)\n",
    "        predicted_proba = self.model.predict_proba(X)[:,1]\n",
    "        \n",
    "        return np.column_stack((predicted_class,predicted_proba))\n"
   ]
  },
  {
   "cell_type": "markdown",
   "id": "ce5bde4a-70f0-4d17-bb9e-3a07636d3e9d",
   "metadata": {},
   "source": [
    "# Carga e prepação dos dados"
   ]
  },
  {
   "cell_type": "code",
   "execution_count": 4,
   "id": "3c000094-be35-46ee-8686-91e5cf56fc0e",
   "metadata": {},
   "outputs": [
    {
     "data": {
      "text/html": [
       "<div>\n",
       "<style scoped>\n",
       "    .dataframe tbody tr th:only-of-type {\n",
       "        vertical-align: middle;\n",
       "    }\n",
       "\n",
       "    .dataframe tbody tr th {\n",
       "        vertical-align: top;\n",
       "    }\n",
       "\n",
       "    .dataframe thead th {\n",
       "        text-align: right;\n",
       "    }\n",
       "</style>\n",
       "<table border=\"1\" class=\"dataframe\">\n",
       "  <thead>\n",
       "    <tr style=\"text-align: right;\">\n",
       "      <th></th>\n",
       "      <th>texto_busca</th>\n",
       "      <th>descricao</th>\n",
       "      <th>passivel_homologacao</th>\n",
       "    </tr>\n",
       "  </thead>\n",
       "  <tbody>\n",
       "    <tr>\n",
       "      <th>0</th>\n",
       "      <td>Smartphone</td>\n",
       "      <td>Positivo Twist 4 Pro S518 Dual SIM 64 GB preto...</td>\n",
       "      <td>1</td>\n",
       "    </tr>\n",
       "    <tr>\n",
       "      <th>1</th>\n",
       "      <td>Smartphone</td>\n",
       "      <td>Xiaomi Pocophone Poco X6 Pro 5G Dual SIM 512 G...</td>\n",
       "      <td>1</td>\n",
       "    </tr>\n",
       "    <tr>\n",
       "      <th>2</th>\n",
       "      <td>Smartphone</td>\n",
       "      <td>Smartphone Moto G22 Tela De 6,5 128 Gb 4 Ram P...</td>\n",
       "      <td>1</td>\n",
       "    </tr>\n",
       "    <tr>\n",
       "      <th>3</th>\n",
       "      <td>Smartphone</td>\n",
       "      <td>Smartphone Infinix Smart 6 64 Gb Dual Chip 2gb...</td>\n",
       "      <td>1</td>\n",
       "    </tr>\n",
       "    <tr>\n",
       "      <th>4</th>\n",
       "      <td>Smartphone</td>\n",
       "      <td>Smartphone Samsung Galaxy A21s Tela 6.5 64gb 4...</td>\n",
       "      <td>1</td>\n",
       "    </tr>\n",
       "    <tr>\n",
       "      <th>...</th>\n",
       "      <td>...</td>\n",
       "      <td>...</td>\n",
       "      <td>...</td>\n",
       "    </tr>\n",
       "    <tr>\n",
       "      <th>170</th>\n",
       "      <td>Bluetooth Wifi</td>\n",
       "      <td>fone bluetooth sem fio beatfade preto</td>\n",
       "      <td>1</td>\n",
       "    </tr>\n",
       "    <tr>\n",
       "      <th>171</th>\n",
       "      <td>Bluetooth Wifi</td>\n",
       "      <td>Fone Bluetooth Sem Fio Wireless Compatível Com...</td>\n",
       "      <td>1</td>\n",
       "    </tr>\n",
       "    <tr>\n",
       "      <th>172</th>\n",
       "      <td>Bluetooth Wifi</td>\n",
       "      <td>Fone Bluetooth Sem Fio Preto Caixinha Para Sam...</td>\n",
       "      <td>1</td>\n",
       "    </tr>\n",
       "    <tr>\n",
       "      <th>173</th>\n",
       "      <td>Bluetooth Wifi</td>\n",
       "      <td>Fone De Ouvido Bluetooth Sem Fio Tipo Ambie De...</td>\n",
       "      <td>1</td>\n",
       "    </tr>\n",
       "    <tr>\n",
       "      <th>174</th>\n",
       "      <td>Bluetooth Wifi</td>\n",
       "      <td>Fone Bluetooth Sem Fio Preto Para Moto E20 - Mdm</td>\n",
       "      <td>1</td>\n",
       "    </tr>\n",
       "  </tbody>\n",
       "</table>\n",
       "<p>846 rows × 3 columns</p>\n",
       "</div>"
      ],
      "text/plain": [
       "        texto_busca                                          descricao  \\\n",
       "0        Smartphone  Positivo Twist 4 Pro S518 Dual SIM 64 GB preto...   \n",
       "1        Smartphone  Xiaomi Pocophone Poco X6 Pro 5G Dual SIM 512 G...   \n",
       "2        Smartphone  Smartphone Moto G22 Tela De 6,5 128 Gb 4 Ram P...   \n",
       "3        Smartphone  Smartphone Infinix Smart 6 64 Gb Dual Chip 2gb...   \n",
       "4        Smartphone  Smartphone Samsung Galaxy A21s Tela 6.5 64gb 4...   \n",
       "..              ...                                                ...   \n",
       "170  Bluetooth Wifi              fone bluetooth sem fio beatfade preto   \n",
       "171  Bluetooth Wifi  Fone Bluetooth Sem Fio Wireless Compatível Com...   \n",
       "172  Bluetooth Wifi  Fone Bluetooth Sem Fio Preto Caixinha Para Sam...   \n",
       "173  Bluetooth Wifi  Fone De Ouvido Bluetooth Sem Fio Tipo Ambie De...   \n",
       "174  Bluetooth Wifi   Fone Bluetooth Sem Fio Preto Para Moto E20 - Mdm   \n",
       "\n",
       "     passivel_homologacao  \n",
       "0                       1  \n",
       "1                       1  \n",
       "2                       1  \n",
       "3                       1  \n",
       "4                       1  \n",
       "..                    ...  \n",
       "170                     1  \n",
       "171                     1  \n",
       "172                     1  \n",
       "173                     1  \n",
       "174                     1  \n",
       "\n",
       "[846 rows x 3 columns]"
      ]
     },
     "execution_count": 4,
     "metadata": {},
     "output_type": "execute_result"
    }
   ],
   "source": [
    "dict_df_mercado = pd.read_excel(\n",
    "    FILE_SUPERVISAO_MERCADO,\n",
    "    sheet_name=None,\n",
    "    usecols=[2,8,10],\n",
    "    names=['texto_busca', 'descricao', 'passivel_homologacao'],\n",
    "    true_values=['Sim', 'sim'],\n",
    "    false_values=['Não','não'],\n",
    "    na_values=['-'])\n",
    "\n",
    "df_mercado = pd.concat(dict_df_mercado.values())\n",
    "df_mercado = df_mercado.dropna()\n",
    "df_mercado['passivel_homologacao'] = df_mercado['passivel_homologacao'].astype(int)\n",
    "df_mercado"
   ]
  },
  {
   "cell_type": "markdown",
   "id": "ad603cb3-32e3-40b5-80a1-42acf5b581d8",
   "metadata": {},
   "source": [
    "# Análise"
   ]
  },
  {
   "cell_type": "code",
   "execution_count": 5,
   "id": "dab2e2ab-92fe-46e8-95e8-66fb9b3b31ec",
   "metadata": {},
   "outputs": [
    {
     "data": {
      "text/html": [
       "<style>#sk-container-id-1 {color: black;}#sk-container-id-1 pre{padding: 0;}#sk-container-id-1 div.sk-toggleable {background-color: white;}#sk-container-id-1 label.sk-toggleable__label {cursor: pointer;display: block;width: 100%;margin-bottom: 0;padding: 0.3em;box-sizing: border-box;text-align: center;}#sk-container-id-1 label.sk-toggleable__label-arrow:before {content: \"▸\";float: left;margin-right: 0.25em;color: #696969;}#sk-container-id-1 label.sk-toggleable__label-arrow:hover:before {color: black;}#sk-container-id-1 div.sk-estimator:hover label.sk-toggleable__label-arrow:before {color: black;}#sk-container-id-1 div.sk-toggleable__content {max-height: 0;max-width: 0;overflow: hidden;text-align: left;background-color: #f0f8ff;}#sk-container-id-1 div.sk-toggleable__content pre {margin: 0.2em;color: black;border-radius: 0.25em;background-color: #f0f8ff;}#sk-container-id-1 input.sk-toggleable__control:checked~div.sk-toggleable__content {max-height: 200px;max-width: 100%;overflow: auto;}#sk-container-id-1 input.sk-toggleable__control:checked~label.sk-toggleable__label-arrow:before {content: \"▾\";}#sk-container-id-1 div.sk-estimator input.sk-toggleable__control:checked~label.sk-toggleable__label {background-color: #d4ebff;}#sk-container-id-1 div.sk-label input.sk-toggleable__control:checked~label.sk-toggleable__label {background-color: #d4ebff;}#sk-container-id-1 input.sk-hidden--visually {border: 0;clip: rect(1px 1px 1px 1px);clip: rect(1px, 1px, 1px, 1px);height: 1px;margin: -1px;overflow: hidden;padding: 0;position: absolute;width: 1px;}#sk-container-id-1 div.sk-estimator {font-family: monospace;background-color: #f0f8ff;border: 1px dotted black;border-radius: 0.25em;box-sizing: border-box;margin-bottom: 0.5em;}#sk-container-id-1 div.sk-estimator:hover {background-color: #d4ebff;}#sk-container-id-1 div.sk-parallel-item::after {content: \"\";width: 100%;border-bottom: 1px solid gray;flex-grow: 1;}#sk-container-id-1 div.sk-label:hover label.sk-toggleable__label {background-color: #d4ebff;}#sk-container-id-1 div.sk-serial::before {content: \"\";position: absolute;border-left: 1px solid gray;box-sizing: border-box;top: 0;bottom: 0;left: 50%;z-index: 0;}#sk-container-id-1 div.sk-serial {display: flex;flex-direction: column;align-items: center;background-color: white;padding-right: 0.2em;padding-left: 0.2em;position: relative;}#sk-container-id-1 div.sk-item {position: relative;z-index: 1;}#sk-container-id-1 div.sk-parallel {display: flex;align-items: stretch;justify-content: center;background-color: white;position: relative;}#sk-container-id-1 div.sk-item::before, #sk-container-id-1 div.sk-parallel-item::before {content: \"\";position: absolute;border-left: 1px solid gray;box-sizing: border-box;top: 0;bottom: 0;left: 50%;z-index: -1;}#sk-container-id-1 div.sk-parallel-item {display: flex;flex-direction: column;z-index: 1;position: relative;background-color: white;}#sk-container-id-1 div.sk-parallel-item:first-child::after {align-self: flex-end;width: 50%;}#sk-container-id-1 div.sk-parallel-item:last-child::after {align-self: flex-start;width: 50%;}#sk-container-id-1 div.sk-parallel-item:only-child::after {width: 0;}#sk-container-id-1 div.sk-dashed-wrapped {border: 1px dashed gray;margin: 0 0.4em 0.5em 0.4em;box-sizing: border-box;padding-bottom: 0.4em;background-color: white;}#sk-container-id-1 div.sk-label label {font-family: monospace;font-weight: bold;display: inline-block;line-height: 1.2em;}#sk-container-id-1 div.sk-label-container {text-align: center;}#sk-container-id-1 div.sk-container {/* jupyter's `normalize.less` sets `[hidden] { display: none; }` but bootstrap.min.css set `[hidden] { display: none !important; }` so we also need the `!important` here to be able to override the default hidden behavior on the sphinx rendered scikit-learn.org. See: https://github.com/scikit-learn/scikit-learn/issues/21755 */display: inline-block !important;position: relative;}#sk-container-id-1 div.sk-text-repr-fallback {display: none;}</style><div id=\"sk-container-id-1\" class=\"sk-top-container\"><div class=\"sk-text-repr-fallback\"><pre>Pipeline(steps=[(&#x27;vectorizer&#x27;,\n",
       "                 CountVectorizer(ngram_range=(1, 2),\n",
       "                                 stop_words=[&#x27;a&#x27;, &#x27;à&#x27;, &#x27;ao&#x27;, &#x27;aos&#x27;, &#x27;aquela&#x27;,\n",
       "                                             &#x27;aquelas&#x27;, &#x27;aquele&#x27;, &#x27;aqueles&#x27;,\n",
       "                                             &#x27;aquilo&#x27;, &#x27;as&#x27;, &#x27;às&#x27;, &#x27;até&#x27;, &#x27;com&#x27;,\n",
       "                                             &#x27;como&#x27;, &#x27;da&#x27;, &#x27;das&#x27;, &#x27;de&#x27;, &#x27;dela&#x27;,\n",
       "                                             &#x27;delas&#x27;, &#x27;dele&#x27;, &#x27;deles&#x27;, &#x27;depois&#x27;,\n",
       "                                             &#x27;do&#x27;, &#x27;dos&#x27;, &#x27;e&#x27;, &#x27;é&#x27;, &#x27;ela&#x27;,\n",
       "                                             &#x27;elas&#x27;, &#x27;ele&#x27;, &#x27;eles&#x27;, ...])),\n",
       "                (&#x27;transformer&#x27;, TfidfTransformer()),\n",
       "                (&#x27;clf&#x27;, SGDClassifier(alpha=1e-05, loss=&#x27;log_loss&#x27;))])</pre><b>In a Jupyter environment, please rerun this cell to show the HTML representation or trust the notebook. <br />On GitHub, the HTML representation is unable to render, please try loading this page with nbviewer.org.</b></div><div class=\"sk-container\" hidden><div class=\"sk-item sk-dashed-wrapped\"><div class=\"sk-label-container\"><div class=\"sk-label sk-toggleable\"><input class=\"sk-toggleable__control sk-hidden--visually\" id=\"sk-estimator-id-1\" type=\"checkbox\" ><label for=\"sk-estimator-id-1\" class=\"sk-toggleable__label sk-toggleable__label-arrow\">Pipeline</label><div class=\"sk-toggleable__content\"><pre>Pipeline(steps=[(&#x27;vectorizer&#x27;,\n",
       "                 CountVectorizer(ngram_range=(1, 2),\n",
       "                                 stop_words=[&#x27;a&#x27;, &#x27;à&#x27;, &#x27;ao&#x27;, &#x27;aos&#x27;, &#x27;aquela&#x27;,\n",
       "                                             &#x27;aquelas&#x27;, &#x27;aquele&#x27;, &#x27;aqueles&#x27;,\n",
       "                                             &#x27;aquilo&#x27;, &#x27;as&#x27;, &#x27;às&#x27;, &#x27;até&#x27;, &#x27;com&#x27;,\n",
       "                                             &#x27;como&#x27;, &#x27;da&#x27;, &#x27;das&#x27;, &#x27;de&#x27;, &#x27;dela&#x27;,\n",
       "                                             &#x27;delas&#x27;, &#x27;dele&#x27;, &#x27;deles&#x27;, &#x27;depois&#x27;,\n",
       "                                             &#x27;do&#x27;, &#x27;dos&#x27;, &#x27;e&#x27;, &#x27;é&#x27;, &#x27;ela&#x27;,\n",
       "                                             &#x27;elas&#x27;, &#x27;ele&#x27;, &#x27;eles&#x27;, ...])),\n",
       "                (&#x27;transformer&#x27;, TfidfTransformer()),\n",
       "                (&#x27;clf&#x27;, SGDClassifier(alpha=1e-05, loss=&#x27;log_loss&#x27;))])</pre></div></div></div><div class=\"sk-serial\"><div class=\"sk-item\"><div class=\"sk-estimator sk-toggleable\"><input class=\"sk-toggleable__control sk-hidden--visually\" id=\"sk-estimator-id-2\" type=\"checkbox\" ><label for=\"sk-estimator-id-2\" class=\"sk-toggleable__label sk-toggleable__label-arrow\">CountVectorizer</label><div class=\"sk-toggleable__content\"><pre>CountVectorizer(ngram_range=(1, 2),\n",
       "                stop_words=[&#x27;a&#x27;, &#x27;à&#x27;, &#x27;ao&#x27;, &#x27;aos&#x27;, &#x27;aquela&#x27;, &#x27;aquelas&#x27;,\n",
       "                            &#x27;aquele&#x27;, &#x27;aqueles&#x27;, &#x27;aquilo&#x27;, &#x27;as&#x27;, &#x27;às&#x27;, &#x27;até&#x27;,\n",
       "                            &#x27;com&#x27;, &#x27;como&#x27;, &#x27;da&#x27;, &#x27;das&#x27;, &#x27;de&#x27;, &#x27;dela&#x27;, &#x27;delas&#x27;,\n",
       "                            &#x27;dele&#x27;, &#x27;deles&#x27;, &#x27;depois&#x27;, &#x27;do&#x27;, &#x27;dos&#x27;, &#x27;e&#x27;, &#x27;é&#x27;,\n",
       "                            &#x27;ela&#x27;, &#x27;elas&#x27;, &#x27;ele&#x27;, &#x27;eles&#x27;, ...])</pre></div></div></div><div class=\"sk-item\"><div class=\"sk-estimator sk-toggleable\"><input class=\"sk-toggleable__control sk-hidden--visually\" id=\"sk-estimator-id-3\" type=\"checkbox\" ><label for=\"sk-estimator-id-3\" class=\"sk-toggleable__label sk-toggleable__label-arrow\">TfidfTransformer</label><div class=\"sk-toggleable__content\"><pre>TfidfTransformer()</pre></div></div></div><div class=\"sk-item\"><div class=\"sk-estimator sk-toggleable\"><input class=\"sk-toggleable__control sk-hidden--visually\" id=\"sk-estimator-id-4\" type=\"checkbox\" ><label for=\"sk-estimator-id-4\" class=\"sk-toggleable__label sk-toggleable__label-arrow\">SGDClassifier</label><div class=\"sk-toggleable__content\"><pre>SGDClassifier(alpha=1e-05, loss=&#x27;log_loss&#x27;)</pre></div></div></div></div></div></div></div>"
      ],
      "text/plain": [
       "Pipeline(steps=[('vectorizer',\n",
       "                 CountVectorizer(ngram_range=(1, 2),\n",
       "                                 stop_words=['a', 'à', 'ao', 'aos', 'aquela',\n",
       "                                             'aquelas', 'aquele', 'aqueles',\n",
       "                                             'aquilo', 'as', 'às', 'até', 'com',\n",
       "                                             'como', 'da', 'das', 'de', 'dela',\n",
       "                                             'delas', 'dele', 'deles', 'depois',\n",
       "                                             'do', 'dos', 'e', 'é', 'ela',\n",
       "                                             'elas', 'ele', 'eles', ...])),\n",
       "                ('transformer', TfidfTransformer()),\n",
       "                ('clf', SGDClassifier(alpha=1e-05, loss='log_loss'))])"
      ]
     },
     "execution_count": 5,
     "metadata": {},
     "output_type": "execute_result"
    }
   ],
   "source": [
    "predictor = MarketPlacesPredictor(FILE_MODEL)\n",
    "predictor.model"
   ]
  },
  {
   "cell_type": "code",
   "execution_count": 7,
   "id": "c5fb648b-8ce6-4f08-befd-2503c915c1f3",
   "metadata": {},
   "outputs": [
    {
     "name": "stdout",
     "output_type": "stream",
     "text": [
      "Accuracy of model on validation set: 0.903\n"
     ]
    },
    {
     "data": {
      "text/html": [
       "<div>\n",
       "<style scoped>\n",
       "    .dataframe tbody tr th:only-of-type {\n",
       "        vertical-align: middle;\n",
       "    }\n",
       "\n",
       "    .dataframe tbody tr th {\n",
       "        vertical-align: top;\n",
       "    }\n",
       "\n",
       "    .dataframe thead th {\n",
       "        text-align: right;\n",
       "    }\n",
       "</style>\n",
       "<table border=\"1\" class=\"dataframe\">\n",
       "  <thead>\n",
       "    <tr style=\"text-align: right;\">\n",
       "      <th>classe_predita</th>\n",
       "      <th>0</th>\n",
       "      <th>1</th>\n",
       "    </tr>\n",
       "    <tr>\n",
       "      <th>passivel_homologacao</th>\n",
       "      <th></th>\n",
       "      <th></th>\n",
       "    </tr>\n",
       "  </thead>\n",
       "  <tbody>\n",
       "    <tr>\n",
       "      <th>0</th>\n",
       "      <td>93</td>\n",
       "      <td>70</td>\n",
       "    </tr>\n",
       "    <tr>\n",
       "      <th>1</th>\n",
       "      <td>12</td>\n",
       "      <td>671</td>\n",
       "    </tr>\n",
       "  </tbody>\n",
       "</table>\n",
       "</div>"
      ],
      "text/plain": [
       "classe_predita         0    1\n",
       "passivel_homologacao         \n",
       "0                     93   70\n",
       "1                     12  671"
      ]
     },
     "execution_count": 7,
     "metadata": {},
     "output_type": "execute_result"
    }
   ],
   "source": [
    "X = df_mercado.descricao.values\n",
    "y = df_mercado.passivel_homologacao.values\n",
    "\n",
    "prediction = predictor.predict(X)\n",
    "\n",
    "predicted_class = prediction[:,0]\n",
    "predicted_proba = prediction[:,1]\n",
    "\n",
    "df_mercado['classe_predita'] = predicted_class.astype(int)\n",
    "df_mercado['probabilidade'] = predicted_proba\n",
    "\n",
    "print('Accuracy of model on validation set: {:.3f}'\n",
    "     .format(predictor.model.score(X, y)))\n",
    "\n",
    "df_mercado.pivot_table(index='passivel_homologacao',columns='classe_predita',values='descricao',aggfunc='count')"
   ]
  }
 ],
 "metadata": {
  "kernelspec": {
   "display_name": "Python 3 (ipykernel)",
   "language": "python",
   "name": "python3"
  },
  "language_info": {
   "codemirror_mode": {
    "name": "ipython",
    "version": 3
   },
   "file_extension": ".py",
   "mimetype": "text/x-python",
   "name": "python",
   "nbconvert_exporter": "python",
   "pygments_lexer": "ipython3",
   "version": "3.10.12"
  }
 },
 "nbformat": 4,
 "nbformat_minor": 5
}
