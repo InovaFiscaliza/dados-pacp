{
 "cells": [
  {
   "cell_type": "markdown",
   "id": "b47312c8-4a73-4aa3-b614-7b43580fa498",
   "metadata": {},
   "source": [
    "# Preparação do ambiente"
   ]
  },
  {
   "cell_type": "markdown",
   "id": "25fa99ec-c912-4433-9ec0-0da4b4f6635f",
   "metadata": {},
   "source": [
    "## Bibliotecas"
   ]
  },
  {
   "cell_type": "code",
   "execution_count": null,
   "id": "52989da2-a5e5-4fad-93a3-36f9d9462161",
   "metadata": {},
   "outputs": [],
   "source": []
  },
  {
   "cell_type": "markdown",
   "id": "eeab38bd-bfd7-4c13-9344-f2ff45111801",
   "metadata": {},
   "source": [
    "## Constantes e funções auxiliares"
   ]
  },
  {
   "cell_type": "code",
   "execution_count": null,
   "id": "ea62814d-fde8-4327-84a3-34f80b5cc317",
   "metadata": {},
   "outputs": [],
   "source": []
  },
  {
   "cell_type": "markdown",
   "id": "ce5bde4a-70f0-4d17-bb9e-3a07636d3e9d",
   "metadata": {},
   "source": [
    "# Carga e prepação dos dados"
   ]
  },
  {
   "cell_type": "code",
   "execution_count": null,
   "id": "3c000094-be35-46ee-8686-91e5cf56fc0e",
   "metadata": {},
   "outputs": [],
   "source": []
  },
  {
   "cell_type": "markdown",
   "id": "ad603cb3-32e3-40b5-80a1-42acf5b581d8",
   "metadata": {},
   "source": [
    "# Análise"
   ]
  }
 ],
 "metadata": {
  "kernelspec": {
   "display_name": "Python 3 (ipykernel)",
   "language": "python",
   "name": "python3"
  },
  "language_info": {
   "codemirror_mode": {
    "name": "ipython",
    "version": 3
   },
   "file_extension": ".py",
   "mimetype": "text/x-python",
   "name": "python",
   "nbconvert_exporter": "python",
   "pygments_lexer": "ipython3",
   "version": "3.10.12"
  }
 },
 "nbformat": 4,
 "nbformat_minor": 5
}
