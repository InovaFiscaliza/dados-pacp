{
 "cells": [
  {
   "cell_type": "markdown",
   "id": "b47312c8-4a73-4aa3-b614-7b43580fa498",
   "metadata": {},
   "source": [
    "# Preparação do ambiente"
   ]
  },
  {
   "cell_type": "markdown",
   "id": "25fa99ec-c912-4433-9ec0-0da4b4f6635f",
   "metadata": {},
   "source": [
    "## Bibliotecas"
   ]
  },
  {
   "cell_type": "code",
   "execution_count": 1,
   "id": "52989da2-a5e5-4fad-93a3-36f9d9462161",
   "metadata": {},
   "outputs": [],
   "source": [
    "import json\n",
    "import matplotlib.pyplot as plt\n",
    "import numpy as np\n",
    "import pandas as pd\n",
    "\n",
    "from datetime import datetime\n",
    "from joblib import load\n",
    "\n",
    "from sklearn.feature_extraction.text import TfidfVectorizer\n",
    "from sklearn.model_selection import GridSearchCV\n",
    "from sklearn.model_selection import train_test_split\n",
    "from sklearn.metrics import roc_auc_score\n",
    "from sklearn.pipeline import Pipeline\n",
    "\n",
    "from sklearn.dummy import DummyClassifier\n",
    "\n",
    "from sklearn.naive_bayes import BernoulliNB\n",
    "from sklearn.naive_bayes import ComplementNB\n",
    "from sklearn.naive_bayes import MultinomialNB\n",
    "\n",
    "from sklearn.neighbors import KNeighborsClassifier\n",
    "\n",
    "from sklearn.linear_model import SGDClassifier\n",
    "from sklearn.linear_model import LogisticRegression\n",
    "from sklearn.linear_model import RidgeClassifier\n",
    "\n",
    "from sklearn.svm import LinearSVC\n",
    "from sklearn.svm import NuSVC\n",
    "\n",
    "from sklearn.tree import DecisionTreeClassifier\n",
    "from sklearn.tree import ExtraTreeClassifier\n",
    "\n",
    "from sklearn.ensemble import RandomForestClassifier\n",
    "from sklearn.ensemble import AdaBoostClassifier"
   ]
  },
  {
   "cell_type": "code",
   "execution_count": 2,
   "id": "1b1d245c-a881-496a-93b6-b69967fcc60a",
   "metadata": {},
   "outputs": [],
   "source": [
    "import warnings\n",
    "warnings.filterwarnings(\"ignore\") "
   ]
  },
  {
   "cell_type": "markdown",
   "id": "eeab38bd-bfd7-4c13-9344-f2ff45111801",
   "metadata": {},
   "source": [
    "## Constantes e funções auxiliares"
   ]
  },
  {
   "cell_type": "code",
   "execution_count": 3,
   "id": "027b858a-6740-4bb1-8d01-bb0d6d0da6df",
   "metadata": {},
   "outputs": [],
   "source": [
    "FILE_MARKETPLACES = '../datasets/label_issues/20240423/results/marketplaces.parquet'\n",
    "FILE_SUPERVISAO_MERCADO = '../datasets/supervisao_mercado/supervisao_mercado.xlsx'\n",
    "FILE_MODEL_CLF3 = '../experimentos/assets/exp_clf3_model.joblib'\n",
    "FILE_HYPER_PARAMETERS = '../datasets/gs_hyper_paramenters_classifiers.json'"
   ]
  },
  {
   "cell_type": "code",
   "execution_count": 4,
   "id": "97ef5c7e-08cf-4023-b088-7e38e4ac20a7",
   "metadata": {},
   "outputs": [],
   "source": [
    "def load_file_mercado(file_mercado=FILE_SUPERVISAO_MERCADO):\n",
    "    dict_df_mercado = pd.read_excel(\n",
    "    file_mercado,\n",
    "    sheet_name=None,\n",
    "    usecols=[2,8,10],\n",
    "    names=['texto_busca', 'titulo', 'passivel_homologacao'],\n",
    "    true_values=['Sim', 'sim'],\n",
    "    false_values=['Não','não'],\n",
    "    na_values=['-'])\n",
    "\n",
    "    df_list = []\n",
    "    for key in dict_df_mercado.keys():\n",
    "        df = dict_df_mercado[key]\n",
    "        df['marketplace'] = key\n",
    "        df_list.append(df)\n",
    "        \n",
    "    df_mercado = pd.concat(df_list)\n",
    "    df_mercado = df_mercado.dropna()\n",
    "    df_mercado['passivel_homologacao'] = df_mercado['passivel_homologacao'].astype(int)\n",
    "    \n",
    "    map_marketplaces = {\n",
    "        'Amazon': 'Amazon', \n",
    "        'Americanas': 'Lojas Americanas',\n",
    "        'CasasBahia': 'Casas Bahia',\n",
    "        'Magalu': 'Magazine Luiza', \n",
    "        'MercadoLivre': 'Mercado Livre'\n",
    "    }\n",
    "    \n",
    "    df_mercado['marketplace'] = df_mercado['marketplace'].map(map_marketplaces)\n",
    "\n",
    "    return df_mercado"
   ]
  },
  {
   "cell_type": "code",
   "execution_count": 5,
   "id": "ea62814d-fde8-4327-84a3-34f80b5cc317",
   "metadata": {},
   "outputs": [],
   "source": [
    "# def tokenizer(doc):\n",
    "#     doc = doc.lower()\n",
    "#     doc = unidecode.unidecode(doc)\n",
    "    \n",
    "#     # uniformizar termos\n",
    "#     patterns = [('wi\\s?.?fi', 'wifi'), \n",
    "#                 ('2,4', '2.4'), \n",
    "#                 ('5,8', '5.8')]\n",
    "#     for pattern, repl in patterns:\n",
    "#         doc = re.sub(pattern, repl, doc)\n",
    "    \n",
    "#     stop_words = stopwords.words('portuguese')\n",
    "#     stop_words.extend(stopwords.words('english'))\n",
    "#     stop_words.extend(list(punctuation))\n",
    "#     # stopwords específicas do domínio\n",
    "#     stop_words.extend(['cm', 'feature', 'features', 'informações', 'itens', 'leve', 'list', 'nulo', 'package', 'pacote', 'pacotes', 'recurso', 'tamanho', 'ver', 'unidades', 'fio', 'universal'])\n",
    "#     # cores mais comumns\n",
    "#     stop_words.extend(['preto', 'cinza', 'branco', 'rosa', 'vermelho', 'laranja', 'amarelo', 'verde', 'azul', 'roxo', 'marrom'])\n",
    "#     # remover da lista de stopwords a palavra sem para formar o bigrama \"sem fio\", que pode ser relevante para o domínio\n",
    "#     # stop_words.remove('sem') \n",
    "    \n",
    "#     tokens = [token for token in word_tokenize(doc) if token not in stop_words]\n",
    "\n",
    "#     # tokens = [token for token in re.findall(r'\\b\\w\\w+\\b',doc) if token not in stop_words]\n",
    "    \n",
    "#     return tokens\n",
    "\n",
    "# def clean_text(doc):\n",
    "#     tokens = tokenizer(doc)\n",
    "#     return ' '.join(tokens) "
   ]
  },
  {
   "cell_type": "code",
   "execution_count": 6,
   "id": "3f1acd55-2273-4ee8-be75-e64438f1b2ec",
   "metadata": {},
   "outputs": [],
   "source": [
    "# def clf_score(clf, X_test, y_test):\n",
    "    \n",
    "#     try:\n",
    "#         auc = roc_auc_score(y_test,clf.predict_proba(X_test)[:,1])\n",
    "#     except:\n",
    "#         auc = roc_auc_score(y_test,clf.decision_function(X_test))\n",
    "    \n",
    "#     score = {\n",
    "#             'Model name': clf['clf'].__class__.__name__,\n",
    "#             'AUC': auc}\n",
    "\n",
    "#     return score"
   ]
  },
  {
   "cell_type": "code",
   "execution_count": 7,
   "id": "9effd19a-a16c-4caf-8b86-815772147096",
   "metadata": {},
   "outputs": [],
   "source": [
    "def save_best_params():\n",
    "    \n",
    "    _best_params = {\n",
    "        'name': pipe['clf'].__class__.__name__,\n",
    "        'accuracy': gs.score(X_test,y_test),\n",
    "        'auc': gs.best_score_,\n",
    "        'best_params': json.dumps(gs.best_params_)\n",
    "    }\n",
    "    \n",
    "    clf_best_params.append(_best_params)\n",
    "    print(_best_params)\n",
    "    \n",
    "    with open(FILE_HYPER_PARAMETERS, 'w+') as f:\n",
    "        json.dump(clf_best_params,f,indent=2)    "
   ]
  },
  {
   "cell_type": "markdown",
   "id": "ce5bde4a-70f0-4d17-bb9e-3a07636d3e9d",
   "metadata": {},
   "source": [
    "# Carga e prepação dos dados"
   ]
  },
  {
   "cell_type": "code",
   "execution_count": 8,
   "id": "3c000094-be35-46ee-8686-91e5cf56fc0e",
   "metadata": {},
   "outputs": [],
   "source": [
    "df_marketplaces = pd.read_parquet(FILE_MARKETPLACES)\n",
    "df_mercado = load_file_mercado()\n",
    "\n",
    "# reduzir a base de dados para construir o notebook\n",
    "# df_marketplaces = df_marketplaces.sample(10)\n",
    "\n",
    "# conjunto de dados\n",
    "docs_marketplaces = df_marketplaces[df_marketplaces['passivel_homologacao']<2]['titulo'].values\n",
    "targets_marketplaces = df_marketplaces[df_marketplaces['passivel_homologacao']<2]['passivel_homologacao'].values\n",
    "\n",
    "\n",
    "# GridSearchCV does not need test subset\n",
    "X_train, y_train = docs_marketplaces, targets_marketplaces\n",
    "# need X_test and y_test to score GridSearchCV best estimators\n",
    "_, X_test, _, y_test = train_test_split(\n",
    "    docs_marketplaces, targets_marketplaces,\n",
    "    test_size=0.25, \n",
    "    random_state=724\n",
    ")\n",
    "\n",
    "X_valid, y_valid = df_mercado['titulo'].values, df_mercado['passivel_homologacao'].values"
   ]
  },
  {
   "cell_type": "code",
   "execution_count": 9,
   "id": "d54749b5-a715-45fc-b3fd-38aeabf798db",
   "metadata": {},
   "outputs": [],
   "source": [
    "clf_best_params = []"
   ]
  },
  {
   "cell_type": "markdown",
   "id": "ad603cb3-32e3-40b5-80a1-42acf5b581d8",
   "metadata": {},
   "source": [
    "# Análise\n",
    "\n",
    "\n",
    "https://levity.ai/blog/text-classifiers-in-machine-learning-a-practical-guide"
   ]
  },
  {
   "cell_type": "markdown",
   "id": "d1a61dbc-047d-4bb3-a87f-821a668bffae",
   "metadata": {
    "jp-MarkdownHeadingCollapsed": true
   },
   "source": [
    "## Ajustando hiperparâmetros dos algoritmos"
   ]
  },
  {
   "cell_type": "code",
   "execution_count": 10,
   "id": "aee986a0-77c4-4b0f-ae76-ee356f085a59",
   "metadata": {},
   "outputs": [],
   "source": [
    "start_time = datetime.now()"
   ]
  },
  {
   "cell_type": "markdown",
   "id": "2aa258b6-9439-4c69-87d1-b38ca772445d",
   "metadata": {},
   "source": [
    "### Naive-Bayes"
   ]
  },
  {
   "cell_type": "code",
   "execution_count": 11,
   "id": "41dcc36f-e20f-4e0b-950c-b5f8ab2109cb",
   "metadata": {},
   "outputs": [
    {
     "name": "stdout",
     "output_type": "stream",
     "text": [
      "{'name': 'BernoulliNB', 'accuracy': 0.9738398056169828, 'auc': 0.9558841708247019, 'best_params': '{\"clf__alpha\": 1.0}'}\n",
      "CPU times: total: 672 ms\n",
      "Wall time: 13.1 s\n"
     ]
    }
   ],
   "source": [
    "%%time\n",
    "clf = BernoulliNB()\n",
    "\n",
    "vectorizer = TfidfVectorizer()\n",
    "pipe = Pipeline(steps = [('vectorizer',vectorizer),('clf',clf)])\n",
    "\n",
    "parameter_grid = {\n",
    "    \"clf__alpha\": np.logspace(-6, 6, 13),\n",
    "}\n",
    "scoring = {\"AUC\": \"roc_auc\"}\n",
    "\n",
    "gs = GridSearchCV(pipe,parameter_grid,scoring=scoring,refit='AUC', n_jobs=10)\n",
    "gs.fit(X_train, y_train)\n",
    "\n",
    "save_best_params()"
   ]
  },
  {
   "cell_type": "code",
   "execution_count": 12,
   "id": "03f04dfe-5142-4922-90a6-1f24ba58e5eb",
   "metadata": {},
   "outputs": [
    {
     "name": "stdout",
     "output_type": "stream",
     "text": [
      "{'name': 'ComplementNB', 'accuracy': 0.9755461172148316, 'auc': 0.9590248791557359, 'best_params': '{\"clf__alpha\": 1.0}'}\n",
      "CPU times: total: 594 ms\n",
      "Wall time: 3.92 s\n"
     ]
    }
   ],
   "source": [
    "%%time\n",
    "clf = ComplementNB()\n",
    "\n",
    "vectorizer = TfidfVectorizer()\n",
    "pipe = Pipeline(steps = [('vectorizer',vectorizer),('clf',clf)])\n",
    "\n",
    "parameter_grid = {\n",
    "    \"clf__alpha\": np.logspace(-6, 6, 13),\n",
    "}\n",
    "scoring = {\"AUC\": \"roc_auc\"}\n",
    "\n",
    "gs = GridSearchCV(pipe,parameter_grid,scoring=scoring,refit='AUC', n_jobs=10)\n",
    "gs.fit(X_train, y_train)\n",
    "save_best_params()"
   ]
  },
  {
   "cell_type": "code",
   "execution_count": 13,
   "id": "12bec9b4-54c0-42cb-8b9e-71d88de8399c",
   "metadata": {},
   "outputs": [
    {
     "name": "stdout",
     "output_type": "stream",
     "text": [
      "{'name': 'MultinomialNB', 'accuracy': 0.9755461172148316, 'auc': 0.9590248791557359, 'best_params': '{\"clf__alpha\": 1.0}'}\n",
      "CPU times: total: 547 ms\n",
      "Wall time: 3.84 s\n"
     ]
    }
   ],
   "source": [
    "%%time\n",
    "clf = MultinomialNB()\n",
    "\n",
    "vectorizer = TfidfVectorizer()\n",
    "pipe = Pipeline(steps = [('vectorizer',vectorizer),('clf',clf)])\n",
    "\n",
    "parameter_grid = {\n",
    "    \"clf__alpha\": np.logspace(-6, 6, 13),\n",
    "}\n",
    "scoring = {\"AUC\": \"roc_auc\"}\n",
    "\n",
    "gs = GridSearchCV(pipe, parameter_grid, scoring=scoring, refit='AUC', n_jobs=10)\n",
    "gs.fit(X_train, y_train)\n",
    "save_best_params()"
   ]
  },
  {
   "cell_type": "markdown",
   "id": "d8773320-39cb-4c04-846a-2ec23097a18d",
   "metadata": {},
   "source": [
    "### kNN"
   ]
  },
  {
   "cell_type": "code",
   "execution_count": 14,
   "id": "4cd21bf5-67c1-4093-90ec-5ac10759a2eb",
   "metadata": {},
   "outputs": [
    {
     "name": "stdout",
     "output_type": "stream",
     "text": [
      "{'name': 'KNeighborsClassifier', 'accuracy': 0.9784938652952038, 'auc': 0.9560730060566677, 'best_params': '{\"clf__n_neighbors\": 10, \"clf__p\": 2}'}\n",
      "CPU times: total: 12.6 s\n",
      "Wall time: 30.8 s\n"
     ]
    }
   ],
   "source": [
    "%%time\n",
    "clf = KNeighborsClassifier()\n",
    "\n",
    "vectorizer = TfidfVectorizer()\n",
    "pipe = Pipeline(steps = [('vectorizer',vectorizer),('clf',clf)])\n",
    "\n",
    "parameter_grid = {\n",
    "    \"clf__n_neighbors\": (3, 5, 10),\n",
    "    \"clf__p\": (1, 2)\n",
    "}\n",
    "scoring = {\"AUC\": \"roc_auc\"}\n",
    "\n",
    "gs = GridSearchCV(pipe,parameter_grid,scoring=scoring,refit='AUC', n_jobs=10)\n",
    "gs.fit(X_train, y_train)\n",
    "save_best_params()"
   ]
  },
  {
   "cell_type": "markdown",
   "id": "3ab8d07c-6062-450a-bf13-71e4e395baff",
   "metadata": {},
   "source": [
    "### Linear models"
   ]
  },
  {
   "cell_type": "markdown",
   "id": "3daf4814-cac4-42d6-a961-df5f41b4d9ba",
   "metadata": {},
   "source": [
    "#### SGD"
   ]
  },
  {
   "cell_type": "code",
   "execution_count": 15,
   "id": "68804ce9-eb71-4795-ad51-6c8f36d12a21",
   "metadata": {},
   "outputs": [
    {
     "name": "stdout",
     "output_type": "stream",
     "text": [
      "{'name': 'SGDClassifier', 'accuracy': 0.9957308625508047, 'auc': 0.9685796892131519, 'best_params': '{\"clf__alpha\": 1e-05, \"clf__loss\": \"log_loss\", \"clf__penalty\": \"l2\"}'}\n",
      "CPU times: total: 6.03 s\n",
      "Wall time: 1min 6s\n"
     ]
    }
   ],
   "source": [
    "%%time\n",
    "clf = SGDClassifier()\n",
    "\n",
    "vectorizer = TfidfVectorizer()\n",
    "pipe = Pipeline(steps = [('vectorizer',vectorizer),('clf',clf)])\n",
    "\n",
    "parameter_grid = {\n",
    "    \"clf__alpha\": np.logspace(-6, 6, 13),\n",
    "    \"clf__loss\": ('hinge', 'log_loss', 'modified_huber', 'squared_hinge', 'perceptron'),\n",
    "    \"clf__penalty\": ('l1', 'l2', 'elasticnet'),\n",
    "}\n",
    "scoring = {\"AUC\": \"roc_auc\"}\n",
    "\n",
    "gs = GridSearchCV(pipe,parameter_grid,scoring=scoring,refit='AUC', n_jobs=10)\n",
    "gs.fit(X_train, y_train)\n",
    "save_best_params()"
   ]
  },
  {
   "cell_type": "markdown",
   "id": "b7f1a883-1da8-40d5-a6b1-449a5a644d50",
   "metadata": {},
   "source": [
    "#### Logistic Regression"
   ]
  },
  {
   "cell_type": "code",
   "execution_count": 16,
   "id": "153c9c02-cda0-4304-bf59-96d6721c0ee0",
   "metadata": {},
   "outputs": [
    {
     "name": "stdout",
     "output_type": "stream",
     "text": [
      "{'name': 'LogisticRegression', 'accuracy': 0.997299802522871, 'auc': 0.9681783664152812, 'best_params': '{\"clf__C\": 10.0, \"clf__penalty\": \"l2\"}'}\n",
      "CPU times: total: 1.25 s\n",
      "Wall time: 8.19 s\n"
     ]
    }
   ],
   "source": [
    "%%time\n",
    "clf = LogisticRegression(solver='liblinear')\n",
    "\n",
    "vectorizer = TfidfVectorizer()\n",
    "pipe = Pipeline(steps = [('vectorizer',vectorizer),('clf',clf)])\n",
    "\n",
    "parameter_grid = {\n",
    "    \"clf__C\": np.logspace(-5, 5, 11),\n",
    "    \"clf__penalty\": ('l1', 'l2'),\n",
    "}\n",
    "scoring = {\"AUC\": \"roc_auc\"}\n",
    "\n",
    "gs = GridSearchCV(pipe,parameter_grid,scoring=scoring,refit='AUC', n_jobs=10)\n",
    "gs.fit(X_train, y_train)\n",
    "save_best_params()"
   ]
  },
  {
   "cell_type": "markdown",
   "id": "431cc6cd-c992-48bf-83d7-b45b49cb3fee",
   "metadata": {},
   "source": [
    "#### Ridge"
   ]
  },
  {
   "cell_type": "code",
   "execution_count": 17,
   "id": "fcf66dcb-6028-48c4-be04-ed718f8e4b9e",
   "metadata": {},
   "outputs": [
    {
     "name": "stdout",
     "output_type": "stream",
     "text": [
      "{'name': 'RidgeClassifier', 'accuracy': 0.9953586157793631, 'auc': 0.9660543202429157, 'best_params': '{\"clf__solver\": \"sparse_cg\"}'}\n",
      "CPU times: total: 734 ms\n",
      "Wall time: 1min 47s\n"
     ]
    }
   ],
   "source": [
    "%%time\n",
    "clf = RidgeClassifier(fit_intercept=False)\n",
    "\n",
    "vectorizer = TfidfVectorizer()\n",
    "pipe = Pipeline(steps = [('vectorizer',vectorizer),('clf',clf)])\n",
    "\n",
    "parameter_grid = {\n",
    "    \"clf__solver\": ('cholesky', 'sparse_cg', 'sag', 'saga'),\n",
    "}\n",
    "scoring = {\"AUC\": \"roc_auc\"}\n",
    "\n",
    "gs = GridSearchCV(pipe,parameter_grid,scoring=scoring,refit='AUC', n_jobs=10)\n",
    "gs.fit(X_train, y_train)\n",
    "save_best_params()"
   ]
  },
  {
   "cell_type": "markdown",
   "id": "64a29daa-5f4c-46cd-b7bc-50e0e084e7fc",
   "metadata": {},
   "source": [
    "### SVM"
   ]
  },
  {
   "cell_type": "markdown",
   "id": "6f61ceef-ee78-4e08-a1f7-7163d06869be",
   "metadata": {},
   "source": [
    "#### LinearSVC"
   ]
  },
  {
   "cell_type": "code",
   "execution_count": 18,
   "id": "399a77b9-0aba-4570-9922-495ace55daa6",
   "metadata": {},
   "outputs": [
    {
     "name": "stdout",
     "output_type": "stream",
     "text": [
      "{'name': 'LinearSVC', 'accuracy': 0.9852533509793037, 'auc': 0.9674670137912859, 'best_params': '{\"clf__C\": 0.1, \"clf__loss\": \"squared_hinge\", \"clf__tol\": 0.01}'}\n",
      "CPU times: total: 1.03 s\n",
      "Wall time: 19.7 s\n"
     ]
    }
   ],
   "source": [
    "%%time\n",
    "clf = LinearSVC()\n",
    "\n",
    "vectorizer = TfidfVectorizer()\n",
    "pipe = Pipeline(steps = [('vectorizer',vectorizer),('clf',clf)])\n",
    "\n",
    "parameter_grid = {\n",
    "    \"clf__loss\": ('hinge', 'squared_hinge'),\n",
    "    \"clf__C\": np.logspace(-5,0,6),\n",
    "    \"clf__tol\": np.logspace(-5,0,6),\n",
    "}\n",
    "scoring = {\"AUC\": \"roc_auc\"}\n",
    "\n",
    "gs = GridSearchCV(pipe,parameter_grid,scoring=scoring,refit='AUC', n_jobs=10)\n",
    "gs.fit(X_train, y_train)\n",
    "save_best_params()"
   ]
  },
  {
   "cell_type": "markdown",
   "id": "9dab8a12-20a4-48ad-9a6c-95e3f43376fc",
   "metadata": {},
   "source": [
    "#### NuSVC"
   ]
  },
  {
   "cell_type": "code",
   "execution_count": 19,
   "id": "a983d766-b39d-4517-8fa2-4e6b28d131ab",
   "metadata": {},
   "outputs": [
    {
     "name": "stdout",
     "output_type": "stream",
     "text": [
      "{'name': 'NuSVC', 'accuracy': 0.9992394725449588, 'auc': 0.9704121866805029, 'best_params': '{\"clf__kernel\": \"rbf\", \"clf__nu\": 0.25, \"clf__tol\": 1e-05}'}\n",
      "CPU times: total: 1min\n",
      "Wall time: 50min 20s\n"
     ]
    }
   ],
   "source": [
    "%%time\n",
    "clf = NuSVC()\n",
    "\n",
    "vectorizer = TfidfVectorizer()\n",
    "pipe = Pipeline(steps = [('vectorizer',vectorizer),('clf',clf)])\n",
    "\n",
    "parameter_grid = {\n",
    "    \"clf__nu\": (0.1, 0.25, 0.5, 0.75, 1),\n",
    "    \"clf__kernel\": ('linear', 'poly', 'rbf', 'sigmoid', 'precomputed'),\n",
    "    \"clf__tol\": np.logspace(-5,0,6),\n",
    "}\n",
    "scoring = {\"AUC\": \"roc_auc\"}\n",
    "\n",
    "gs = GridSearchCV(pipe,parameter_grid,scoring=scoring,refit='AUC', n_jobs=10)\n",
    "gs.fit(X_train, y_train)\n",
    "save_best_params()"
   ]
  },
  {
   "cell_type": "markdown",
   "id": "cd6e7e93-01b6-4883-989d-79870cc1df61",
   "metadata": {},
   "source": [
    "### Tree"
   ]
  },
  {
   "cell_type": "markdown",
   "id": "1a7bcc64-2f78-421e-a690-124f4343b21c",
   "metadata": {},
   "source": [
    "#### Decision Tree"
   ]
  },
  {
   "cell_type": "code",
   "execution_count": 20,
   "id": "2d98631e-9e4b-4955-9f36-31a4bade2241",
   "metadata": {},
   "outputs": [
    {
     "name": "stdout",
     "output_type": "stream",
     "text": [
      "{'name': 'DecisionTreeClassifier', 'accuracy': 0.9999995666510227, 'auc': 0.8417811286960161, 'best_params': '{\"clf__criterion\": \"entropy\", \"clf__max_features\": \"sqrt\", \"clf__splitter\": \"best\"}'}\n",
      "CPU times: total: 891 ms\n",
      "Wall time: 9.27 s\n"
     ]
    }
   ],
   "source": [
    "%%time\n",
    "clf = DecisionTreeClassifier()\n",
    "\n",
    "vectorizer = TfidfVectorizer()\n",
    "pipe = Pipeline(steps = [('vectorizer',vectorizer),('clf',clf)])\n",
    "\n",
    "parameter_grid = {\n",
    "    \"clf__splitter\": ('best', 'random'),\n",
    "    \"clf__criterion\": ('gini', 'entropy', 'log_loss'),\n",
    "    \"clf__max_features\": ('sqrt', 'log2')\n",
    "}\n",
    "scoring = {\"AUC\": \"roc_auc\"}\n",
    "\n",
    "gs = GridSearchCV(pipe,parameter_grid,scoring=scoring,refit='AUC', n_jobs=10)\n",
    "gs.fit(X_train, y_train)\n",
    "save_best_params()"
   ]
  },
  {
   "cell_type": "markdown",
   "id": "1e709b71-c108-49fd-9f79-6417bf488ccd",
   "metadata": {},
   "source": [
    "#### Extremely randomized tree "
   ]
  },
  {
   "cell_type": "code",
   "execution_count": 21,
   "id": "ed47e23f-5fea-4890-b5de-08b0a05aa452",
   "metadata": {},
   "outputs": [
    {
     "name": "stdout",
     "output_type": "stream",
     "text": [
      "{'name': 'ExtraTreeClassifier', 'accuracy': 0.9999995666510227, 'auc': 0.8429750500309676, 'best_params': '{\"clf__criterion\": \"entropy\", \"clf__max_features\": \"sqrt\", \"clf__splitter\": \"best\"}'}\n",
      "CPU times: total: 844 ms\n",
      "Wall time: 9.64 s\n"
     ]
    }
   ],
   "source": [
    "%%time\n",
    "clf = ExtraTreeClassifier()\n",
    "\n",
    "vectorizer = TfidfVectorizer()\n",
    "pipe = Pipeline(steps = [('vectorizer',vectorizer),('clf',clf)])\n",
    "\n",
    "parameter_grid = {\n",
    "    \"clf__splitter\": ('best', 'random'),\n",
    "    \"clf__criterion\": ('gini', 'entropy', 'log_loss'),\n",
    "    \"clf__max_features\": ('sqrt', 'log2')\n",
    "}\n",
    "scoring = {\"AUC\": \"roc_auc\"}\n",
    "\n",
    "gs = GridSearchCV(pipe,parameter_grid,scoring=scoring,refit='AUC', n_jobs=10)\n",
    "gs.fit(X_train, y_train)\n",
    "save_best_params()"
   ]
  },
  {
   "cell_type": "markdown",
   "id": "4e78f70a-2d6a-4217-89a9-e09255e33a67",
   "metadata": {},
   "source": [
    "### Ensemble"
   ]
  },
  {
   "cell_type": "markdown",
   "id": "6b9bbfd4-02ad-4514-abd8-e6c4d754e111",
   "metadata": {},
   "source": [
    "#### RandomForest"
   ]
  },
  {
   "cell_type": "code",
   "execution_count": 22,
   "id": "b254c16d-0921-41ef-b053-6bf14a6fe053",
   "metadata": {},
   "outputs": [
    {
     "name": "stdout",
     "output_type": "stream",
     "text": [
      "{'name': 'RandomForestClassifier', 'accuracy': 0.9999984832785797, 'auc': 0.9710282736824786, 'best_params': '{\"clf__criterion\": \"log_loss\", \"clf__max_features\": \"log2\", \"clf__n_estimators\": 500}'}\n",
      "CPU times: total: 2min 20s\n",
      "Wall time: 22min 29s\n"
     ]
    }
   ],
   "source": [
    "%%time\n",
    "clf = RandomForestClassifier()\n",
    "\n",
    "vectorizer = TfidfVectorizer()\n",
    "pipe = Pipeline(steps = [('vectorizer',vectorizer),('clf',clf)])\n",
    "\n",
    "parameter_grid = {\n",
    "    \"clf__n_estimators\": (10, 100, 500),\n",
    "    \"clf__criterion\": ('gini', 'entropy', 'log_loss'),\n",
    "    \"clf__max_features\": ('sqrt', 'log2')\n",
    "}\n",
    "scoring = {\"AUC\": \"roc_auc\"}\n",
    "\n",
    "gs = GridSearchCV(pipe,parameter_grid,scoring=scoring,refit='AUC', n_jobs=10)\n",
    "gs.fit(X_train, y_train)\n",
    "save_best_params()"
   ]
  },
  {
   "cell_type": "markdown",
   "id": "19338a98-b13d-48b2-821f-05e524f299db",
   "metadata": {},
   "source": [
    "#### AdaBoost"
   ]
  },
  {
   "cell_type": "code",
   "execution_count": 23,
   "id": "0376835c-63ee-427a-9063-c0b68a1ebbca",
   "metadata": {},
   "outputs": [
    {
     "name": "stdout",
     "output_type": "stream",
     "text": [
      "{'name': 'AdaBoostClassifier', 'accuracy': 0.9581117295001016, 'auc': 0.9491320075241912, 'best_params': '{\"clf__learning_rate\": 0.1, \"clf__n_estimators\": 500}'}\n",
      "CPU times: total: 28 s\n",
      "Wall time: 5min 21s\n"
     ]
    }
   ],
   "source": [
    "%%time\n",
    "clf = AdaBoostClassifier()\n",
    "\n",
    "vectorizer = TfidfVectorizer()\n",
    "pipe = Pipeline(steps = [('vectorizer',vectorizer),('clf',clf)])\n",
    "\n",
    "parameter_grid = {\n",
    "    \"clf__n_estimators\": (50, 100, 500),\n",
    "    \"clf__learning_rate\": np.logspace(-5, 0, 6),\n",
    "}\n",
    "scoring = {\"AUC\": \"roc_auc\"}\n",
    "\n",
    "gs = GridSearchCV(pipe,parameter_grid,scoring=scoring,refit='AUC', n_jobs=10)\n",
    "gs.fit(X_train, y_train)\n",
    "save_best_params()"
   ]
  },
  {
   "cell_type": "markdown",
   "id": "1b8bae16-3694-4090-a543-8d50112a2c5c",
   "metadata": {},
   "source": [
    "### Dummy"
   ]
  },
  {
   "cell_type": "code",
   "execution_count": 24,
   "id": "fd4b394f-f537-4374-95e6-e730b69072a1",
   "metadata": {},
   "outputs": [
    {
     "name": "stdout",
     "output_type": "stream",
     "text": [
      "{'name': 'DummyClassifier', 'accuracy': 0.4906437789070852, 'auc': 0.506404005899555, 'best_params': '{\"clf__strategy\": \"stratified\"}'}\n",
      "CPU times: total: 359 ms\n",
      "Wall time: 1.78 s\n"
     ]
    }
   ],
   "source": [
    "%%time\n",
    "clf = DummyClassifier()\n",
    "\n",
    "vectorizer = TfidfVectorizer()\n",
    "pipe = Pipeline(steps = [('vectorizer',vectorizer),('clf',clf)])\n",
    "\n",
    "parameter_grid = {\n",
    "    \"clf__strategy\": ('most_frequent', 'prior', 'stratified', 'uniform', 'constant'),\n",
    "}\n",
    "scoring = {\"AUC\": \"roc_auc\"}\n",
    "\n",
    "gs = GridSearchCV(pipe,parameter_grid,scoring=scoring,refit='AUC', n_jobs=10)\n",
    "gs.fit(X_train, y_train)\n",
    "save_best_params()"
   ]
  },
  {
   "cell_type": "code",
   "execution_count": 25,
   "id": "70850322-29d1-4bb0-8cb5-314b694dc2ef",
   "metadata": {},
   "outputs": [
    {
     "name": "stdout",
     "output_type": "stream",
     "text": [
      "Total trainning time: 4966 seconds\n"
     ]
    }
   ],
   "source": [
    "elapsed_time = datetime.now() - start_time\n",
    "print('Total trainning time: {} seconds'.format(int(elapsed_time.total_seconds())))"
   ]
  },
  {
   "cell_type": "code",
   "execution_count": 30,
   "id": "d571a51f-3994-4c49-ab45-ca5e963cd485",
   "metadata": {},
   "outputs": [
    {
     "name": "stdout",
     "output_type": "stream",
     "text": [
      "Total trainning time: 82 minutes\n"
     ]
    }
   ],
   "source": [
    "print('Total trainning time: {} minutes'.format(int(elapsed_time.total_seconds()//60)))"
   ]
  },
  {
   "cell_type": "markdown",
   "id": "a862c9de-c754-48f3-88c5-14cab99476ca",
   "metadata": {},
   "source": [
    "## Consolidar e exibir resultados"
   ]
  },
  {
   "cell_type": "code",
   "execution_count": 11,
   "id": "8eb6940f-89c1-49d6-8d25-ea8ae07081a4",
   "metadata": {},
   "outputs": [
    {
     "data": {
      "text/html": [
       "<div>\n",
       "<style scoped>\n",
       "    .dataframe tbody tr th:only-of-type {\n",
       "        vertical-align: middle;\n",
       "    }\n",
       "\n",
       "    .dataframe tbody tr th {\n",
       "        vertical-align: top;\n",
       "    }\n",
       "\n",
       "    .dataframe thead th {\n",
       "        text-align: right;\n",
       "    }\n",
       "</style>\n",
       "<table border=\"1\" class=\"dataframe\">\n",
       "  <thead>\n",
       "    <tr style=\"text-align: right;\">\n",
       "      <th></th>\n",
       "      <th>name</th>\n",
       "      <th>accuracy</th>\n",
       "      <th>auc</th>\n",
       "      <th>best_params</th>\n",
       "    </tr>\n",
       "  </thead>\n",
       "  <tbody>\n",
       "    <tr>\n",
       "      <th>0</th>\n",
       "      <td>RandomForestClassifier</td>\n",
       "      <td>0.999998</td>\n",
       "      <td>0.971028</td>\n",
       "      <td>{\"clf__criterion\": \"log_loss\", \"clf__max_featu...</td>\n",
       "    </tr>\n",
       "    <tr>\n",
       "      <th>1</th>\n",
       "      <td>NuSVC</td>\n",
       "      <td>0.999239</td>\n",
       "      <td>0.970412</td>\n",
       "      <td>{\"clf__kernel\": \"rbf\", \"clf__nu\": 0.25, \"clf__...</td>\n",
       "    </tr>\n",
       "    <tr>\n",
       "      <th>2</th>\n",
       "      <td>SGDClassifier</td>\n",
       "      <td>0.995731</td>\n",
       "      <td>0.968580</td>\n",
       "      <td>{\"clf__alpha\": 1e-05, \"clf__loss\": \"log_loss\",...</td>\n",
       "    </tr>\n",
       "    <tr>\n",
       "      <th>3</th>\n",
       "      <td>LogisticRegression</td>\n",
       "      <td>0.997300</td>\n",
       "      <td>0.968178</td>\n",
       "      <td>{\"clf__C\": 10.0, \"clf__penalty\": \"l2\"}</td>\n",
       "    </tr>\n",
       "    <tr>\n",
       "      <th>4</th>\n",
       "      <td>LinearSVC</td>\n",
       "      <td>0.985253</td>\n",
       "      <td>0.967467</td>\n",
       "      <td>{\"clf__C\": 0.1, \"clf__loss\": \"squared_hinge\", ...</td>\n",
       "    </tr>\n",
       "    <tr>\n",
       "      <th>5</th>\n",
       "      <td>RidgeClassifier</td>\n",
       "      <td>0.995359</td>\n",
       "      <td>0.966054</td>\n",
       "      <td>{\"clf__solver\": \"sparse_cg\"}</td>\n",
       "    </tr>\n",
       "    <tr>\n",
       "      <th>6</th>\n",
       "      <td>ComplementNB</td>\n",
       "      <td>0.975546</td>\n",
       "      <td>0.959025</td>\n",
       "      <td>{\"clf__alpha\": 1.0}</td>\n",
       "    </tr>\n",
       "    <tr>\n",
       "      <th>7</th>\n",
       "      <td>MultinomialNB</td>\n",
       "      <td>0.975546</td>\n",
       "      <td>0.959025</td>\n",
       "      <td>{\"clf__alpha\": 1.0}</td>\n",
       "    </tr>\n",
       "    <tr>\n",
       "      <th>8</th>\n",
       "      <td>KNeighborsClassifier</td>\n",
       "      <td>0.978494</td>\n",
       "      <td>0.956073</td>\n",
       "      <td>{\"clf__n_neighbors\": 10, \"clf__p\": 2}</td>\n",
       "    </tr>\n",
       "    <tr>\n",
       "      <th>9</th>\n",
       "      <td>BernoulliNB</td>\n",
       "      <td>0.973840</td>\n",
       "      <td>0.955884</td>\n",
       "      <td>{\"clf__alpha\": 1.0}</td>\n",
       "    </tr>\n",
       "    <tr>\n",
       "      <th>10</th>\n",
       "      <td>AdaBoostClassifier</td>\n",
       "      <td>0.958112</td>\n",
       "      <td>0.949132</td>\n",
       "      <td>{\"clf__learning_rate\": 0.1, \"clf__n_estimators...</td>\n",
       "    </tr>\n",
       "    <tr>\n",
       "      <th>11</th>\n",
       "      <td>ExtraTreeClassifier</td>\n",
       "      <td>1.000000</td>\n",
       "      <td>0.842975</td>\n",
       "      <td>{\"clf__criterion\": \"entropy\", \"clf__max_featur...</td>\n",
       "    </tr>\n",
       "    <tr>\n",
       "      <th>12</th>\n",
       "      <td>DecisionTreeClassifier</td>\n",
       "      <td>1.000000</td>\n",
       "      <td>0.841781</td>\n",
       "      <td>{\"clf__criterion\": \"entropy\", \"clf__max_featur...</td>\n",
       "    </tr>\n",
       "    <tr>\n",
       "      <th>13</th>\n",
       "      <td>DummyClassifier</td>\n",
       "      <td>0.490644</td>\n",
       "      <td>0.506404</td>\n",
       "      <td>{\"clf__strategy\": \"stratified\"}</td>\n",
       "    </tr>\n",
       "  </tbody>\n",
       "</table>\n",
       "</div>"
      ],
      "text/plain": [
       "                      name  accuracy       auc  \\\n",
       "0   RandomForestClassifier  0.999998  0.971028   \n",
       "1                    NuSVC  0.999239  0.970412   \n",
       "2            SGDClassifier  0.995731  0.968580   \n",
       "3       LogisticRegression  0.997300  0.968178   \n",
       "4                LinearSVC  0.985253  0.967467   \n",
       "5          RidgeClassifier  0.995359  0.966054   \n",
       "6             ComplementNB  0.975546  0.959025   \n",
       "7            MultinomialNB  0.975546  0.959025   \n",
       "8     KNeighborsClassifier  0.978494  0.956073   \n",
       "9              BernoulliNB  0.973840  0.955884   \n",
       "10      AdaBoostClassifier  0.958112  0.949132   \n",
       "11     ExtraTreeClassifier  1.000000  0.842975   \n",
       "12  DecisionTreeClassifier  1.000000  0.841781   \n",
       "13         DummyClassifier  0.490644  0.506404   \n",
       "\n",
       "                                          best_params  \n",
       "0   {\"clf__criterion\": \"log_loss\", \"clf__max_featu...  \n",
       "1   {\"clf__kernel\": \"rbf\", \"clf__nu\": 0.25, \"clf__...  \n",
       "2   {\"clf__alpha\": 1e-05, \"clf__loss\": \"log_loss\",...  \n",
       "3              {\"clf__C\": 10.0, \"clf__penalty\": \"l2\"}  \n",
       "4   {\"clf__C\": 0.1, \"clf__loss\": \"squared_hinge\", ...  \n",
       "5                        {\"clf__solver\": \"sparse_cg\"}  \n",
       "6                                 {\"clf__alpha\": 1.0}  \n",
       "7                                 {\"clf__alpha\": 1.0}  \n",
       "8               {\"clf__n_neighbors\": 10, \"clf__p\": 2}  \n",
       "9                                 {\"clf__alpha\": 1.0}  \n",
       "10  {\"clf__learning_rate\": 0.1, \"clf__n_estimators...  \n",
       "11  {\"clf__criterion\": \"entropy\", \"clf__max_featur...  \n",
       "12  {\"clf__criterion\": \"entropy\", \"clf__max_featur...  \n",
       "13                    {\"clf__strategy\": \"stratified\"}  "
      ]
     },
     "execution_count": 11,
     "metadata": {},
     "output_type": "execute_result"
    }
   ],
   "source": [
    "with open(FILE_HYPER_PARAMETERS) as f:\n",
    "    clf_best_params = json.load(f)\n",
    "    \n",
    "df = pd.DataFrame(clf_best_params)\n",
    "df = df.sort_values(by='auc', ascending=False).reset_index(drop=True)\n",
    "df"
   ]
  },
  {
   "cell_type": "code",
   "execution_count": 26,
   "id": "d97aad1c-d928-40b0-a86d-f9175d9be8ce",
   "metadata": {},
   "outputs": [
    {
     "data": {
      "image/png": "[encoded data removed]",
      "text/plain": [
       "<Figure size 800x500 with 1 Axes>"
      ]
     },
     "metadata": {},
     "output_type": "display_data"
    }
   ],
   "source": [
    "fig, ax = plt.subplots(1,1,figsize=(8,5))\n",
    "\n",
    "# ax.set_xlim(0,1)\n",
    "# ax.set_ylim(0,1)\n",
    "\n",
    "for record in df.to_dict('records'):\n",
    "    label = record['name']\n",
    "    x = record['auc']\n",
    "    y = record['accuracy']\n",
    "    _=ax.scatter(x,y, label=label)\n",
    "\n",
    "ax.set_xlabel('Área sob a curva ROC')\n",
    "ax.set_ylabel('Acurácia')\n",
    "ax.set_title('Desempenho dos classificadores')\n",
    "ax.legend()\n",
    "plt.show()\n"
   ]
  },
  {
   "cell_type": "code",
   "execution_count": 27,
   "id": "eb50919d-3663-46b0-93b2-54cc8ef8a43e",
   "metadata": {},
   "outputs": [
    {
     "data": {
      "image/png": "[encoded data removed]",
      "text/plain": [
       "<Figure size 800x500 with 1 Axes>"
      ]
     },
     "metadata": {},
     "output_type": "display_data"
    }
   ],
   "source": [
    "fig, ax = plt.subplots(1,1,figsize=(8,5))\n",
    "\n",
    "# ax.set_xlim(0,1)\n",
    "# ax.set_ylim(0,1)\n",
    "\n",
    "for record in df.head(5).to_dict('records'):\n",
    "    label = record['name']\n",
    "    x = record['auc']\n",
    "    y = record['accuracy']\n",
    "    _=ax.scatter(x,y, label=label)\n",
    "\n",
    "ax.set_xlabel('Área sob a curva ROC')\n",
    "ax.set_ylabel('Acurácia')\n",
    "ax.set_title('Desempenho dos classificadores - top 5')\n",
    "ax.legend()\n",
    "plt.show()"
   ]
  },
  {
   "cell_type": "markdown",
   "id": "8c4ac2ff-c56f-4b70-b5f7-ba8e4fbc54ac",
   "metadata": {},
   "source": [
    "## Ajustando hiperparâmetros do vetorizador"
   ]
  },
  {
   "cell_type": "markdown",
   "id": "c2990b54-3c06-45b4-b558-07c40bae3901",
   "metadata": {},
   "source": [
    "### Carregar arquivo de hyperparâmetros dos classificadores"
   ]
  },
  {
   "cell_type": "code",
   "execution_count": null,
   "id": "4d9ffa9c-b544-4cac-b44d-754aac6a9bf2",
   "metadata": {},
   "outputs": [],
   "source": []
  },
  {
   "cell_type": "code",
   "execution_count": 28,
   "id": "01a9ebae-d890-472a-b9b2-75c70a399a41",
   "metadata": {},
   "outputs": [],
   "source": [
    "    # \"vectorizer__max_df\": (0.2, 0.4, 0.6, 0.8, 1.0),\n",
    "    # \"vectorizer__min_df\": (1, 3, 5, 10),\n",
    "    # \"vectorizer__ngram_range\": ((1, 1), (1, 2)),  # unigrams or bigrams\n",
    "    # \"vectorizer__norm\": (\"l1\", \"l2\"),"
   ]
  }
 ],
 "metadata": {
  "kernelspec": {
   "display_name": "Python 3 (ipykernel)",
   "language": "python",
   "name": "python3"
  },
  "language_info": {
   "codemirror_mode": {
    "name": "ipython",
    "version": 3
   },
   "file_extension": ".py",
   "mimetype": "text/x-python",
   "name": "python",
   "nbconvert_exporter": "python",
   "pygments_lexer": "ipython3",
   "version": "3.10.12"
  }
 },
 "nbformat": 4,
 "nbformat_minor": 5
}
