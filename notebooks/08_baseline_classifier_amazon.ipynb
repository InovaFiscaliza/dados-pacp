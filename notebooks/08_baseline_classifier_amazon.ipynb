{
 "cells": [
  {
   "cell_type": "markdown",
   "id": "b47312c8-4a73-4aa3-b614-7b43580fa498",
   "metadata": {},
   "source": [
    "# Preparação do ambiente"
   ]
  },
  {
   "cell_type": "markdown",
   "id": "25fa99ec-c912-4433-9ec0-0da4b4f6635f",
   "metadata": {
    "jp-MarkdownHeadingCollapsed": true
   },
   "source": [
    "## Bibliotecas"
   ]
  },
  {
   "cell_type": "code",
   "execution_count": 1,
   "id": "52989da2-a5e5-4fad-93a3-36f9d9462161",
   "metadata": {},
   "outputs": [],
   "source": [
    "import matplotlib.pyplot as plt\n",
    "import numpy as np\n",
    "import pandas as pd\n",
    "import re\n",
    "import unidecode\n",
    "import warnings \n",
    "\n",
    "from nltk.corpus import stopwords\n",
    "from nltk.tokenize import word_tokenize\n",
    "\n",
    "from sklearn.decomposition import TruncatedSVD\n",
    "from sklearn.dummy import DummyClassifier\n",
    "from sklearn.feature_extraction.text import TfidfVectorizer\n",
    "from sklearn.linear_model import SGDClassifier\n",
    "from sklearn.metrics import classification_report\n",
    "from sklearn.metrics import roc_auc_score\n",
    "from sklearn.model_selection import GridSearchCV\n",
    "from sklearn.model_selection import train_test_split\n",
    "from sklearn.pipeline import Pipeline\n",
    "\n",
    "from string import punctuation"
   ]
  },
  {
   "cell_type": "code",
   "execution_count": 2,
   "id": "a3ece6c2-7a57-4474-8d2b-f8874a205811",
   "metadata": {},
   "outputs": [],
   "source": [
    "# Settings the warnings to be ignored \n",
    "warnings.filterwarnings('ignore')"
   ]
  },
  {
   "cell_type": "markdown",
   "id": "eeab38bd-bfd7-4c13-9344-f2ff45111801",
   "metadata": {
    "jp-MarkdownHeadingCollapsed": true
   },
   "source": [
    "## Constantes e funções auxiliares"
   ]
  },
  {
   "cell_type": "code",
   "execution_count": 3,
   "id": "ea62814d-fde8-4327-84a3-34f80b5cc317",
   "metadata": {},
   "outputs": [],
   "source": [
    "def tokenizer(doc):\n",
    "    doc = doc.lower()\n",
    "    doc = unidecode.unidecode(doc)\n",
    "    \n",
    "    # uniformizar termos\n",
    "    patterns = [('wi\\s?.?fi', 'wifi'), \n",
    "                ('2,4', '2.4'), \n",
    "                ('5,8', '5.8')]\n",
    "    for pattern, repl in patterns:\n",
    "        doc = re.sub(pattern, repl, doc)\n",
    "    \n",
    "    stop_words = stopwords.words('portuguese')\n",
    "    stop_words.extend(stopwords.words('english'))\n",
    "    stop_words.extend(list(punctuation))\n",
    "    # stopwords específicas do domínio\n",
    "    stop_words.extend(['cm', 'feature', 'features', 'informações', 'itens', 'leve', 'list', 'nulo', 'package', 'pacote', 'pacotes', 'recurso', 'tamanho', 'ver', 'unidades', 'fio', 'universal'])\n",
    "    # cores mais comumns\n",
    "    stop_words.extend(['preto', 'cinza', 'branco', 'rosa', 'vermelho', 'laranja', 'amarelo', 'verde', 'azul', 'roxo', 'marrom'])\n",
    "    # remover da lista de stopwords a palavra sem para formar o bigrama \"sem fio\", que pode ser relevante para o domínio\n",
    "    # stop_words.remove('sem') \n",
    "    \n",
    "    tokens = [token for token in word_tokenize(doc) if token not in stop_words]\n",
    "    return tokens\n",
    "\n",
    "def doc_cleaner(doc):\n",
    "    tokens = tokenizer(doc)\n",
    "    return ' '.join(tokens) "
   ]
  },
  {
   "cell_type": "markdown",
   "id": "ce5bde4a-70f0-4d17-bb9e-3a07636d3e9d",
   "metadata": {
    "jp-MarkdownHeadingCollapsed": true
   },
   "source": [
    "# Carga e prepação dos dados"
   ]
  },
  {
   "cell_type": "code",
   "execution_count": 4,
   "id": "3c000094-be35-46ee-8686-91e5cf56fc0e",
   "metadata": {},
   "outputs": [
    {
     "ename": "NameError",
     "evalue": "name 'file_cat_sample' is not defined",
     "output_type": "error",
     "traceback": [
      "\u001b[1;31m---------------------------------------------------------------------------\u001b[0m",
      "\u001b[1;31mNameError\u001b[0m                                 Traceback (most recent call last)",
      "Cell \u001b[1;32mIn[4], line 2\u001b[0m\n\u001b[0;32m      1\u001b[0m file_labeled_samples \u001b[38;5;241m=\u001b[39m \u001b[38;5;124m'\u001b[39m\u001b[38;5;124m../datasets/amazon/targets/amazon_labeled_samples.xlsx\u001b[39m\u001b[38;5;124m'\u001b[39m\n\u001b[1;32m----> 2\u001b[0m df_labeled_samples \u001b[38;5;241m=\u001b[39m pd\u001b[38;5;241m.\u001b[39mread_excel(\u001b[43mfile_cat_sample\u001b[49m)\n\u001b[0;32m      4\u001b[0m df_labeled_samples \u001b[38;5;241m=\u001b[39m df_labeled_samples\u001b[38;5;241m.\u001b[39miloc[:,\u001b[38;5;241m-\u001b[39m\u001b[38;5;241m2\u001b[39m:]\n\u001b[0;32m      5\u001b[0m df_labeled_samples \u001b[38;5;241m=\u001b[39m df_labeled_samples\u001b[38;5;241m.\u001b[39mdropna()\n",
      "\u001b[1;31mNameError\u001b[0m: name 'file_cat_sample' is not defined"
     ]
    }
   ],
   "source": [
    "file_labeled_samples = '../datasets/amazon/targets/amazon_labeled_samples.xlsx'\n",
    "df_labeled_samples = pd.read_excel(file_cat_sample)\n",
    "\n",
    "df_labeled_samples = df_labeled_samples.iloc[:,-2:]\n",
    "df_labeled_samples = df_labeled_samples.dropna()\n",
    "df_labeled_samples.columns = ['doc', 'labeled_category']\n",
    "\n",
    "map_telecom_product = {'Antena': 1,  \n",
    "                       'Baterias (eletrônicos em geral)': 0, \n",
    "                       'Cabo (em geral)': 0, \n",
    "                       'Cabo de rede': 1, \n",
    "                       'Câmera sem fio': 1, \n",
    "                       'Carregador de celular': 1,\n",
    "                       'Carregador portátil (powerbank)': 1,\n",
    "                       'Carregador sem fio': 1, \n",
    "                       'Carregadores e fontes (eletrônicos em geral)': 0, \n",
    "                       'Cartão de memória': 0,\n",
    "                       'Desktop/Notebook': 0, \n",
    "                       'Drone': 1, \n",
    "                       'Extensor de vídeo VGA/HDMI': 0, \n",
    "                       'Fone de ouvido sem fio': 1, \n",
    "                       'Hub Switch': 1, \n",
    "                       'Impressora e cartuchos': 0,\n",
    "                       'Microfone sem fio': 1, \n",
    "                       'Modem 3G/4G/WiFi': 1, \n",
    "                       'Outros': 0, \n",
    "                       'Reforçador de sinal de celular': 1, \n",
    "                       'Roteador/Reforçador WiFi': 1, \n",
    "                       'Smart TV': 1,\n",
    "                       'Smartwatch': 1, \n",
    "                       'Tablets': 1, \n",
    "                       'Telefone celular': 1, \n",
    "                       'Transceptor de Radiação Restrita': 1, \n",
    "                       'Transceptor de RF (HF/VHF/UHF)': 1, \n",
    "                       'Transceptor/Conversor SFP': 1, \n",
    "                       'TV Box': 1}\n",
    "\n",
    "map_rf_transmitter = {'Antena': 1,  \n",
    "                      'Baterias (eletrônicos em geral)': 0, \n",
    "                      'Cabo (em geral)': 0, \n",
    "                      'Cabo de rede': 1, \n",
    "                      'Câmera sem fio': 2, \n",
    "                      'Carregador de celular': 1,\n",
    "                      'Carregador portátil (powerbank)': 1,\n",
    "                      'Carregador sem fio': 1, \n",
    "                      'Carregadores e fontes (eletrônicos em geral)': 0, \n",
    "                      'Cartão de memória': 0,\n",
    "                      'Desktop/Notebook': 0, \n",
    "                      'Drone': 2, \n",
    "                      'Extensor de vídeo VGA/HDMI': 0, \n",
    "                      'Fone de ouvido sem fio': 2, \n",
    "                      'Hub Switch': 1, \n",
    "                      'Impressora e cartuchos': 0,\n",
    "                      'Microfone sem fio': 2, \n",
    "                      'Modem 3G/4G/WiFi': 2, \n",
    "                      'Outros': 0,                        \n",
    "                      'Reforçador de sinal de celular': 2, \n",
    "                      'Roteador/Reforçador WiFi': 2, \n",
    "                      'Smart TV': 2,\n",
    "                      'Smartwatch': 2, \n",
    "                      'Tablets': 2, \n",
    "                      'Telefone celular': 2, \n",
    "                      'Transceptor de Radiação Restrita': 2, \n",
    "                      'Transceptor de RF (HF/VHF/UHF)': 2, \n",
    "                      'Transceptor/Conversor SFP': 1, \n",
    "                      'TV Box': 2}\n",
    "\n",
    "df_labeled_samples['telecom_product'] = df_labeled_samples['labeled_category'].map(map_telecom_product)\n",
    "df_labeled_samples['rf_transmitter'] = df_labeled_samples['labeled_category'].map(map_rf_transmitter)\n",
    "\n",
    "map_category_to_int = {category:i for i,category in enumerate(df_labeled_samples.labeled_category.unique())}\n",
    "map_category_to_name = {i:category for category,i in map_category_to_int.items()}\n",
    "df_cat_sample['category'] = df_cat_sample['labeled_category'].map(map_category_to_int)\n",
    "\n",
    "df_cat_sample['clean_doc'] = df_cat_sample.doc.map(doc_cleaner)\n",
    "columns_to_keep = ['doc', 'clean_doc', 'labeled_category', 'telecom_product', 'rf_transmitter', 'category']\n",
    "df_cat_sample = df_cat_sample[columns_to_keep]\n",
    "\n",
    "df_cat_sample"
   ]
  },
  {
   "cell_type": "markdown",
   "id": "ad603cb3-32e3-40b5-80a1-42acf5b581d8",
   "metadata": {},
   "source": [
    "# Análise\n",
    "\n",
    "Experimento de classificação simples: uma pequena amostra de anúncios foi rotulada manual para ser submetida a algoritmos de classificação para verificação dos resultados iniciais."
   ]
  },
  {
   "cell_type": "markdown",
   "id": "f99e0576-71a7-4898-b242-0b1242d15326",
   "metadata": {},
   "source": [
    "## Classificação binária"
   ]
  },
  {
   "cell_type": "markdown",
   "id": "0cdac117-9d00-4e76-9e6a-ae0529ad7ae7",
   "metadata": {},
   "source": [
    "### Produtos de telecomunicações x Outros"
   ]
  },
  {
   "cell_type": "code",
   "execution_count": null,
   "id": "4f1a4620-22b1-4f0d-b370-95d4bf1fb0a3",
   "metadata": {},
   "outputs": [],
   "source": [
    "X = df_cat_sample['doc']\n",
    "y = df_cat_sample['telecom_product']\n",
    "target_names = ['Produtos comuns', 'Produtos de telecomunicações']\n",
    "\n",
    "X_train, X_test, y_train, y_test = train_test_split(X, y, test_size=0.25, random_state=724)"
   ]
  },
  {
   "cell_type": "code",
   "execution_count": null,
   "id": "8da12c65-0565-47e9-9a95-b890a9646d86",
   "metadata": {},
   "outputs": [],
   "source": [
    "tfidf_vectorizer = TfidfVectorizer(tokenizer=tokenizer)\n",
    "X_train_tfidf = tfidf_vectorizer.fit_transform(X_train)\n",
    "X_test_tfidf = tfidf_vectorizer.transform(X_test)"
   ]
  },
  {
   "cell_type": "code",
   "execution_count": null,
   "id": "4ba656e3-3fc1-4825-b9c9-4af6f56697d3",
   "metadata": {},
   "outputs": [],
   "source": [
    "clf_dummy = DummyClassifier()\n",
    "clf_dummy.fit(X_train_tfidf,y_train)\n",
    "predicted = clf_dummy.predict(X_test_tfidf)\n",
    "\n",
    "print('Accuracy of Dummy classifier on training set: {:.2f}'\n",
    "     .format(clf_dummy.score(X_train, y_train)))\n",
    "print('Accuracy of Dummy classifier on test set: {:.2f}'\n",
    "     .format(clf_dummy.score(X_test, y_test)))\n",
    "\n",
    "print(classification_report(y_test, predicted, target_names=target_names))"
   ]
  },
  {
   "cell_type": "code",
   "execution_count": null,
   "id": "2204687d-9825-4188-92ae-6c84acdbb84a",
   "metadata": {},
   "outputs": [],
   "source": [
    "clf_sgd = SGDClassifier(loss='log_loss', penalty='l2',\n",
    "                        alpha=1e-3, random_state=42,\n",
    "                        max_iter=5, tol=None)\n",
    "\n",
    "clf_sgd.fit(X_train_tfidf, y_train)\n",
    "predicted = clf_sgd.predict(X_test_tfidf)\n",
    "\n",
    "print('Accuracy of SGD classifier on training set: {:.3f}'\n",
    "     .format(clf_sgd.score(X_train_tfidf, y_train)))\n",
    "print('Accuracy of SGD classifier on test set: {:.3f}'\n",
    "     .format(clf_sgd.score(X_test_tfidf, y_test)))\n",
    "print('AUC of SGD classifier on test set: {:.3f}'\n",
    "     .format(roc_auc_score(y_test,clf_sgd.predict_proba(X_test_tfidf)[:,1])))\n",
    "print()\n",
    "print(classification_report(y_test, predicted, target_names=target_names))"
   ]
  },
  {
   "cell_type": "markdown",
   "id": "e0a2e6b9-cfce-46fa-8a8f-bbe7e3ca6d2c",
   "metadata": {},
   "source": [
    "$Precision = \\frac{TP}{TP+FP}$ quanto maior, menor a quantidade de falsos positivos\n",
    "\n",
    "$Recall = \\frac{TP}{TP+FN}$ quanto maior, menor a quantidade de falsos negativos"
   ]
  },
  {
   "cell_type": "code",
   "execution_count": null,
   "id": "1a232f21-0781-4142-8abc-7be8d32fd421",
   "metadata": {},
   "outputs": [],
   "source": [
    "from sklearn.linear_model import LogisticRegression\n",
    "\n",
    "clf_lgr = LogisticRegression()\n",
    "\n",
    "clf_lgr.fit(X_train_tfidf, y_train)\n",
    "predicted = clf_lgr.predict(X_test_tfidf)\n",
    "\n",
    "print('Accuracy of SGD classifier on training set: {:.3f}'\n",
    "     .format(clf_lgr.score(X_train_tfidf, y_train)))\n",
    "print('Accuracy of SGD classifier on test set: {:.3f}'\n",
    "     .format(clf_lgr.score(X_test_tfidf, y_test)))\n",
    "print('AUC of SGD classifier on test set: {:.3f}'\n",
    "     .format(roc_auc_score(y_test,clf_lgr.predict_proba(X_test_tfidf)[:,1])))\n",
    "print()\n",
    "print(classification_report(y_test, predicted, target_names=target_names))"
   ]
  },
  {
   "cell_type": "code",
   "execution_count": null,
   "id": "2177aa1a-6374-4763-846c-9527f38f4dfb",
   "metadata": {},
   "outputs": [],
   "source": [
    "pipe_sgd = Pipeline([('tfidf',TfidfVectorizer(tokenizer=tokenizer,ngram_range=(1,2))),\n",
    "                     ('clf', SGDClassifier(alpha=1e-5, \n",
    "                                           loss='hinge', \n",
    "                                           max_iter=100, \n",
    "                                           penalty='l2', \n",
    "                                           random_state=42, \n",
    "                                           tol=None))])\n",
    "pipe_sgd.fit(X_train,y_train)\n",
    "predicted = pipe_sgd.predict(X_test)\n",
    "\n",
    "print('Accuracy of SGD classifier on training set: {:.3f}'\n",
    "     .format(pipe_sgd.score(X_train, y_train)))\n",
    "print('Accuracy of SGD classifier on test set: {:.3f}'\n",
    "     .format(pipe_sgd.score(X_test, y_test)))\n",
    "print('AUC of SGD classifier on test set: {:.3f}'\n",
    "     .format(roc_auc_score(y_test,pipe_sgd.decision_function(X_test))))\n",
    "print()\n",
    "print(classification_report(y_test, predicted, target_names=target_names))"
   ]
  },
  {
   "cell_type": "code",
   "execution_count": null,
   "id": "fc40ba54-3eae-44d9-ac7b-611534777bdf",
   "metadata": {},
   "outputs": [],
   "source": [
    "# modelo anterior aparentemente overfitting, reduzir alpha\n",
    "pipe_sgd = Pipeline([('tfidf',TfidfVectorizer(tokenizer=tokenizer,ngram_range=(1,2))),\n",
    "                     ('clf', SGDClassifier(alpha=1e-3, \n",
    "                                           loss='hinge', \n",
    "                                           max_iter=100, \n",
    "                                           penalty='l2', \n",
    "                                           random_state=42, \n",
    "                                           tol=None))])\n",
    "\n",
    "pipe_sgd.fit(X_train,y_train)\n",
    "predicted = pipe_sgd.predict(X_test)\n",
    "\n",
    "print('Accuracy of SGD classifier on training set: {:.3f}'\n",
    "     .format(pipe_sgd.score(X_train, y_train)))\n",
    "print('Accuracy of SGD classifier on test set: {:.3f}'\n",
    "     .format(pipe_sgd.score(X_test, y_test)))\n",
    "print('AUC of SGD classifier on test set: {:.3f}'\n",
    "     .format(roc_auc_score(y_test,pipe_sgd.decision_function(X_test))))\n",
    "print()\n",
    "print(classification_report(y_test, predicted, target_names=target_names))"
   ]
  },
  {
   "cell_type": "markdown",
   "id": "1fb1429f-785f-4330-952d-f90190416df9",
   "metadata": {},
   "source": [
    "### Produtos transmissores de RF x Outros"
   ]
  },
  {
   "cell_type": "code",
   "execution_count": null,
   "id": "6eafd047-1657-4aea-a9d3-c273df880709",
   "metadata": {},
   "outputs": [],
   "source": [
    "map_rf_transmitter = {0: 0, 1: 0, 2: 1}\n",
    "X = df_cat_sample['doc']\n",
    "y = df_cat_sample['rf_transmitter'].map(map_rf_transmitter)\n",
    "\n",
    "target_names = ['Produtos comuns', 'Produtos transmissores de RF']\n",
    "\n",
    "X_train, X_test, y_train, y_test = train_test_split(X, y, test_size=0.25, random_state=724)\n",
    "\n",
    "pipe_sgd_rf = Pipeline([('tfidf',TfidfVectorizer(tokenizer=tokenizer,ngram_range=(1,2))),\n",
    "                        ('clf', SGDClassifier(alpha=1e-3, \n",
    "                                              loss='hinge', \n",
    "                                              max_iter=100, \n",
    "                                              penalty='l2', \n",
    "                                              random_state=42, \n",
    "                                              tol=None))])\n",
    "\n",
    "pipe_sgd_rf.fit(X_train,y_train)\n",
    "predicted = pipe_sgd_rf.predict(X_test)\n",
    "\n",
    "print('Accuracy of SGD classifier on training set: {:.3f}'\n",
    "     .format(pipe_sgd_rf.score(X_train, y_train)))\n",
    "print('Accuracy of SGD classifier on test set: {:.3f}'\n",
    "     .format(pipe_sgd_rf.score(X_test, y_test)))\n",
    "print('AUC of SGD classifier on test set: {:.3f}'\n",
    "     .format(roc_auc_score(y_test,pipe_sgd_rf.decision_function(X_test))))\n",
    "print()\n",
    "print(classification_report(y_test, predicted, target_names=target_names))"
   ]
  },
  {
   "cell_type": "markdown",
   "id": "840fe814-e182-4948-b06c-c54d5e39b582",
   "metadata": {},
   "source": [
    "## Classificação em 3 classes"
   ]
  },
  {
   "cell_type": "code",
   "execution_count": null,
   "id": "f6635a1c-aad3-4eeb-9e5f-bc2a91a9191a",
   "metadata": {},
   "outputs": [],
   "source": [
    "X = df_cat_sample['doc']\n",
    "y = df_cat_sample['rf_transmitter']\n",
    "target_names = ['Produtos comuns', 'Produtos de telecomunicações', 'Transmissores de RF']\n",
    "\n",
    "X_train, X_test, y_train, y_test = train_test_split(X, y, test_size=0.25, random_state=724)"
   ]
  },
  {
   "cell_type": "code",
   "execution_count": null,
   "id": "adc51d81-407a-4e99-9c54-e8c339c5fd50",
   "metadata": {},
   "outputs": [],
   "source": [
    "tfidf_vectorizer = TfidfVectorizer(tokenizer=tokenizer)\n",
    "X_train_tfidf = tfidf_vectorizer.fit_transform(X_train)\n",
    "X_test_tfidf = tfidf_vectorizer.transform(X_test)"
   ]
  },
  {
   "cell_type": "code",
   "execution_count": null,
   "id": "21aab775",
   "metadata": {},
   "outputs": [],
   "source": [
    "clf_dummy = DummyClassifier()\n",
    "clf_dummy.fit(X_train_tfidf,y_train)\n",
    "predicted = clf_dummy.predict(X_test_tfidf)\n",
    "\n",
    "print('Accuracy of Dummy classifier on training set: {:.2f}'\n",
    "     .format(clf_dummy.score(X_train_tfidf, y_train)))\n",
    "print('Accuracy of Dummy classifier on test set: {:.2f}'\n",
    "     .format(clf_dummy.score(X_test_tfidf, y_test)))\n",
    "\n",
    "print(classification_report(y_test, predicted, target_names=target_names))"
   ]
  },
  {
   "cell_type": "code",
   "execution_count": null,
   "id": "5e6f2019",
   "metadata": {},
   "outputs": [],
   "source": [
    "clf_sgd = SGDClassifier(loss='hinge', penalty='l2',\n",
    "                        alpha=1e-3, random_state=42,\n",
    "                        max_iter=5, tol=None)\n",
    "\n",
    "clf_sgd.fit(X_train_tfidf, y_train)\n",
    "predicted = clf_sgd.predict(X_test_tfidf)\n",
    "\n",
    "print('Accuracy of SGD classifier on training set: {:.2f}'\n",
    "     .format(clf_sgd.score(X_train_tfidf, y_train)))\n",
    "print('Accuracy of SGD classifier on test set: {:.2f}'\n",
    "     .format(clf_sgd.score(X_test_tfidf, y_test)))\n",
    "\n",
    "print(classification_report(y_test, predicted, target_names=target_names))"
   ]
  },
  {
   "cell_type": "code",
   "execution_count": null,
   "id": "c9e06f3e-f6ba-4b6b-a12e-709e5f66901e",
   "metadata": {},
   "outputs": [],
   "source": [
    "clf_lgr = LogisticRegression()\n",
    "\n",
    "clf_lgr.fit(X_train_tfidf, y_train)\n",
    "predicted = clf_lgr.predict(X_test_tfidf)\n",
    "\n",
    "print('Accuracy of SGD classifier on training set: {:.2f}'\n",
    "     .format(clf_lgr.score(X_train_tfidf, y_train)))\n",
    "print('Accuracy of SGD classifier on test set: {:.2f}'\n",
    "     .format(clf_lgr.score(X_test_tfidf, y_test)))\n",
    "\n",
    "print(classification_report(y_test, predicted, target_names=target_names))"
   ]
  },
  {
   "cell_type": "markdown",
   "id": "9516314f-283d-4e31-9cf7-8b5723701137",
   "metadata": {},
   "source": [
    "# Conclusão\n",
    "\n",
    "Deste experimento extrai-se a viabilidade de construção de um classificador para identificar os produtos para telecomunicações (classificação binária)."
   ]
  }
 ],
 "metadata": {
  "kernelspec": {
   "display_name": "Python 3 (ipykernel)",
   "language": "python",
   "name": "python3"
  },
  "language_info": {
   "codemirror_mode": {
    "name": "ipython",
    "version": 3
   },
   "file_extension": ".py",
   "mimetype": "text/x-python",
   "name": "python",
   "nbconvert_exporter": "python",
   "pygments_lexer": "ipython3",
   "version": "3.10.12"
  }
 },
 "nbformat": 4,
 "nbformat_minor": 5
}
