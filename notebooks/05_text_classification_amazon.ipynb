{
 "cells": [
  {
   "cell_type": "markdown",
   "id": "b47312c8-4a73-4aa3-b614-7b43580fa498",
   "metadata": {},
   "source": [
    "# Preparação do ambiente"
   ]
  },
  {
   "cell_type": "markdown",
   "id": "25fa99ec-c912-4433-9ec0-0da4b4f6635f",
   "metadata": {},
   "source": [
    "## Bibliotecas"
   ]
  },
  {
   "cell_type": "code",
   "execution_count": 1,
   "id": "52989da2-a5e5-4fad-93a3-36f9d9462161",
   "metadata": {},
   "outputs": [],
   "source": [
    "import numpy as np\n",
    "import pandas as pd\n",
    "\n",
    "from sklearn.dummy import DummyClassifier\n",
    "from sklearn.ensemble import AdaBoostClassifier, RandomForestClassifier\n",
    "\n",
    "from sklearn.feature_extraction.text import CountVectorizer, TfidfTransformer, TfidfVectorizer\n",
    "from sklearn.linear_model import SGDClassifier\n",
    "from sklearn.metrics import confusion_matrix\n",
    "from sklearn.model_selection import GridSearchCV\n",
    "from sklearn.model_selection import train_test_split\n",
    "from sklearn.naive_bayes import MultinomialNB\n",
    "from sklearn.pipeline import Pipeline\n",
    "from sklearn.tree import DecisionTreeClassifier\n",
    "\n",
    "from tabulate import tabulate"
   ]
  },
  {
   "cell_type": "markdown",
   "id": "eeab38bd-bfd7-4c13-9344-f2ff45111801",
   "metadata": {},
   "source": [
    "## Constantes e funções auxiliares"
   ]
  },
  {
   "cell_type": "code",
   "execution_count": 2,
   "id": "ea62814d-fde8-4327-84a3-34f80b5cc317",
   "metadata": {},
   "outputs": [],
   "source": [
    "FILE_AMAZON_CLEAN_TARGETS = '../datasets/regulatron_legacy/clean/amazon_clean_targets.parquet'"
   ]
  },
  {
   "cell_type": "markdown",
   "id": "ce5bde4a-70f0-4d17-bb9e-3a07636d3e9d",
   "metadata": {},
   "source": [
    "# Carga e prepação dos dados"
   ]
  },
  {
   "cell_type": "code",
   "execution_count": 3,
   "id": "3c000094-be35-46ee-8686-91e5cf56fc0e",
   "metadata": {},
   "outputs": [
    {
     "data": {
      "text/html": [
       "<div>\n",
       "<style scoped>\n",
       "    .dataframe tbody tr th:only-of-type {\n",
       "        vertical-align: middle;\n",
       "    }\n",
       "\n",
       "    .dataframe tbody tr th {\n",
       "        vertical-align: top;\n",
       "    }\n",
       "\n",
       "    .dataframe thead th {\n",
       "        text-align: right;\n",
       "    }\n",
       "</style>\n",
       "<table border=\"1\" class=\"dataframe\">\n",
       "  <thead>\n",
       "    <tr style=\"text-align: right;\">\n",
       "      <th></th>\n",
       "      <th>Link</th>\n",
       "      <th>nome</th>\n",
       "      <th>descricao</th>\n",
       "      <th>cat_full</th>\n",
       "      <th>target</th>\n",
       "      <th>target_int</th>\n",
       "    </tr>\n",
       "  </thead>\n",
       "  <tbody>\n",
       "    <tr>\n",
       "      <th>0</th>\n",
       "      <td>https://www.amazon.com.br/Especiais-Cinematic-...</td>\n",
       "      <td>filtro lente efeitos especiais blue streak cam...</td>\n",
       "      <td>modelo aplicavel filtro listras azuis adequado...</td>\n",
       "      <td>Eletrônicos e Tecnologia|Câmeras e Foto|Acessó...</td>\n",
       "      <td>Outros</td>\n",
       "      <td>0</td>\n",
       "    </tr>\n",
       "    <tr>\n",
       "      <th>1</th>\n",
       "      <td>https://www.amazon.com.br/Motores-Escova-Conju...</td>\n",
       "      <td>motores escova 4 conjuntos motores escova dron...</td>\n",
       "      <td>fonte alimentacao motor escova drone rc suport...</td>\n",
       "      <td>Eletrônicos e Tecnologia|Câmeras e Foto|Acessó...</td>\n",
       "      <td>Outros</td>\n",
       "      <td>0</td>\n",
       "    </tr>\n",
       "    <tr>\n",
       "      <th>2</th>\n",
       "      <td>https://www.amazon.com.br/Armazenamento-Protet...</td>\n",
       "      <td>bolsa armazenamento protetora drone capa rigid...</td>\n",
       "      <td>valvula alivio pressao equipada valvula equili...</td>\n",
       "      <td>Brinquedos e Jogos|Brinquedos de Controle Remo...</td>\n",
       "      <td>Outros</td>\n",
       "      <td>0</td>\n",
       "    </tr>\n",
       "    <tr>\n",
       "      <th>3</th>\n",
       "      <td>https://www.amazon.com.br/EQUSS-V-strom-Motoci...</td>\n",
       "      <td>equss ducati dl650 dl1000 v-strom dl 650 1000 ...</td>\n",
       "      <td>super grip design criativo quatro suportes sao...</td>\n",
       "      <td>Eletrônicos e Tecnologia|Câmeras e Foto|Acessó...</td>\n",
       "      <td>Outros</td>\n",
       "      <td>0</td>\n",
       "    </tr>\n",
       "    <tr>\n",
       "      <th>4</th>\n",
       "      <td>https://www.amazon.com.br/remote-control-brush...</td>\n",
       "      <td>remote control car brushless motor servo kit r...</td>\n",
       "      <td></td>\n",
       "      <td>Eletrônicos e Tecnologia|Câmeras e Foto|Acessó...</td>\n",
       "      <td>Outros</td>\n",
       "      <td>0</td>\n",
       "    </tr>\n",
       "    <tr>\n",
       "      <th>...</th>\n",
       "      <td>...</td>\n",
       "      <td>...</td>\n",
       "      <td>...</td>\n",
       "      <td>...</td>\n",
       "      <td>...</td>\n",
       "      <td>...</td>\n",
       "    </tr>\n",
       "    <tr>\n",
       "      <th>51371</th>\n",
       "      <td>https://www.amazon.com.br/Fotografia-Quadcopte...</td>\n",
       "      <td>mini drone bolso hd folding fotografia aerea q...</td>\n",
       "      <td>experimente beleza mundo drone possui camera 6...</td>\n",
       "      <td>Eletrônicos e Tecnologia|Câmeras e Foto|Acessó...</td>\n",
       "      <td>Outros</td>\n",
       "      <td>0</td>\n",
       "    </tr>\n",
       "    <tr>\n",
       "      <th>51372</th>\n",
       "      <td>https://www.amazon.com.br/YITRE-Carregador-Eme...</td>\n",
       "      <td>yitre mini carregador portatil 2 1 carregador ...</td>\n",
       "      <td></td>\n",
       "      <td>Eletrônicos e Tecnologia|Celulares e Comunicaç...</td>\n",
       "      <td>Carregadores</td>\n",
       "      <td>3</td>\n",
       "    </tr>\n",
       "    <tr>\n",
       "      <th>51373</th>\n",
       "      <td>https://www.amazon.com.br/reforço-Amplificador...</td>\n",
       "      <td>kit reforco sinal kit reforco sinal amplificad...</td>\n",
       "      <td></td>\n",
       "      <td>Computadores e Informática|Dispositivos de Con...</td>\n",
       "      <td>Dispositivos de Conexão em Rede</td>\n",
       "      <td>4</td>\n",
       "    </tr>\n",
       "    <tr>\n",
       "      <th>51374</th>\n",
       "      <td>https://www.amazon.com.br/Hosioe-Altitude-Qudc...</td>\n",
       "      <td>hosioe ls-xt6 rc drone mini drone 6 eixos gyro...</td>\n",
       "      <td>funcao cima baixo frente tras virar esquerda d...</td>\n",
       "      <td>Eletrônicos e Tecnologia|Câmeras e Foto|Acessó...</td>\n",
       "      <td>Outros</td>\n",
       "      <td>0</td>\n",
       "    </tr>\n",
       "    <tr>\n",
       "      <th>51375</th>\n",
       "      <td>https://www.amazon.com.br/Livros-Treinando-Ort...</td>\n",
       "      <td>kit 4 livros treinando ortografia nivel 1 2 3 ...</td>\n",
       "      <td></td>\n",
       "      <td>Livros|Educação, Referência e Didáticos|#NULO#...</td>\n",
       "      <td>Outros</td>\n",
       "      <td>0</td>\n",
       "    </tr>\n",
       "  </tbody>\n",
       "</table>\n",
       "<p>51376 rows × 6 columns</p>\n",
       "</div>"
      ],
      "text/plain": [
       "                                                    Link  \\\n",
       "0      https://www.amazon.com.br/Especiais-Cinematic-...   \n",
       "1      https://www.amazon.com.br/Motores-Escova-Conju...   \n",
       "2      https://www.amazon.com.br/Armazenamento-Protet...   \n",
       "3      https://www.amazon.com.br/EQUSS-V-strom-Motoci...   \n",
       "4      https://www.amazon.com.br/remote-control-brush...   \n",
       "...                                                  ...   \n",
       "51371  https://www.amazon.com.br/Fotografia-Quadcopte...   \n",
       "51372  https://www.amazon.com.br/YITRE-Carregador-Eme...   \n",
       "51373  https://www.amazon.com.br/reforço-Amplificador...   \n",
       "51374  https://www.amazon.com.br/Hosioe-Altitude-Qudc...   \n",
       "51375  https://www.amazon.com.br/Livros-Treinando-Ort...   \n",
       "\n",
       "                                                    nome  \\\n",
       "0      filtro lente efeitos especiais blue streak cam...   \n",
       "1      motores escova 4 conjuntos motores escova dron...   \n",
       "2      bolsa armazenamento protetora drone capa rigid...   \n",
       "3      equss ducati dl650 dl1000 v-strom dl 650 1000 ...   \n",
       "4      remote control car brushless motor servo kit r...   \n",
       "...                                                  ...   \n",
       "51371  mini drone bolso hd folding fotografia aerea q...   \n",
       "51372  yitre mini carregador portatil 2 1 carregador ...   \n",
       "51373  kit reforco sinal kit reforco sinal amplificad...   \n",
       "51374  hosioe ls-xt6 rc drone mini drone 6 eixos gyro...   \n",
       "51375  kit 4 livros treinando ortografia nivel 1 2 3 ...   \n",
       "\n",
       "                                               descricao  \\\n",
       "0      modelo aplicavel filtro listras azuis adequado...   \n",
       "1      fonte alimentacao motor escova drone rc suport...   \n",
       "2      valvula alivio pressao equipada valvula equili...   \n",
       "3      super grip design criativo quatro suportes sao...   \n",
       "4                                                          \n",
       "...                                                  ...   \n",
       "51371  experimente beleza mundo drone possui camera 6...   \n",
       "51372                                                      \n",
       "51373                                                      \n",
       "51374  funcao cima baixo frente tras virar esquerda d...   \n",
       "51375                                                      \n",
       "\n",
       "                                                cat_full  \\\n",
       "0      Eletrônicos e Tecnologia|Câmeras e Foto|Acessó...   \n",
       "1      Eletrônicos e Tecnologia|Câmeras e Foto|Acessó...   \n",
       "2      Brinquedos e Jogos|Brinquedos de Controle Remo...   \n",
       "3      Eletrônicos e Tecnologia|Câmeras e Foto|Acessó...   \n",
       "4      Eletrônicos e Tecnologia|Câmeras e Foto|Acessó...   \n",
       "...                                                  ...   \n",
       "51371  Eletrônicos e Tecnologia|Câmeras e Foto|Acessó...   \n",
       "51372  Eletrônicos e Tecnologia|Celulares e Comunicaç...   \n",
       "51373  Computadores e Informática|Dispositivos de Con...   \n",
       "51374  Eletrônicos e Tecnologia|Câmeras e Foto|Acessó...   \n",
       "51375  Livros|Educação, Referência e Didáticos|#NULO#...   \n",
       "\n",
       "                                target  target_int  \n",
       "0                               Outros           0  \n",
       "1                               Outros           0  \n",
       "2                               Outros           0  \n",
       "3                               Outros           0  \n",
       "4                               Outros           0  \n",
       "...                                ...         ...  \n",
       "51371                           Outros           0  \n",
       "51372                     Carregadores           3  \n",
       "51373  Dispositivos de Conexão em Rede           4  \n",
       "51374                           Outros           0  \n",
       "51375                           Outros           0  \n",
       "\n",
       "[51376 rows x 6 columns]"
      ]
     },
     "execution_count": 3,
     "metadata": {},
     "output_type": "execute_result"
    }
   ],
   "source": [
    "df_amazon_clean_targets = pd.read_parquet(FILE_AMAZON_CLEAN_TARGETS)\n",
    "\n",
    "unique_targets = df_amazon_clean_targets.target.value_counts().index\n",
    "map_targets_name_to_int = {target:i for i,target in enumerate(unique_targets)}\n",
    "map_targets_int_to_name = {k:v for v,k in map_targets_name_to_int.items()}\n",
    "\n",
    "df_amazon_clean_targets['target_int'] = df_amazon_clean_targets['target'].map(map_targets_name_to_int)\n",
    "\n",
    "df_amazon_clean_targets"
   ]
  },
  {
   "cell_type": "code",
   "execution_count": 4,
   "id": "45aebdd8-543b-42d0-82f2-f24c1a6fb8c6",
   "metadata": {},
   "outputs": [
    {
     "data": {
      "text/plain": [
       "array(['Eletrônicos e Tecnologia|Celulares e Comunicação|Acessórios|Manutenção e Reparos|Peças de Reposição|#NULO#',\n",
       "       'Computadores e Informática|Acessórios|Cabos e Acessórios|Cabos|Cabos USB|#NULO#',\n",
       "       'Eletrônicos e Tecnologia|Celulares e Comunicação|Acessórios|Manutenção e Reparos|Ferramentas e Acessórios de Chip|#NULO#'],\n",
       "      dtype=object)"
      ]
     },
     "execution_count": 4,
     "metadata": {},
     "output_type": "execute_result"
    }
   ],
   "source": [
    "df_amazon_clean_targets[df_amazon_clean_targets['nome'].str.contains('shuguo')]['cat_full'].unique()"
   ]
  },
  {
   "cell_type": "code",
   "execution_count": 5,
   "id": "46e61c4b-d45f-4abb-a3a9-5f169f2b47c3",
   "metadata": {},
   "outputs": [],
   "source": [
    "# X_outros = df_amazon_clean_targets[df_amazon_clean_targets['target_int']==0]['nome']\n",
    "# y_outros = df_amazon_clean_targets[df_amazon_clean_targets['target_int']==0]['target_int']\n",
    "\n",
    "# X = df_amazon_clean_targets[df_amazon_clean_targets['target_int']>0]['nome']\n",
    "# y = df_amazon_clean_targets[df_amazon_clean_targets['target_int']>0]['target_int']\n",
    "\n",
    "X = df_amazon_clean_targets['nome']\n",
    "y = df_amazon_clean_targets['target_int']\n",
    "\n",
    "X_train, X_test, y_train, y_test = train_test_split(X, y, test_size=0.25, random_state=724)"
   ]
  },
  {
   "cell_type": "markdown",
   "id": "ad603cb3-32e3-40b5-80a1-42acf5b581d8",
   "metadata": {},
   "source": [
    "# Experimentos"
   ]
  },
  {
   "cell_type": "markdown",
   "id": "e70a644a-33d2-45e6-bbc3-5dcfdb42cd55",
   "metadata": {},
   "source": [
    "## Classificador base"
   ]
  },
  {
   "cell_type": "code",
   "execution_count": 12,
   "id": "e32ca556-ce77-4d7d-9433-dcde82ab8516",
   "metadata": {},
   "outputs": [],
   "source": [
    "base_classifier = {}"
   ]
  },
  {
   "cell_type": "code",
   "execution_count": 13,
   "id": "a5d9f749-ad8e-4c2b-ada8-7393542b81f9",
   "metadata": {},
   "outputs": [
    {
     "data": {
      "text/plain": [
       "0.5765337900965432"
      ]
     },
     "execution_count": 13,
     "metadata": {},
     "output_type": "execute_result"
    }
   ],
   "source": [
    "clf_dummy = Pipeline([('vect', CountVectorizer()),('tfidf', TfidfTransformer()),('clf', DummyClassifier())])\n",
    "clf_dummy.fit(X_train,y_train)\n",
    "predicted = clf_dummy.predict(X_test)\n",
    "base_classifier['Dummy'] = np.mean(predicted == y_test)\n",
    "base_classifier['Dummy']"
   ]
  },
  {
   "cell_type": "code",
   "execution_count": 14,
   "id": "5d1305ee-1c38-4542-a5d8-a827ec4c82a2",
   "metadata": {},
   "outputs": [
    {
     "data": {
      "text/plain": [
       "0.7643257552164435"
      ]
     },
     "execution_count": 14,
     "metadata": {},
     "output_type": "execute_result"
    }
   ],
   "source": [
    "clf_nb = Pipeline([('vect', CountVectorizer()),('tfidf', TfidfTransformer()),('clf', MultinomialNB())])\n",
    "clf_nb.fit(X_train,y_train)\n",
    "\n",
    "predicted = clf_nb.predict(X_test)\n",
    "base_classifier['MultinomialNB'] = np.mean(predicted == y_test)\n",
    "base_classifier['MultinomialNB']"
   ]
  },
  {
   "cell_type": "code",
   "execution_count": 15,
   "id": "960893ae-d206-42b6-a3c4-04b8d6499804",
   "metadata": {},
   "outputs": [
    {
     "data": {
      "text/plain": [
       "0.8006072874493927"
      ]
     },
     "execution_count": 15,
     "metadata": {},
     "output_type": "execute_result"
    }
   ],
   "source": [
    "clf_sgd = Pipeline([\n",
    "    ('vect', CountVectorizer()),\n",
    "    ('tfidf', TfidfTransformer()),\n",
    "    ('clf', SGDClassifier(loss='hinge', penalty='l2',\n",
    "                          alpha=1e-3, random_state=42,\n",
    "                          max_iter=5, tol=None)),\n",
    "])\n",
    "\n",
    "clf_sgd.fit(X_train, y_train)\n",
    "predicted = clf_sgd.predict(X_test)\n",
    "base_classifier['SGDClassifier'] = np.mean(predicted == y_test)\n",
    "base_classifier['SGDClassifier']"
   ]
  },
  {
   "cell_type": "code",
   "execution_count": 16,
   "id": "6a8cdcff-025d-4639-9f12-81bb3710d442",
   "metadata": {},
   "outputs": [
    {
     "data": {
      "text/plain": [
       "0.770242914979757"
      ]
     },
     "execution_count": 16,
     "metadata": {},
     "output_type": "execute_result"
    }
   ],
   "source": [
    "clf_tree = Pipeline([\n",
    "    ('vect', CountVectorizer()),\n",
    "    ('tfidf', TfidfTransformer()),\n",
    "    ('clf', DecisionTreeClassifier(max_depth=15, random_state=42)),\n",
    "])\n",
    "\n",
    "clf_tree.fit(X_train, y_train)\n",
    "predicted = clf_tree.predict(X_test)\n",
    "base_classifier['DecisionTreeClassifier'] = np.mean(predicted == y_test)\n",
    "base_classifier['DecisionTreeClassifier']"
   ]
  },
  {
   "cell_type": "code",
   "execution_count": 17,
   "id": "ed3d21ab-b550-42e7-aca9-f05a71e5027b",
   "metadata": {},
   "outputs": [
    {
     "data": {
      "text/plain": [
       "0.5765337900965432"
      ]
     },
     "execution_count": 17,
     "metadata": {},
     "output_type": "execute_result"
    }
   ],
   "source": [
    "clf_rf = Pipeline([\n",
    "    ('vect', CountVectorizer()),\n",
    "    ('tfidf', TfidfTransformer()),\n",
    "    ('clf', RandomForestClassifier(max_depth=15, n_estimators=10, max_features=1, random_state=42)),\n",
    "])\n",
    "\n",
    "clf_rf.fit(X_train, y_train)\n",
    "predicted = clf_rf.predict(X_test)\n",
    "base_classifier['RandomForestClassifier'] = np.mean(predicted == y_test)\n",
    "base_classifier['RandomForestClassifier'] "
   ]
  },
  {
   "cell_type": "code",
   "execution_count": 18,
   "id": "b97ae227-34d4-4606-b60b-935da63e06ac",
   "metadata": {},
   "outputs": [
    {
     "data": {
      "text/plain": [
       "0.7269542198691996"
      ]
     },
     "execution_count": 18,
     "metadata": {},
     "output_type": "execute_result"
    }
   ],
   "source": [
    "weak_learner = DecisionTreeClassifier(max_leaf_nodes=8)\n",
    "n_estimators = 300\n",
    "clf_ada = Pipeline([\n",
    "    ('vect', CountVectorizer()),\n",
    "    ('tfidf', TfidfTransformer()),\n",
    "    ('clf', AdaBoostClassifier(\n",
    "    estimator=weak_learner,\n",
    "    n_estimators=n_estimators,\n",
    "    algorithm=\"SAMME\",\n",
    "    random_state=42,))])\n",
    "\n",
    "clf_ada.fit(X_train, y_train)\n",
    "predicted = clf_ada.predict(X_test)\n",
    "base_classifier['AdaBoostClassifier'] = np.mean(predicted == y_test)\n",
    "base_classifier['AdaBoostClassifier'] "
   ]
  },
  {
   "cell_type": "code",
   "execution_count": 32,
   "id": "ca1256ff-e945-499b-bfb0-416a576403a8",
   "metadata": {},
   "outputs": [
    {
     "data": {
      "text/plain": [
       "{'Dummy': 0.5765337900965432,\n",
       " 'MultinomialNB': 0.7643257552164435,\n",
       " 'SGDClassifier': 0.8006072874493927,\n",
       " 'DecisionTreeClassifier': 0.770242914979757,\n",
       " 'RandomForestClassifier': 0.5765337900965432,\n",
       " 'AdaBoostClassifier': 0.7269542198691996}"
      ]
     },
     "execution_count": 32,
     "metadata": {},
     "output_type": "execute_result"
    }
   ],
   "source": [
    "base_classifier"
   ]
  },
  {
   "cell_type": "code",
   "execution_count": 44,
   "id": "afb868e8-e913-4ae6-b147-863b5b989afa",
   "metadata": {},
   "outputs": [
    {
     "data": {
      "text/html": [
       "<div>\n",
       "<style scoped>\n",
       "    .dataframe tbody tr th:only-of-type {\n",
       "        vertical-align: middle;\n",
       "    }\n",
       "\n",
       "    .dataframe tbody tr th {\n",
       "        vertical-align: top;\n",
       "    }\n",
       "\n",
       "    .dataframe thead th {\n",
       "        text-align: right;\n",
       "    }\n",
       "</style>\n",
       "<table border=\"1\" class=\"dataframe\">\n",
       "  <thead>\n",
       "    <tr style=\"text-align: right;\">\n",
       "      <th></th>\n",
       "      <th>Accuracy</th>\n",
       "    </tr>\n",
       "  </thead>\n",
       "  <tbody>\n",
       "    <tr>\n",
       "      <th>SGDClassifier</th>\n",
       "      <td>0.800607</td>\n",
       "    </tr>\n",
       "    <tr>\n",
       "      <th>DecisionTreeClassifier</th>\n",
       "      <td>0.770243</td>\n",
       "    </tr>\n",
       "    <tr>\n",
       "      <th>MultinomialNB</th>\n",
       "      <td>0.764326</td>\n",
       "    </tr>\n",
       "    <tr>\n",
       "      <th>AdaBoostClassifier</th>\n",
       "      <td>0.726954</td>\n",
       "    </tr>\n",
       "    <tr>\n",
       "      <th>Dummy</th>\n",
       "      <td>0.576534</td>\n",
       "    </tr>\n",
       "    <tr>\n",
       "      <th>RandomForestClassifier</th>\n",
       "      <td>0.576534</td>\n",
       "    </tr>\n",
       "  </tbody>\n",
       "</table>\n",
       "</div>"
      ],
      "text/plain": [
       "                        Accuracy\n",
       "SGDClassifier           0.800607\n",
       "DecisionTreeClassifier  0.770243\n",
       "MultinomialNB           0.764326\n",
       "AdaBoostClassifier      0.726954\n",
       "Dummy                   0.576534\n",
       "RandomForestClassifier  0.576534"
      ]
     },
     "execution_count": 44,
     "metadata": {},
     "output_type": "execute_result"
    }
   ],
   "source": [
    "df_base_classifier = pd.DataFrame.from_dict(base_classifier,orient='index', columns=['Accuracy'])\n",
    "df_base_classifier = df_base_classifier.sort_values(by='Accuracy',ascending=False)\n",
    "df_base_classifier"
   ]
  },
  {
   "cell_type": "markdown",
   "id": "4ba84185-2ec8-47bb-b478-7fb96bcdbb35",
   "metadata": {},
   "source": [
    "## Palavras mais relevantes\n",
    "\n",
    "Palavras mais relevantes para o melhor classificador (SGDClassifier)"
   ]
  },
  {
   "cell_type": "code",
   "execution_count": 45,
   "id": "5f73b73e-7487-426d-9224-256b605e26a0",
   "metadata": {},
   "outputs": [
    {
     "data": {
      "text/plain": [
       "0.8074587355963874"
      ]
     },
     "execution_count": 45,
     "metadata": {},
     "output_type": "execute_result"
    }
   ],
   "source": [
    "vect = TfidfVectorizer(min_df=5,ngram_range=(1,1))\n",
    "X_train_tfidf = vect.fit_transform(X_train)\n",
    "X_test_tfidf = vect.transform(X_test)\n",
    "\n",
    "clf = SGDClassifier(loss='hinge', penalty='l2', alpha=1e-3, random_state=42, max_iter=5, tol=None)\n",
    "clf.fit(X_train_tfidf,y_train)\n",
    "predicted = clf.predict(X_test_tfidf)\n",
    "np.mean(predicted == y_test)"
   ]
  },
  {
   "cell_type": "code",
   "execution_count": 46,
   "id": "f15d8db4-a7e5-4b2d-b287-aa7e753bc980",
   "metadata": {},
   "outputs": [
    {
     "data": {
      "image/png": "[encoded data removed]",
      "text/plain": [
       "<Figure size 1000x800 with 1 Axes>"
      ]
     },
     "metadata": {},
     "output_type": "display_data"
    }
   ],
   "source": [
    "import matplotlib.pyplot as plt\n",
    "\n",
    "average_feature_effects = clf.coef_ * np.asarray(X_train_tfidf.mean(axis=0)).ravel()\n",
    "feature_names = vect.get_feature_names_out()\n",
    "target_names = list(map_targets_name_to_int.keys())\n",
    "\n",
    "for i, label in enumerate(target_names):\n",
    "    top5 = np.argsort(average_feature_effects[i])[-5:][::-1]\n",
    "    if i == 0:\n",
    "        top = pd.DataFrame(feature_names[top5], columns=[label])\n",
    "        top_indices = top5\n",
    "    else:\n",
    "        top[label] = feature_names[top5]\n",
    "        top_indices = np.concatenate((top_indices, top5), axis=None)\n",
    "top_indices = np.unique(top_indices)\n",
    "predictive_words = feature_names[top_indices]\n",
    "\n",
    "# plot feature effects\n",
    "bar_size = 0.25\n",
    "padding = 0.75\n",
    "y_locs = np.arange(len(top_indices)) * (4 * bar_size + padding)\n",
    "\n",
    "fig, ax = plt.subplots(figsize=(10, 8))\n",
    "for i, label in enumerate(target_names):\n",
    "    ax.barh(\n",
    "        y_locs + (i - 2) * bar_size,\n",
    "        average_feature_effects[i, top_indices],\n",
    "        height=bar_size,\n",
    "        label=label,\n",
    "    )\n",
    "ax.set(\n",
    "    yticks=y_locs,\n",
    "    yticklabels=predictive_words,\n",
    "    ylim=[\n",
    "        0 - 4 * bar_size,\n",
    "        len(top_indices) * (4 * bar_size + padding) - 4 * bar_size,\n",
    "    ],\n",
    ")\n",
    "ax.legend(loc=\"lower right\");"
   ]
  },
  {
   "cell_type": "code",
   "execution_count": 47,
   "id": "7b138320-7d55-47c1-9d38-6b024afea1ab",
   "metadata": {},
   "outputs": [
    {
     "data": {
      "text/html": [
       "<div>\n",
       "<style scoped>\n",
       "    .dataframe tbody tr th:only-of-type {\n",
       "        vertical-align: middle;\n",
       "    }\n",
       "\n",
       "    .dataframe tbody tr th {\n",
       "        vertical-align: top;\n",
       "    }\n",
       "\n",
       "    .dataframe thead th {\n",
       "        text-align: right;\n",
       "    }\n",
       "</style>\n",
       "<table border=\"1\" class=\"dataframe\">\n",
       "  <thead>\n",
       "    <tr style=\"text-align: right;\">\n",
       "      <th></th>\n",
       "      <th>Outros</th>\n",
       "      <th>Celulares e Smartphones</th>\n",
       "      <th>Transceptores</th>\n",
       "      <th>Carregadores</th>\n",
       "      <th>Dispositivos de Conexão em Rede</th>\n",
       "      <th>Cabos</th>\n",
       "      <th>Teclados, Mouses e Periféricos</th>\n",
       "      <th>Câmera</th>\n",
       "    </tr>\n",
       "  </thead>\n",
       "  <tbody>\n",
       "    <tr>\n",
       "      <th>0</th>\n",
       "      <td>capa</td>\n",
       "      <td>telefone</td>\n",
       "      <td>ouvido</td>\n",
       "      <td>carregador</td>\n",
       "      <td>wifi</td>\n",
       "      <td>cabo</td>\n",
       "      <td>fio</td>\n",
       "      <td>camera</td>\n",
       "    </tr>\n",
       "    <tr>\n",
       "      <th>1</th>\n",
       "      <td>drone</td>\n",
       "      <td>celular</td>\n",
       "      <td>bluetooth</td>\n",
       "      <td>fio</td>\n",
       "      <td>roteador</td>\n",
       "      <td>usb</td>\n",
       "      <td>teclado</td>\n",
       "      <td>wifi</td>\n",
       "    </tr>\n",
       "    <tr>\n",
       "      <th>2</th>\n",
       "      <td>transmissor</td>\n",
       "      <td>smartphone</td>\n",
       "      <td>fone</td>\n",
       "      <td>carregamento</td>\n",
       "      <td>bluetooth</td>\n",
       "      <td>carregamento</td>\n",
       "      <td>mouse</td>\n",
       "      <td>fio</td>\n",
       "    </tr>\n",
       "    <tr>\n",
       "      <th>3</th>\n",
       "      <td>traseira</td>\n",
       "      <td>ram</td>\n",
       "      <td>fio</td>\n",
       "      <td>bateria</td>\n",
       "      <td>fio</td>\n",
       "      <td>tipo</td>\n",
       "      <td>bluetooth</td>\n",
       "      <td>audio</td>\n",
       "    </tr>\n",
       "    <tr>\n",
       "      <th>4</th>\n",
       "      <td>bateria</td>\n",
       "      <td>tela</td>\n",
       "      <td>som</td>\n",
       "      <td>portatil</td>\n",
       "      <td>antena</td>\n",
       "      <td>dados</td>\n",
       "      <td>usb</td>\n",
       "      <td>seguranca</td>\n",
       "    </tr>\n",
       "  </tbody>\n",
       "</table>\n",
       "</div>"
      ],
      "text/plain": [
       "        Outros Celulares e Smartphones Transceptores  Carregadores  \\\n",
       "0         capa                telefone        ouvido    carregador   \n",
       "1        drone                 celular     bluetooth           fio   \n",
       "2  transmissor              smartphone          fone  carregamento   \n",
       "3     traseira                     ram           fio       bateria   \n",
       "4      bateria                    tela           som      portatil   \n",
       "\n",
       "  Dispositivos de Conexão em Rede         Cabos  \\\n",
       "0                            wifi          cabo   \n",
       "1                        roteador           usb   \n",
       "2                       bluetooth  carregamento   \n",
       "3                             fio          tipo   \n",
       "4                          antena         dados   \n",
       "\n",
       "  Teclados, Mouses e Periféricos     Câmera  \n",
       "0                            fio     camera  \n",
       "1                        teclado       wifi  \n",
       "2                          mouse        fio  \n",
       "3                      bluetooth      audio  \n",
       "4                            usb  seguranca  "
      ]
     },
     "execution_count": 47,
     "metadata": {},
     "output_type": "execute_result"
    }
   ],
   "source": [
    "top"
   ]
  }
 ],
 "metadata": {
  "kernelspec": {
   "display_name": "Python 3 (ipykernel)",
   "language": "python",
   "name": "python3"
  },
  "language_info": {
   "codemirror_mode": {
    "name": "ipython",
    "version": 3
   },
   "file_extension": ".py",
   "mimetype": "text/x-python",
   "name": "python",
   "nbconvert_exporter": "python",
   "pygments_lexer": "ipython3",
   "version": "3.10.12"
  }
 },
 "nbformat": 4,
 "nbformat_minor": 5
}
