{
 "cells": [
  {
   "cell_type": "markdown",
   "id": "b47312c8-4a73-4aa3-b614-7b43580fa498",
   "metadata": {},
   "source": [
    "# Preparação do ambiente"
   ]
  },
  {
   "cell_type": "markdown",
   "id": "25fa99ec-c912-4433-9ec0-0da4b4f6635f",
   "metadata": {},
   "source": [
    "## Bibliotecas"
   ]
  },
  {
   "cell_type": "code",
   "execution_count": 2,
   "id": "52989da2-a5e5-4fad-93a3-36f9d9462161",
   "metadata": {},
   "outputs": [],
   "source": [
    "import matplotlib.pyplot as plt\n",
    "import numpy as np\n",
    "import pandas as pd\n",
    "import re\n",
    "import unidecode\n",
    "import warnings \n",
    "\n",
    "# from joblib import load, dump\n",
    "from joblib import load, dump\n",
    "\n",
    "from nltk import download\n",
    "from nltk.corpus import stopwords\n",
    "from nltk.tokenize import word_tokenize\n",
    "\n",
    "from sklearn.cluster import KMeans\n",
    "from sklearn.decomposition import TruncatedSVD\n",
    "from sklearn.feature_extraction.text import CountVectorizer, TfidfVectorizer, TfidfTransformer\n",
    "from sklearn.linear_model import SGDClassifier\n",
    "from sklearn.metrics import classification_report\n",
    "from sklearn.metrics import ConfusionMatrixDisplay\n",
    "from sklearn.metrics import roc_auc_score\n",
    "from sklearn.metrics import precision_recall_curve, roc_curve\n",
    "from sklearn.model_selection import train_test_split\n",
    "from sklearn.pipeline import Pipeline\n",
    "\n",
    "from string import punctuation\n",
    "\n",
    "from wordcloud import WordCloud"
   ]
  },
  {
   "cell_type": "markdown",
   "id": "eeab38bd-bfd7-4c13-9344-f2ff45111801",
   "metadata": {},
   "source": [
    "## Constantes e funções auxiliares"
   ]
  },
  {
   "cell_type": "code",
   "execution_count": 7,
   "id": "ea62814d-fde8-4327-84a3-34f80b5cc317",
   "metadata": {},
   "outputs": [],
   "source": [
    "FILE_MARKETPLACES = '../datasets/label_issues/20240905/marketplaces.parquet'\n",
    "FILE_SUPERVISAO_MERCADO = '../datasets/label_issues/20240905/supervisao_mercado.xlsx'\n",
    "\n",
    "FILE_MODEL = '../models/experimento_regulatron/exp_clf31_model.joblib'"
   ]
  },
  {
   "cell_type": "markdown",
   "id": "ce5bde4a-70f0-4d17-bb9e-3a07636d3e9d",
   "metadata": {},
   "source": [
    "# Carga e prepação dos dados"
   ]
  },
  {
   "cell_type": "code",
   "execution_count": 23,
   "id": "3c000094-be35-46ee-8686-91e5cf56fc0e",
   "metadata": {},
   "outputs": [],
   "source": [
    "df_marketplaces = pd.read_parquet(FILE_MARKETPLACES)\n",
    "\n",
    "# conjunto de dados\n",
    "docs = df_marketplaces[df_marketplaces['passivel_homologacao']<2]['titulo']\n",
    "targets = df_marketplaces[df_marketplaces['passivel_homologacao']<2]['passivel_homologacao']\n",
    "\n",
    "X_train, X_test, y_train, y_test = train_test_split(docs, targets, test_size=0.25, random_state=724)"
   ]
  },
  {
   "cell_type": "code",
   "execution_count": 24,
   "id": "14b995cd-ec37-4f7b-843d-e646b81b1092",
   "metadata": {},
   "outputs": [],
   "source": [
    "dict_df_mercado = pd.read_excel(\n",
    "    FILE_SUPERVISAO_MERCADO,\n",
    "    sheet_name=None,\n",
    "    usecols=[2,8,10],\n",
    "    names=['texto_busca', 'titulo', 'passivel_homologacao'],\n",
    "    true_values=['Sim', 'sim'],\n",
    "    false_values=['Não','não'],\n",
    "    na_values=['-'])\n",
    "\n",
    "df_list = []\n",
    "for key in dict_df_mercado.keys():\n",
    "    df = dict_df_mercado[key]\n",
    "    df['marketplace'] = key\n",
    "    df_list.append(df)\n",
    "    \n",
    "df_mercado = pd.concat(df_list)\n",
    "df_mercado = df_mercado.dropna()\n",
    "df_mercado['passivel_homologacao'] = df_mercado['passivel_homologacao'].astype(int)\n",
    "\n",
    "map_marketplaces = {\n",
    "    'Amazon': 'Amazon', \n",
    "    'Americanas': 'Lojas Americanas',\n",
    "    'CasasBahia': 'Casas Bahia',\n",
    "    'Magalu': 'Magazine Luiza', \n",
    "    'MercadoLivre': 'Mercado Livre'\n",
    "}\n",
    "\n",
    "df_mercado['marketplace'] = df_mercado['marketplace'].map(map_marketplaces)\n",
    "X_valid, y_valid = df_mercado['titulo'],df_mercado['passivel_homologacao'] "
   ]
  },
  {
   "cell_type": "code",
   "execution_count": 31,
   "id": "7ee4f5fe-f13d-4d91-bc7d-add11e12e666",
   "metadata": {},
   "outputs": [],
   "source": [
    "model = load(FILE_MODEL)\n",
    "clf = model['clf']\n",
    "\n",
    "feature_names = model['vectorizer'].get_feature_names_out()\n",
    "feature_vectors = model['transformer'].transform(model['vectorizer'].transform(X_train))"
   ]
  },
  {
   "cell_type": "markdown",
   "id": "ad603cb3-32e3-40b5-80a1-42acf5b581d8",
   "metadata": {},
   "source": [
    "# Análise"
   ]
  },
  {
   "cell_type": "code",
   "execution_count": 89,
   "id": "3bcc7fab-2d29-4520-a000-83172cadaf92",
   "metadata": {},
   "outputs": [
    {
     "data": {
      "text/html": [
       "<div>\n",
       "<style scoped>\n",
       "    .dataframe tbody tr th:only-of-type {\n",
       "        vertical-align: middle;\n",
       "    }\n",
       "\n",
       "    .dataframe tbody tr th {\n",
       "        vertical-align: top;\n",
       "    }\n",
       "\n",
       "    .dataframe thead th {\n",
       "        text-align: right;\n",
       "    }\n",
       "</style>\n",
       "<table border=\"1\" class=\"dataframe\">\n",
       "  <thead>\n",
       "    <tr style=\"text-align: right;\">\n",
       "      <th></th>\n",
       "      <th>feature</th>\n",
       "      <th>effect</th>\n",
       "    </tr>\n",
       "  </thead>\n",
       "  <tbody>\n",
       "    <tr>\n",
       "      <th>0</th>\n",
       "      <td>bluetooth</td>\n",
       "      <td>0.261349</td>\n",
       "    </tr>\n",
       "    <tr>\n",
       "      <th>1</th>\n",
       "      <td>fio</td>\n",
       "      <td>0.171097</td>\n",
       "    </tr>\n",
       "    <tr>\n",
       "      <th>2</th>\n",
       "      <td>wifi</td>\n",
       "      <td>0.117614</td>\n",
       "    </tr>\n",
       "    <tr>\n",
       "      <th>3</th>\n",
       "      <td>transmissor</td>\n",
       "      <td>0.082917</td>\n",
       "    </tr>\n",
       "    <tr>\n",
       "      <th>4</th>\n",
       "      <td>carregador</td>\n",
       "      <td>0.079656</td>\n",
       "    </tr>\n",
       "    <tr>\n",
       "      <th>...</th>\n",
       "      <td>...</td>\n",
       "      <td>...</td>\n",
       "    </tr>\n",
       "    <tr>\n",
       "      <th>101761</th>\n",
       "      <td>portátil</td>\n",
       "      <td>-0.031636</td>\n",
       "    </tr>\n",
       "    <tr>\n",
       "      <th>101762</th>\n",
       "      <td>peças</td>\n",
       "      <td>-0.054143</td>\n",
       "    </tr>\n",
       "    <tr>\n",
       "      <th>101763</th>\n",
       "      <td>suporte</td>\n",
       "      <td>-0.054423</td>\n",
       "    </tr>\n",
       "    <tr>\n",
       "      <th>101764</th>\n",
       "      <td>cabo</td>\n",
       "      <td>-0.081087</td>\n",
       "    </tr>\n",
       "    <tr>\n",
       "      <th>101765</th>\n",
       "      <td>capa</td>\n",
       "      <td>-0.119055</td>\n",
       "    </tr>\n",
       "  </tbody>\n",
       "</table>\n",
       "<p>101766 rows × 2 columns</p>\n",
       "</div>"
      ],
      "text/plain": [
       "            feature    effect\n",
       "0         bluetooth  0.261349\n",
       "1               fio  0.171097\n",
       "2              wifi  0.117614\n",
       "3       transmissor  0.082917\n",
       "4        carregador  0.079656\n",
       "...             ...       ...\n",
       "101761     portátil -0.031636\n",
       "101762        peças -0.054143\n",
       "101763      suporte -0.054423\n",
       "101764         cabo -0.081087\n",
       "101765         capa -0.119055\n",
       "\n",
       "[101766 rows x 2 columns]"
      ]
     },
     "execution_count": 89,
     "metadata": {},
     "output_type": "execute_result"
    }
   ],
   "source": [
    "# learned coefficients weighted by frequency of appearance\n",
    "average_feature_effects = clf.coef_.ravel() * np.asarray(feature_vectors.mean(axis=0)).ravel()\n",
    "\n",
    "features_indexes = np.argsort(average_feature_effects)[::-1]\n",
    "features_effects = np.vstack([feature_names[top_features_indexes], average_feature_effects[top_features_indexes]]).T\n",
    "df_features_effects = pd.DataFrame(features_effects, columns=['feature','effect'])\n",
    "\n",
    "df_features_effects"
   ]
  }
 ],
 "metadata": {
  "kernelspec": {
   "display_name": "Python 3 (ipykernel)",
   "language": "python",
   "name": "python3"
  },
  "language_info": {
   "codemirror_mode": {
    "name": "ipython",
    "version": 3
   },
   "file_extension": ".py",
   "mimetype": "text/x-python",
   "name": "python",
   "nbconvert_exporter": "python",
   "pygments_lexer": "ipython3",
   "version": "3.10.12"
  }
 },
 "nbformat": 4,
 "nbformat_minor": 5
}
