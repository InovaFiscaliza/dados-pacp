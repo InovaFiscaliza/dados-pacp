{
 "cells": [
  {
   "cell_type": "markdown",
   "id": "b47312c8-4a73-4aa3-b614-7b43580fa498",
   "metadata": {},
   "source": [
    "# Preparação do ambiente"
   ]
  },
  {
   "cell_type": "markdown",
   "id": "25fa99ec-c912-4433-9ec0-0da4b4f6635f",
   "metadata": {},
   "source": [
    "## Bibliotecas"
   ]
  },
  {
   "cell_type": "code",
   "execution_count": 2,
   "id": "52989da2-a5e5-4fad-93a3-36f9d9462161",
   "metadata": {},
   "outputs": [],
   "source": [
    "import matplotlib.pyplot as plt\n",
    "import numpy as np\n",
    "import pandas as pd\n",
    "import re\n",
    "import unidecode\n",
    "import warnings \n",
    "\n",
    "# from joblib import load, dump\n",
    "from joblib import load, dump\n",
    "\n",
    "from nltk import download\n",
    "from nltk.corpus import stopwords\n",
    "from nltk.tokenize import word_tokenize\n",
    "\n",
    "from sklearn.cluster import KMeans\n",
    "from sklearn.decomposition import TruncatedSVD\n",
    "from sklearn.feature_extraction.text import CountVectorizer, TfidfVectorizer, TfidfTransformer\n",
    "from sklearn.linear_model import SGDClassifier\n",
    "from sklearn.metrics import classification_report\n",
    "from sklearn.metrics import ConfusionMatrixDisplay\n",
    "from sklearn.metrics import roc_auc_score\n",
    "from sklearn.metrics import precision_recall_curve, roc_curve\n",
    "from sklearn.model_selection import train_test_split\n",
    "from sklearn.pipeline import Pipeline\n",
    "\n",
    "from string import punctuation\n",
    "\n",
    "from wordcloud import WordCloud"
   ]
  },
  {
   "cell_type": "markdown",
   "id": "eeab38bd-bfd7-4c13-9344-f2ff45111801",
   "metadata": {},
   "source": [
    "## Constantes e funções auxiliares"
   ]
  },
  {
   "cell_type": "code",
   "execution_count": 7,
   "id": "ea62814d-fde8-4327-84a3-34f80b5cc317",
   "metadata": {},
   "outputs": [],
   "source": [
    "FILE_MARKETPLACES = '../datasets/label_issues/20240905/marketplaces.parquet'\n",
    "FILE_SUPERVISAO_MERCADO = '../datasets/label_issues/20240905/supervisao_mercado.xlsx'\n",
    "\n",
    "FILE_MODEL = '../models/experimento_regulatron/exp_clf31_model.joblib'"
   ]
  },
  {
   "cell_type": "markdown",
   "id": "ce5bde4a-70f0-4d17-bb9e-3a07636d3e9d",
   "metadata": {},
   "source": [
    "# Carga e prepação dos dados"
   ]
  },
  {
   "cell_type": "code",
   "execution_count": 23,
   "id": "3c000094-be35-46ee-8686-91e5cf56fc0e",
   "metadata": {},
   "outputs": [],
   "source": [
    "df_marketplaces = pd.read_parquet(FILE_MARKETPLACES)\n",
    "\n",
    "# conjunto de dados\n",
    "docs = df_marketplaces[df_marketplaces['passivel_homologacao']<2]['titulo']\n",
    "targets = df_marketplaces[df_marketplaces['passivel_homologacao']<2]['passivel_homologacao']\n",
    "\n",
    "X_train, X_test, y_train, y_test = train_test_split(docs, targets, test_size=0.25, random_state=724)"
   ]
  },
  {
   "cell_type": "code",
   "execution_count": 24,
   "id": "14b995cd-ec37-4f7b-843d-e646b81b1092",
   "metadata": {},
   "outputs": [],
   "source": [
    "dict_df_mercado = pd.read_excel(\n",
    "    FILE_SUPERVISAO_MERCADO,\n",
    "    sheet_name=None,\n",
    "    usecols=[2,8,10],\n",
    "    names=['texto_busca', 'titulo', 'passivel_homologacao'],\n",
    "    true_values=['Sim', 'sim'],\n",
    "    false_values=['Não','não'],\n",
    "    na_values=['-'])\n",
    "\n",
    "df_list = []\n",
    "for key in dict_df_mercado.keys():\n",
    "    df = dict_df_mercado[key]\n",
    "    df['marketplace'] = key\n",
    "    df_list.append(df)\n",
    "    \n",
    "df_mercado = pd.concat(df_list)\n",
    "df_mercado = df_mercado.dropna()\n",
    "df_mercado['passivel_homologacao'] = df_mercado['passivel_homologacao'].astype(int)\n",
    "\n",
    "map_marketplaces = {\n",
    "    'Amazon': 'Amazon', \n",
    "    'Americanas': 'Lojas Americanas',\n",
    "    'CasasBahia': 'Casas Bahia',\n",
    "    'Magalu': 'Magazine Luiza', \n",
    "    'MercadoLivre': 'Mercado Livre'\n",
    "}\n",
    "\n",
    "df_mercado['marketplace'] = df_mercado['marketplace'].map(map_marketplaces)\n",
    "X_valid, y_valid = df_mercado['titulo'],df_mercado['passivel_homologacao'] "
   ]
  },
  {
   "cell_type": "code",
   "execution_count": 27,
   "id": "7ee4f5fe-f13d-4d91-bc7d-add11e12e666",
   "metadata": {},
   "outputs": [
    {
     "data": {
      "text/plain": [
       "<13045x101766 sparse matrix of type '<class 'numpy.float64'>'\n",
       "\twith 318178 stored elements in Compressed Sparse Row format>"
      ]
     },
     "execution_count": 27,
     "metadata": {},
     "output_type": "execute_result"
    }
   ],
   "source": [
    "model = load(FILE_MODEL)\n",
    "X_train_features = model['transformer'].transform(model['vectorizer'].transform(X_train))"
   ]
  },
  {
   "cell_type": "markdown",
   "id": "ad603cb3-32e3-40b5-80a1-42acf5b581d8",
   "metadata": {},
   "source": [
    "# Análise"
   ]
  }
 ],
 "metadata": {
  "kernelspec": {
   "display_name": "Python 3 (ipykernel)",
   "language": "python",
   "name": "python3"
  },
  "language_info": {
   "codemirror_mode": {
    "name": "ipython",
    "version": 3
   },
   "file_extension": ".py",
   "mimetype": "text/x-python",
   "name": "python",
   "nbconvert_exporter": "python",
   "pygments_lexer": "ipython3",
   "version": "3.10.12"
  }
 },
 "nbformat": 4,
 "nbformat_minor": 5
}
